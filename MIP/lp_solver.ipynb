{
 "cells": [
  {
   "cell_type": "code",
   "execution_count": 1,
   "metadata": {},
   "outputs": [],
   "source": [
    "from pulp import *\n",
    "import utils"
   ]
  },
  {
   "cell_type": "code",
   "execution_count": 43,
   "metadata": {},
   "outputs": [],
   "source": [
    "instance_number = 5\n",
    "file_path = f\"../instances/ins-{instance_number}.txt\"\n",
    "w, n, dims = utils.read_output(file_path)"
   ]
  },
  {
   "cell_type": "code",
   "execution_count": 44,
   "metadata": {},
   "outputs": [],
   "source": [
    "WIDTH = 0\n",
    "HEIGHT = 1"
   ]
  },
  {
   "cell_type": "code",
   "execution_count": 45,
   "metadata": {},
   "outputs": [],
   "source": [
    "upper_bound = sum(dims[:, HEIGHT])\n",
    "k = 4 # Number of constraints"
   ]
  },
  {
   "cell_type": "code",
   "execution_count": 46,
   "metadata": {},
   "outputs": [],
   "source": [
    "prob = LpProblem(\"VLSI\", LpMinimize)"
   ]
  },
  {
   "cell_type": "code",
   "execution_count": 47,
   "metadata": {},
   "outputs": [],
   "source": [
    "L = LpVariable(\"L\", 0, upper_bound, LpInteger)\n",
    "pos_x = LpVariable.dicts(\"pos_x\", range(n), 0, w, LpInteger)\n",
    "pos_y = LpVariable.dicts(\"pos_y\", range(n), 0, upper_bound, LpInteger)"
   ]
  },
  {
   "cell_type": "code",
   "execution_count": 48,
   "metadata": {},
   "outputs": [],
   "source": [
    "M0 = M1 = w\n",
    "M2 = M3 = upper_bound"
   ]
  },
  {
   "cell_type": "code",
   "execution_count": 49,
   "metadata": {},
   "outputs": [],
   "source": [
    "pos_chosen = LpVariable.dict(\"pos_chosen\", (range(n), range(n), range(k)), 0, 1, LpInteger)"
   ]
  },
  {
   "cell_type": "code",
   "execution_count": 50,
   "metadata": {},
   "outputs": [],
   "source": [
    "prob += L"
   ]
  },
  {
   "cell_type": "code",
   "execution_count": 51,
   "metadata": {},
   "outputs": [],
   "source": [
    "for i in range(n):\n",
    "    prob += L >= pos_y[i] + dims[i, HEIGHT]\n",
    "    for j in range(i + 1, n):\n",
    "        prob += pos_x[i] + dims[i, WIDTH] <= pos_x[j] + M0 * pos_chosen[i, j, 0]\n",
    "        prob += pos_x[j] + dims[j, WIDTH] <= pos_x[i] + M1 * pos_chosen[i, j, 1]\n",
    "        prob += pos_y[i] + dims[i, HEIGHT] <= pos_y[j] + M2 * pos_chosen[i, j, 2]\n",
    "        prob += pos_y[j] + dims[j, HEIGHT] <= pos_y[i] + M3 * pos_chosen[i, j, 3]\n",
    "        prob += lpSum([pos_chosen[i, j, k] for k in range(k)]) <= 3\n",
    "\n",
    "        "
   ]
  },
  {
   "cell_type": "code",
   "execution_count": 52,
   "metadata": {},
   "outputs": [
    {
     "name": "stdout",
     "output_type": "stream",
     "text": [
      "Welcome to the CBC MILP Solver \n",
      "Version: 2.10.3 \n",
      "Build Date: Dec 15 2019 \n",
      "\n",
      "command line - /Users/olestole/code/unibo/combinatorial/VLSIdesign/venv/lib/python3.7/site-packages/pulp/apis/../solverdir/cbc/osx/64/cbc /var/folders/vn/xw7vy4yj4p59wc8lpy7gnh200000gn/T/63b3c94abd804e5f86a9e907f72351d1-pulp.mps timeMode elapsed branch printingOptions all solution /var/folders/vn/xw7vy4yj4p59wc8lpy7gnh200000gn/T/63b3c94abd804e5f86a9e907f72351d1-pulp.sol (default strategy 1)\n",
      "At line 2 NAME          MODEL\n",
      "At line 3 ROWS\n",
      "At line 153 COLUMNS\n",
      "At line 877 RHS\n",
      "At line 1026 BOUNDS\n",
      "At line 1156 ENDATA\n",
      "Problem MODEL has 148 rows, 129 columns and 464 elements\n",
      "Coin0008I MODEL read with 0 errors\n",
      "Option for timeMode changed from cpu to elapsed\n",
      "Continuous objective value is 9 - 0.00 seconds\n",
      "Cgl0004I processed model has 148 rows, 129 columns (129 integer (112 of which binary)) and 464 elements\n",
      "Cutoff increment increased from 1e-05 to 0.9999\n",
      "Cbc0045I 1 integer variables out of 129 objects (129 integer) have cost of 1 - high priority\n",
      "Cbc0045I branch on satisfied Y create fake objective Y random cost Y\n",
      "Cbc0038I Initial state - 112 integers unsatisfied sum - 22.75\n",
      "Cbc0038I Pass   1: suminf.   20.25000 (82) obj. 16 iterations 22\n",
      "Cbc0038I Pass   2: suminf.   18.00000 (73) obj. 16 iterations 15\n",
      "Cbc0038I Pass   3: suminf.   17.50000 (71) obj. 16 iterations 4\n",
      "Cbc0038I Pass   4: suminf.    8.68333 (46) obj. 19 iterations 50\n",
      "Cbc0038I Pass   5: suminf.    3.89444 (27) obj. 24 iterations 24\n",
      "Cbc0038I Pass   6: suminf.    1.53333 (13) obj. 33 iterations 21\n",
      "Cbc0038I Pass   7: suminf.    1.00000 (4) obj. 33 iterations 17\n",
      "Cbc0038I Pass   8: suminf.    1.00000 (4) obj. 33 iterations 6\n",
      "Cbc0038I Pass   9: suminf.    0.50000 (2) obj. 33 iterations 10\n",
      "Cbc0038I Pass  10: suminf.    0.50000 (2) obj. 33 iterations 9\n",
      "Cbc0038I Pass  11: suminf.    5.20000 (18) obj. 22 iterations 36\n",
      "Cbc0038I Pass  12: suminf.    4.95000 (17) obj. 22 iterations 4\n",
      "Cbc0038I Pass  13: suminf.    0.00000 (0) obj. 42 iterations 27\n",
      "Cbc0038I Solution found of 42\n",
      "Cbc0038I Cleaned solution of 42\n",
      "Cbc0038I Before mini branch and bound, 2 integers at bound fixed and 0 continuous\n",
      "Cbc0038I Full problem 148 rows 129 columns, reduced to 147 rows 127 columns - 11 fixed gives 138, 116 - still too large\n",
      "Cbc0038I Mini branch and bound did not improve solution (0.01 seconds)\n",
      "Cbc0038I Round again with cutoff of 37.8001\n",
      "Cbc0038I Pass  14: suminf.   20.25000 (82) obj. 16 iterations 0\n",
      "Cbc0038I Pass  15: suminf.   18.00000 (73) obj. 16 iterations 15\n",
      "Cbc0038I Pass  16: suminf.   17.50000 (71) obj. 16 iterations 6\n",
      "Cbc0038I Pass  17: suminf.    6.93333 (41) obj. 19 iterations 57\n",
      "Cbc0038I Pass  18: suminf.    1.91937 (12) obj. 37.8001 iterations 43\n",
      "Cbc0038I Pass  19: suminf.    1.35955 (10) obj. 37.8001 iterations 4\n",
      "Cbc0038I Pass  20: suminf.    1.49955 (7) obj. 37.8001 iterations 7\n",
      "Cbc0038I Pass  21: suminf.    1.24955 (6) obj. 37.8001 iterations 1\n",
      "Cbc0038I Solution found of 37.8001\n",
      "Cbc0038I Branch and bound needed to clear up 5 general integers\n",
      "Cbc0038I Full problem 149 rows 129 columns, reduced to 19 rows 8 columns\n",
      "Cbc0038I Cleaned solution of 37\n",
      "Cbc0038I Before mini branch and bound, 2 integers at bound fixed and 0 continuous\n",
      "Cbc0038I Full problem 148 rows 129 columns, reduced to 147 rows 127 columns - 63 fixed gives 61, 47 - ok now\n",
      "Cbc0038I Full problem 148 rows 129 columns, reduced to 52 rows 40 columns\n",
      "Cbc0038I Mini branch and bound improved solution from 37 to 21 (0.03 seconds)\n",
      "Cbc0038I Round again with cutoff of 17.8001\n",
      "Cbc0038I Pass  22: suminf.   20.25000 (82) obj. 16 iterations 0\n",
      "Cbc0038I Pass  23: suminf.   18.00000 (73) obj. 16 iterations 15\n",
      "Cbc0038I Pass  24: suminf.   17.50000 (71) obj. 16 iterations 6\n",
      "Cbc0038I Pass  25: suminf.   11.56603 (62) obj. 17.8001 iterations 42\n",
      "Cbc0038I Pass  26: suminf.    6.78269 (43) obj. 17.8001 iterations 25\n",
      "Cbc0038I Pass  27: suminf.    1.52404 (13) obj. 17.8001 iterations 41\n",
      "Cbc0038I Pass  28: suminf.    1.88388 (14) obj. 17.8001 iterations 3\n",
      "Cbc0038I Pass  29: suminf.    1.68388 (11) obj. 17.8001 iterations 19\n",
      "Cbc0038I Pass  30: suminf.    1.68388 (11) obj. 17.8001 iterations 16\n",
      "Cbc0038I Pass  31: suminf.    5.55713 (28) obj. 17.8001 iterations 44\n",
      "Cbc0038I Pass  32: suminf.    5.06721 (24) obj. 17.8001 iterations 9\n",
      "Cbc0038I Pass  33: suminf.    2.83277 (13) obj. 17.8001 iterations 22\n",
      "Cbc0038I Pass  34: suminf.    1.17087 (6) obj. 17.8001 iterations 14\n",
      "Cbc0038I Pass  35: suminf.    1.07523 (8) obj. 17.8001 iterations 9\n",
      "Cbc0038I Pass  36: suminf.    1.29968 (6) obj. 17.8001 iterations 6\n",
      "Cbc0038I Pass  37: suminf.    0.94190 (6) obj. 17.8001 iterations 4\n",
      "Cbc0038I Pass  38: suminf.    4.88317 (22) obj. 17.8001 iterations 40\n",
      "Cbc0038I Pass  39: suminf.    4.88317 (22) obj. 17.8001 iterations 2\n",
      "Cbc0038I Pass  40: suminf.    3.58602 (23) obj. 17.8001 iterations 30\n",
      "Cbc0038I Pass  41: suminf.    3.26936 (20) obj. 17.8001 iterations 6\n",
      "Cbc0038I Pass  42: suminf.    3.03269 (16) obj. 17.8001 iterations 18\n",
      "Cbc0038I Pass  43: suminf.    3.03269 (16) obj. 17.8001 iterations 4\n",
      "Cbc0038I Pass  44: suminf.    2.80825 (15) obj. 17.8001 iterations 18\n",
      "Cbc0038I Pass  45: suminf.    2.04166 (11) obj. 17.8001 iterations 11\n",
      "Cbc0038I Pass  46: suminf.    2.39944 (11) obj. 17.8001 iterations 8\n",
      "Cbc0038I Pass  47: suminf.    7.75721 (28) obj. 17.8001 iterations 35\n",
      "Cbc0038I Pass  48: suminf.    6.86388 (28) obj. 17.8001 iterations 9\n",
      "Cbc0038I Pass  49: suminf.    2.96396 (17) obj. 17.8001 iterations 23\n",
      "Cbc0038I Pass  50: suminf.    2.52856 (19) obj. 17.8001 iterations 10\n",
      "Cbc0038I Pass  51: suminf.    3.11968 (14) obj. 17.8001 iterations 27\n",
      "Cbc0038I Pass  52: suminf.    2.64634 (14) obj. 17.8001 iterations 4\n",
      "Cbc0038I Pass  53: suminf.    3.79968 (12) obj. 17.8001 iterations 17\n",
      "Cbc0038I Pass  54: suminf.    3.32634 (11) obj. 17.8001 iterations 3\n",
      "Cbc0038I Pass  55: suminf.    2.98190 (11) obj. 17.8001 iterations 4\n",
      "Cbc0038I Pass  56: suminf.    2.29968 (8) obj. 17.8001 iterations 10\n",
      "Cbc0038I Pass  57: suminf.    2.07071 (9) obj. 17.8001 iterations 2\n",
      "Cbc0038I Pass  58: suminf.    1.85301 (8) obj. 17.8001 iterations 7\n",
      "Cbc0038I Pass  59: suminf.    1.50857 (8) obj. 17.8001 iterations 2\n",
      "Cbc0038I Pass  60: suminf.    2.29968 (8) obj. 17.8001 iterations 8\n",
      "Cbc0038I Pass  61: suminf.    6.26523 (27) obj. 17.8001 iterations 45\n",
      "Cbc0038I Pass  62: suminf.    6.98047 (32) obj. 17.8001 iterations 7\n",
      "Cbc0038I Pass  63: suminf.    4.15634 (18) obj. 17.8001 iterations 38\n",
      "Cbc0038I Pass  64: suminf.    3.10309 (17) obj. 17.8001 iterations 8\n",
      "Cbc0038I Pass  65: suminf.    3.68610 (18) obj. 17.8001 iterations 20\n",
      "Cbc0038I Pass  66: suminf.    3.16840 (18) obj. 17.8001 iterations 5\n",
      "Cbc0038I Pass  67: suminf.    3.21047 (17) obj. 17.8001 iterations 23\n",
      "Cbc0038I Pass  68: suminf.    2.61071 (13) obj. 17.8001 iterations 6\n",
      "Cbc0038I Pass  69: suminf.    2.76166 (15) obj. 17.8001 iterations 18\n",
      "Cbc0038I Pass  70: suminf.    2.33951 (16) obj. 17.8001 iterations 16\n",
      "Cbc0038I Pass  71: suminf.    2.50626 (15) obj. 17.8001 iterations 21\n",
      "Cbc0038I Pass  72: suminf.    6.42499 (32) obj. 17.8001 iterations 49\n",
      "Cbc0038I Pass  73: suminf.    5.34285 (30) obj. 17.8001 iterations 13\n",
      "Cbc0038I Pass  74: suminf.    4.05062 (19) obj. 17.8001 iterations 39\n",
      "Cbc0038I Pass  75: suminf.    3.81721 (18) obj. 17.8001 iterations 5\n",
      "Cbc0038I Pass  76: suminf.    3.01944 (18) obj. 17.8001 iterations 24\n",
      "Cbc0038I Pass  77: suminf.    3.01944 (17) obj. 17.8001 iterations 7\n",
      "Cbc0038I Pass  78: suminf.    4.58610 (17) obj. 17.8001 iterations 28\n",
      "Cbc0038I Pass  79: suminf.    4.00833 (17) obj. 17.8001 iterations 11\n",
      "Cbc0038I Pass  80: suminf.    3.25293 (15) obj. 17.8001 iterations 15\n",
      "Cbc0038I Pass  81: suminf.    2.50420 (13) obj. 17.8001 iterations 5\n",
      "Cbc0038I Pass  82: suminf.    4.38618 (16) obj. 17.8001 iterations 18\n",
      "Cbc0038I Pass  83: suminf.    8.64507 (34) obj. 17.8001 iterations 45\n",
      "Cbc0038I Pass  84: suminf.    6.36952 (31) obj. 17.8001 iterations 16\n",
      "Cbc0038I Pass  85: suminf.    4.98507 (29) obj. 17.8001 iterations 9\n",
      "Cbc0038I Pass  86: suminf.    2.18292 (18) obj. 17.8001 iterations 28\n",
      "Cbc0038I Pass  87: suminf.    2.78610 (16) obj. 17.8001 iterations 24\n",
      "Cbc0038I Pass  88: suminf.    3.33277 (15) obj. 17.8001 iterations 18\n",
      "Cbc0038I Pass  89: suminf.    2.21944 (13) obj. 17.8001 iterations 15\n",
      "Cbc0038I Pass  90: suminf.    2.83277 (13) obj. 17.8001 iterations 19\n",
      "Cbc0038I Pass  91: suminf.    5.34753 (25) obj. 17.8001 iterations 46\n",
      "Cbc0038I Pass  92: suminf.    4.34753 (24) obj. 17.8001 iterations 4\n",
      "Cbc0038I Pass  93: suminf.    4.09753 (23) obj. 17.8001 iterations 4\n",
      "Cbc0038I Pass  94: suminf.    3.60865 (22) obj. 17.8001 iterations 41\n",
      "Cbc0038I Pass  95: suminf.    3.44182 (20) obj. 17.8001 iterations 4\n",
      "Cbc0038I Pass  96: suminf.    2.92618 (17) obj. 17.8001 iterations 26\n",
      "Cbc0038I Pass  97: suminf.    2.41976 (13) obj. 17.8001 iterations 24\n",
      "Cbc0038I Pass  98: suminf.    1.62872 (12) obj. 17.8001 iterations 17\n",
      "Cbc0038I Pass  99: suminf.    8.05062 (40) obj. 17.8001 iterations 51\n",
      "Cbc0038I Pass 100: suminf.    6.80062 (36) obj. 17.8001 iterations 5\n",
      "Cbc0038I Pass 101: suminf.    6.55062 (35) obj. 17.8001 iterations 4\n",
      "Cbc0038I Pass 102: suminf.    2.77063 (13) obj. 17.8001 iterations 48\n",
      "Cbc0038I Pass 103: suminf.    2.77063 (13) obj. 17.8001 iterations 2\n",
      "Cbc0038I Pass 104: suminf.    1.85745 (9) obj. 17.8001 iterations 19\n",
      "Cbc0038I Pass 105: suminf.    1.79968 (8) obj. 17.8001 iterations 12\n",
      "Cbc0038I Pass 106: suminf.    2.31960 (9) obj. 17.8001 iterations 16\n",
      "Cbc0038I Pass 107: suminf.    4.11395 (30) obj. 17.8001 iterations 56\n",
      "Cbc0038I Pass 108: suminf.    4.10951 (28) obj. 17.8001 iterations 10\n",
      "Cbc0038I Pass 109: suminf.    2.69071 (14) obj. 17.8001 iterations 31\n",
      "Cbc0038I Pass 110: suminf.    2.69071 (14) obj. 17.8001 iterations 2\n",
      "Cbc0038I Pass 111: suminf.    2.84404 (13) obj. 17.8001 iterations 21\n",
      "Cbc0038I Pass 112: suminf.    2.68626 (13) obj. 17.8001 iterations 17\n",
      "Cbc0038I Pass 113: suminf.    5.60713 (27) obj. 17.8001 iterations 37\n",
      "Cbc0038I Pass 114: suminf.    5.60713 (27) obj. 17.8001 iterations 1\n",
      "Cbc0038I Pass 115: suminf.    2.12412 (11) obj. 17.8001 iterations 25\n",
      "Cbc0038I Pass 116: suminf.    1.89753 (15) obj. 17.8001 iterations 7\n",
      "Cbc0038I Pass 117: suminf.    2.37087 (14) obj. 17.8001 iterations 21\n",
      "Cbc0038I Pass 118: suminf.    3.33047 (20) obj. 17.8001 iterations 7\n",
      "Cbc0038I Pass 119: suminf.    2.09182 (13) obj. 17.8001 iterations 21\n",
      "Cbc0038I Pass 120: suminf.    1.86404 (13) obj. 17.8001 iterations 2\n",
      "Cbc0038I Pass 121: suminf.    5.91936 (29) obj. 17.8001 iterations 42\n",
      "Cbc0038I No solution found this major pass\n",
      "Cbc0038I Before mini branch and bound, 0 integers at bound fixed and 0 continuous\n",
      "Cbc0038I Full problem 148 rows 129 columns, reduced to 148 rows 129 columns - 63 fixed gives 113, 58 - ok now\n",
      "Cbc0038I Full problem 148 rows 129 columns, reduced to 104 rows 58 columns\n",
      "Cbc0038I Mini branch and bound did not improve solution (0.13 seconds)\n",
      "Cbc0038I After 0.13 seconds - Feasibility pump exiting with objective of 21 - took 0.12 seconds\n",
      "Cbc0012I Integer solution of 21 found by feasibility pump after 0 iterations and 0 nodes (0.13 seconds)\n",
      "Cbc0031I 40 added rows had average density of 28.85\n",
      "Cbc0013I At root node, 40 cuts changed objective from 9 to 9 in 100 passes\n",
      "Cbc0014I Cut generator 0 (Probing) - 1064 row cuts average 2.3 elements, 1 column cuts (1 active)  in 0.045 seconds - new frequency is -100\n",
      "Cbc0014I Cut generator 1 (Gomory) - 2315 row cuts average 89.9 elements, 0 column cuts (0 active)  in 0.065 seconds - new frequency is -100\n",
      "Cbc0014I Cut generator 2 (Knapsack) - 0 row cuts average 0.0 elements, 0 column cuts (0 active)  in 0.014 seconds - new frequency is -100\n",
      "Cbc0014I Cut generator 3 (Clique) - 0 row cuts average 0.0 elements, 0 column cuts (0 active)  in 0.002 seconds - new frequency is -100\n",
      "Cbc0014I Cut generator 4 (MixedIntegerRounding2) - 666 row cuts average 2.0 elements, 0 column cuts (0 active)  in 0.018 seconds - new frequency is -100\n",
      "Cbc0014I Cut generator 5 (FlowCover) - 0 row cuts average 0.0 elements, 0 column cuts (0 active)  in 0.031 seconds - new frequency is -100\n",
      "Cbc0014I Cut generator 6 (TwoMirCuts) - 947 row cuts average 8.6 elements, 0 column cuts (0 active)  in 0.031 seconds - new frequency is -100\n",
      "Cbc0014I Cut generator 7 (ZeroHalf) - 68 row cuts average 2.0 elements, 0 column cuts (0 active)  in 0.837 seconds - new frequency is -100\n",
      "Cbc0010I After 0 nodes, 1 on tree, 21 best solution, best possible 9 (2.06 seconds)\n",
      "Cbc0038I Full problem 148 rows 129 columns, reduced to 98 rows 74 columns\n",
      "Cbc0038I Full problem 148 rows 129 columns, reduced to 67 rows 50 columns\n",
      "Cbc0038I Full problem 148 rows 129 columns, reduced to 64 rows 53 columns\n",
      "Cbc0038I Full problem 148 rows 129 columns, reduced to 92 rows 66 columns\n",
      "Cbc0038I Full problem 148 rows 129 columns, reduced to 88 rows 66 columns\n",
      "Cbc0038I Full problem 148 rows 129 columns, reduced to 84 rows 68 columns\n",
      "Cbc0038I Full problem 148 rows 129 columns, reduced to 57 rows 47 columns\n",
      "Cbc0010I After 1000 nodes, 2 on tree, 21 best solution, best possible 11 (9.16 seconds)\n",
      "Cbc0038I Full problem 148 rows 129 columns, reduced to 111 rows 84 columns - 49 fixed gives 18, 13 - ok now\n",
      "Cbc0016I Integer solution of 12 found by strong branching after 28642 iterations and 1139 nodes (11.10 seconds)\n",
      "Cbc0001I Search completed - best objective 12, took 547676 iterations and 110058 nodes (11.11 seconds)\n",
      "Cbc0032I Strong branching done 12742 times (79668 iterations), fathomed 286 nodes and fixed 860 variables\n",
      "Cbc0041I Maximum depth 17, 0 variables fixed on reduced cost (complete fathoming 207 times, 108919 nodes taking 519031 iterations)\n",
      "Cuts at root node changed objective from 9 to 9\n",
      "Probing was tried 100 times and created 1065 cuts of which 0 were active after adding rounds of cuts (0.045 seconds)\n",
      "Gomory was tried 100 times and created 2315 cuts of which 0 were active after adding rounds of cuts (0.065 seconds)\n",
      "Knapsack was tried 100 times and created 0 cuts of which 0 were active after adding rounds of cuts (0.014 seconds)\n",
      "Clique was tried 100 times and created 0 cuts of which 0 were active after adding rounds of cuts (0.002 seconds)\n",
      "MixedIntegerRounding2 was tried 100 times and created 666 cuts of which 0 were active after adding rounds of cuts (0.018 seconds)\n",
      "FlowCover was tried 100 times and created 0 cuts of which 0 were active after adding rounds of cuts (0.031 seconds)\n",
      "TwoMirCuts was tried 100 times and created 947 cuts of which 0 were active after adding rounds of cuts (0.031 seconds)\n",
      "ZeroHalf was tried 100 times and created 68 cuts of which 0 were active after adding rounds of cuts (0.837 seconds)\n",
      "ImplicationCuts was tried 45 times and created 644 cuts of which 0 were active after adding rounds of cuts (0.044 seconds)\n",
      "\n",
      "Result - Optimal solution found\n",
      "\n",
      "Objective value:                12.00000000\n",
      "Enumerated nodes:               110058\n",
      "Total iterations:               547676\n",
      "Time (CPU seconds):             10.06\n",
      "Time (Wallclock seconds):       11.12\n",
      "\n",
      "Option for printingOptions changed from normal to all\n",
      "Total time (CPU seconds):       10.06   (Wallclock seconds):       11.12\n",
      "\n"
     ]
    }
   ],
   "source": [
    "status = prob.solve()"
   ]
  },
  {
   "cell_type": "code",
   "execution_count": 53,
   "metadata": {},
   "outputs": [
    {
     "data": {
      "text/plain": [
       "'Optimal'"
      ]
     },
     "execution_count": 53,
     "metadata": {},
     "output_type": "execute_result"
    }
   ],
   "source": [
    "LpStatus[status]"
   ]
  },
  {
   "cell_type": "code",
   "execution_count": 54,
   "metadata": {},
   "outputs": [
    {
     "name": "stdout",
     "output_type": "stream",
     "text": [
      "value of L: 12.0\n",
      "6.0 6.0\n",
      "12.0 8.0\n",
      "9.0 7.0\n",
      "6.0 0.0\n",
      "9.0 0.0\n",
      "12.0 0.0\n",
      "3.0 0.0\n",
      "3.0 9.0\n"
     ]
    }
   ],
   "source": [
    "print(f\"value of L: {value(L)}\")\n",
    "for i in range(n):\n",
    "    print(value(pos_x[i]), value(pos_y[i]))"
   ]
  },
  {
   "cell_type": "code",
   "execution_count": null,
   "metadata": {},
   "outputs": [],
   "source": []
  }
 ],
 "metadata": {
  "interpreter": {
   "hash": "9717342062b60acdb94543fc6e94083b4e6a13af0edd7bd45e1b103ee3fa2234"
  },
  "kernelspec": {
   "display_name": "Python 3.7.9 ('venv': venv)",
   "language": "python",
   "name": "python3"
  },
  "language_info": {
   "codemirror_mode": {
    "name": "ipython",
    "version": 3
   },
   "file_extension": ".py",
   "mimetype": "text/x-python",
   "name": "python",
   "nbconvert_exporter": "python",
   "pygments_lexer": "ipython3",
   "version": "3.7.9"
  },
  "orig_nbformat": 4
 },
 "nbformat": 4,
 "nbformat_minor": 2
}
