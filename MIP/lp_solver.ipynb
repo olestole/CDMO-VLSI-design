{
 "cells": [
  {
   "cell_type": "code",
   "execution_count": 1,
   "metadata": {},
   "outputs": [],
   "source": [
    "from pulp import *\n",
    "import utils"
   ]
  },
  {
   "cell_type": "code",
   "execution_count": 2,
   "metadata": {},
   "outputs": [],
   "source": [
    "INSTANCE_NUMBER = 5\n",
    "ALL_SOLUTIONS = False\n",
    "ROTATION = True\n",
    "\n",
    "file_path = f\"../instances/ins-{INSTANCE_NUMBER}.txt\"\n",
    "w, n, dims = utils.read_output(file_path)"
   ]
  },
  {
   "cell_type": "code",
   "execution_count": 3,
   "metadata": {},
   "outputs": [],
   "source": [
    "WIDTH = 0\n",
    "HEIGHT = 1"
   ]
  },
  {
   "cell_type": "code",
   "execution_count": 4,
   "metadata": {},
   "outputs": [],
   "source": [
    "upper_bound = sum(dims[:, HEIGHT])\n",
    "k = 4"
   ]
  },
  {
   "cell_type": "code",
   "execution_count": 5,
   "metadata": {},
   "outputs": [],
   "source": [
    "prob = LpProblem(\"VLSI\", LpMinimize)"
   ]
  },
  {
   "cell_type": "code",
   "execution_count": 6,
   "metadata": {},
   "outputs": [],
   "source": [
    "L = LpVariable(\"L\", 0, upper_bound, LpInteger)\n",
    "pos_x = LpVariable.dicts(\"pos_x\", range(n), 0, w, LpInteger)\n",
    "pos_y = LpVariable.dicts(\"pos_y\", range(n), 0, upper_bound, LpInteger)"
   ]
  },
  {
   "cell_type": "code",
   "execution_count": 7,
   "metadata": {},
   "outputs": [],
   "source": [
    "M0 = M1 = w\n",
    "M2 = M3 = upper_bound"
   ]
  },
  {
   "cell_type": "code",
   "execution_count": 8,
   "metadata": {},
   "outputs": [],
   "source": [
    "pos_chosen = LpVariable.dict(\"pos_chosen\", (range(n), range(n), range(k)), 0, 1, LpInteger)\n",
    "rotated = LpVariable.dict(\"rotated\", range(n), 0, 1, LpInteger)"
   ]
  },
  {
   "cell_type": "code",
   "execution_count": 9,
   "metadata": {},
   "outputs": [],
   "source": [
    "prob += L"
   ]
  },
  {
   "cell_type": "code",
   "execution_count": 10,
   "metadata": {},
   "outputs": [
    {
     "data": {
      "text/plain": [
       "'if ROTATION:\\n    for i in range(n):\\n        prob += L >= pos_y[i] + dims[i, HEIGHT]\\n        for j in range(i + 1, n):\\n            prob += pos_x[i] + dims[i, WIDTH] <= pos_x[j] + M0 * (pos_chosen[i, j, 0] + rotated[i])\\n            #prob += pos_x[j] + dims[j, WIDTH] <= pos_x[i] + M1 * (pos_chosen[i, j, 1] + rotated[j, 0])\\n            prob += pos_x[j] + dims[j, WIDTH] <= pos_x[i] + M1 * (pos_chosen[i, j, 1] + rotated[j])\\n            prob += pos_y[i] + dims[i, HEIGHT] <= pos_y[j] + M2 * (pos_chosen[i, j, 2] + rotated[i])\\n            prob += pos_y[j] + dims[j, HEIGHT] <= pos_y[i] + M3 * (pos_chosen[i, j, 3] + rotated[j])\\n            #prob += pos_y[j] + dims[j, HEIGHT] <= pos_y[i] + M3 * (pos_chosen[i, j, 3] + rotated[j, 0])\\n            \\n            prob += pos_x[i] + dims[i, HEIGHT] <= pos_x[j] + M0 * (pos_chosen[i, j, 0] + (1 - rotated[i]))\\n            prob += pos_x[j] + dims[j, HEIGHT] <= pos_x[i] + M1 * (pos_chosen[i, j, 1] + (1-rotated[j]))\\n            prob += pos_y[i] + dims[i, WIDTH] <= pos_y[j] + M2 * (pos_chosen[i, j, 2] + (1-rotated[i]))\\n            prob += pos_y[j] + dims[j, WIDTH] <= pos_y[i] + M3 * (pos_chosen[i, j, 3] + (1-rotated[j]))\\n        \\n            prob += lpSum([pos_chosen[i, j, k] for k in range(k)]) <= 3\\n            #prob += lpSum(rotated[j,k] for k in range(2)) == 1\\n\\n           \\n        if i==(n-1):\\n                prob += pos_x[i] + dims[j, WIDTH] <= M0 * (pos_chosen[i, i, 0] + rotated[i, 0])\\n                prob += pos_y[i] + dims[j, HEIGHT] <= M2 * (pos_chosen[i, i, 2] + rotated[i, 0])\\n                prob += pos_x[i] + dims[i, HEIGHT] <= M1 * (pos_chosen[i, i, 1] + rotated[i,1])\\n                prob += pos_y[i] + dims[i, WIDTH] <= M3 * (pos_chosen[i, i, 3] + rotated[i,1])  \\n                prob += lpSum([pos_chosen[i, i, k] for k in range(k)]) <= 3   \\n                prob += lpSum(rotated[i,k] for k in range(2)) == 1\\n       '"
      ]
     },
     "execution_count": 10,
     "metadata": {},
     "output_type": "execute_result"
    }
   ],
   "source": [
    "\"\"\"if ROTATION:\n",
    "    for i in range(n):\n",
    "        prob += L >= pos_y[i] + dims[i, HEIGHT]\n",
    "        for j in range(i + 1, n):\n",
    "            prob += pos_x[i] + dims[i, WIDTH] <= pos_x[j] + M0 * (pos_chosen[i, j, 0] + rotated[i])\n",
    "            #prob += pos_x[j] + dims[j, WIDTH] <= pos_x[i] + M1 * (pos_chosen[i, j, 1] + rotated[j, 0])\n",
    "            prob += pos_x[j] + dims[j, WIDTH] <= pos_x[i] + M1 * (pos_chosen[i, j, 1] + rotated[j])\n",
    "            prob += pos_y[i] + dims[i, HEIGHT] <= pos_y[j] + M2 * (pos_chosen[i, j, 2] + rotated[i])\n",
    "            prob += pos_y[j] + dims[j, HEIGHT] <= pos_y[i] + M3 * (pos_chosen[i, j, 3] + rotated[j])\n",
    "            #prob += pos_y[j] + dims[j, HEIGHT] <= pos_y[i] + M3 * (pos_chosen[i, j, 3] + rotated[j, 0])\n",
    "            \n",
    "            prob += pos_x[i] + dims[i, HEIGHT] <= pos_x[j] + M0 * (pos_chosen[i, j, 0] + (1 - rotated[i]))\n",
    "            prob += pos_x[j] + dims[j, HEIGHT] <= pos_x[i] + M1 * (pos_chosen[i, j, 1] + (1-rotated[j]))\n",
    "            prob += pos_y[i] + dims[i, WIDTH] <= pos_y[j] + M2 * (pos_chosen[i, j, 2] + (1-rotated[i]))\n",
    "            prob += pos_y[j] + dims[j, WIDTH] <= pos_y[i] + M3 * (pos_chosen[i, j, 3] + (1-rotated[j]))\n",
    "        \n",
    "            prob += lpSum([pos_chosen[i, j, k] for k in range(k)]) <= 3\n",
    "            #prob += lpSum(rotated[j,k] for k in range(2)) == 1\n",
    "\n",
    "           \n",
    "        if i==(n-1):\n",
    "                prob += pos_x[i] + dims[j, WIDTH] <= M0 * (pos_chosen[i, i, 0] + rotated[i, 0])\n",
    "                prob += pos_y[i] + dims[j, HEIGHT] <= M2 * (pos_chosen[i, i, 2] + rotated[i, 0])\n",
    "                prob += pos_x[i] + dims[i, HEIGHT] <= M1 * (pos_chosen[i, i, 1] + rotated[i,1])\n",
    "                prob += pos_y[i] + dims[i, WIDTH] <= M3 * (pos_chosen[i, i, 3] + rotated[i,1])  \n",
    "                prob += lpSum([pos_chosen[i, i, k] for k in range(k)]) <= 3   \n",
    "                prob += lpSum(rotated[i,k] for k in range(2)) == 1\n",
    "       \"\"\"\n",
    "\n",
    "        "
   ]
  },
  {
   "cell_type": "code",
   "execution_count": 11,
   "metadata": {},
   "outputs": [
    {
     "data": {
      "text/plain": [
       "{0: pos_x_0,\n",
       " 1: pos_x_1,\n",
       " 2: pos_x_2,\n",
       " 3: pos_x_3,\n",
       " 4: pos_x_4,\n",
       " 5: pos_x_5,\n",
       " 6: pos_x_6,\n",
       " 7: pos_x_7}"
      ]
     },
     "execution_count": 11,
     "metadata": {},
     "output_type": "execute_result"
    }
   ],
   "source": [
    "pos_x"
   ]
  },
  {
   "cell_type": "code",
   "execution_count": 12,
   "metadata": {},
   "outputs": [
    {
     "data": {
      "text/plain": [
       "{0: rotated_0,\n",
       " 1: rotated_1,\n",
       " 2: rotated_2,\n",
       " 3: rotated_3,\n",
       " 4: rotated_4,\n",
       " 5: rotated_5,\n",
       " 6: rotated_6,\n",
       " 7: rotated_7}"
      ]
     },
     "execution_count": 12,
     "metadata": {},
     "output_type": "execute_result"
    }
   ],
   "source": [
    "rotated"
   ]
  },
  {
   "cell_type": "code",
   "execution_count": 13,
   "metadata": {},
   "outputs": [],
   "source": [
    "if ROTATION:\n",
    "    for i in range(n):\n",
    "        prob += L >= pos_y[i] + dims[i, HEIGHT]*(1-rotated[i])+ rotated[i]*dims[i, WIDTH]\n",
    "        for j in range(i + 1, n):\n",
    "            prob += pos_x[i] + (1-rotated[i])*dims[i, WIDTH] + rotated[i]*dims[i, HEIGHT]<= pos_x[j] + M0 * (pos_chosen[i, j, 0])\n",
    "            prob += pos_x[j] + (1-rotated[j])*dims[j, WIDTH] + rotated[j]*dims[j, HEIGHT] <= pos_x[i] + M1 * (pos_chosen[i, j, 1])\n",
    "            prob += pos_y[i] + (1-rotated[i])*dims[i, HEIGHT] + rotated[i]*dims[i, WIDTH]<= pos_y[j] + M2 * (pos_chosen[i, j, 2])\n",
    "            prob += pos_y[j] + (1-rotated[j])*dims[j, HEIGHT] + rotated[j]*dims[j, WIDTH]<= pos_y[i] + M3 * (pos_chosen[i, j, 3])\n",
    "            prob += lpSum([pos_chosen[i, j, k] for k in range(k)]) <= 3\n",
    "\n",
    "    prob += pos_x[n-1] + (1-rotated[n-1])*dims[n-1, WIDTH] + rotated[n-1]*dims[n-1, HEIGHT] <= M1   \n",
    "   "
   ]
  },
  {
   "cell_type": "code",
   "execution_count": 14,
   "metadata": {},
   "outputs": [],
   "source": [
    "if not ROTATION:\n",
    "    for i in range(n):\n",
    "        prob += L >= pos_y[i] + dims[i, HEIGHT]\n",
    "        for j in range(i + 1, n):\n",
    "            prob += pos_x[i] + dims[i, WIDTH] <= pos_x[j] + M0 * pos_chosen[i, j, 0]\n",
    "            prob += pos_x[j] + dims[j, WIDTH] <= pos_x[i] + M1 * pos_chosen[i, j, 1]\n",
    "            prob += pos_y[i] + dims[i, HEIGHT] <= pos_y[j] + M2 * pos_chosen[i, j, 2]\n",
    "            prob += pos_y[j] + dims[j, HEIGHT] <= pos_y[i] + M3 * pos_chosen[i, j, 3]\n",
    "            prob += lpSum([pos_chosen[i, j, k] for k in range(k)]) <= k - 1\n"
   ]
  },
  {
   "cell_type": "code",
   "execution_count": 15,
   "metadata": {},
   "outputs": [],
   "source": [
    "status = prob.solve()"
   ]
  },
  {
   "cell_type": "code",
   "execution_count": null,
   "metadata": {},
   "outputs": [
    {
     "data": {
      "text/plain": [
       "'Optimal'"
      ]
     },
     "execution_count": 16,
     "metadata": {},
     "output_type": "execute_result"
    }
   ],
   "source": [
    "LpStatus[status]"
   ]
  },
  {
   "cell_type": "code",
   "execution_count": null,
   "metadata": {},
   "outputs": [
    {
     "name": "stdout",
     "output_type": "stream",
     "text": [
      "value of L: 11.0\n",
      "0\n",
      "8.0 0.0\n",
      "1\n",
      "8.0 7.0\n",
      "2\n",
      "0.0 0.0\n",
      "3\n",
      "0.0 5.0\n",
      "4\n",
      "3.0 0.0\n",
      "5\n",
      "3.0 7.0\n",
      "6\n",
      "3.0 3.0\n"
     ]
    }
   ],
   "source": [
    "print(f\"value of L: {value(L)}\")\n",
    "sol = []\n",
    "sol.append([w, value(L)])\n",
    "sol.append([n])\n",
    "for i in range(n):\n",
    "    print(i)\n",
    "    \n",
    "    width = dims[i, int(value(rotated[i]))]\n",
    "    height = dims[i, 1-int(value(rotated[i]))]\n",
    "    \n",
    "    sol.append([width, height, int(value(pos_x[i])), int(value(pos_y[i]))])\n",
    "    print(value(pos_x[i]), value(pos_y[i]))"
   ]
  },
  {
   "cell_type": "code",
   "execution_count": null,
   "metadata": {},
   "outputs": [],
   "source": [
    "import matplotlib.pyplot as plt\n",
    "import numpy as np\n",
    "import matplotlib.patches as patches\n",
    "import math\n",
    "import os\n",
    "\n",
    "def visualize_output(output, dims):\n",
    "    w = output[0][0]\n",
    "    l = output[0][1]\n",
    "    n = output[1][0]\n",
    "\n",
    "    colors = np.array(['red', 'green', 'blue', 'yellow', 'orange', 'pink', 'purple', 'brown']*(math.ceil(n/8)))\n",
    "\n",
    "\n",
    "    fig = plt.figure(figsize=(w/2, l/2))\n",
    "    ax = fig.gca()\n",
    "    ax.set_xticks(np.arange(0, w+1, 1))\n",
    "    ax.set_yticks(np.arange(0, l+1, 1))\n",
    "    plt.grid()\n",
    "    for i, [width, height, x, y] in enumerate(np.array(output[2:])):\n",
    "        rect = patches.Rectangle((x, y), width, height, linewidth=3, edgecolor='black', facecolor=colors[i])\n",
    "        ax.add_patch(rect)\n",
    "        if (width != dims[i, 0]):\n",
    "            ax.text(x+width/2-0.7, y+height/2, 'Rotated')\n",
    "    plt.show()\n",
    "    return fig"
   ]
  },
  {
   "cell_type": "code",
   "execution_count": null,
   "metadata": {},
   "outputs": [
    {
     "data": {
      "image/png": "[encoded data removed]",
      "text/plain": [
       "<Figure size 396x396 with 1 Axes>"
      ]
     },
     "metadata": {
      "needs_background": "light"
     },
     "output_type": "display_data"
    },
    {
     "data": {
      "image/png": "[encoded data removed]",
      "text/plain": [
       "<Figure size 396x396 with 1 Axes>"
      ]
     },
     "execution_count": 19,
     "metadata": {},
     "output_type": "execute_result"
    }
   ],
   "source": [
    "visualize_output(sol, dims)"
   ]
  },
  {
   "cell_type": "code",
   "execution_count": null,
   "metadata": {},
   "outputs": [],
   "source": []
  },
  {
   "cell_type": "code",
   "execution_count": null,
   "metadata": {},
   "outputs": [],
   "source": []
  },
  {
   "cell_type": "code",
   "execution_count": null,
   "metadata": {},
   "outputs": [],
   "source": []
  },
  {
   "cell_type": "code",
   "execution_count": null,
   "metadata": {},
   "outputs": [],
   "source": []
  },
  {
   "cell_type": "code",
   "execution_count": null,
   "metadata": {},
   "outputs": [],
   "source": []
  }
 ],
 "metadata": {
  "interpreter": {
   "hash": "aee8b7b246df8f9039afb4144a1f6fd8d2ca17a180786b69acc140d282b71a49"
  },
  "kernelspec": {
   "display_name": "Python 3.9.9 64-bit",
   "language": "python",
   "name": "python3"
  },
  "language_info": {
   "codemirror_mode": {
    "name": "ipython",
    "version": 3
   },
   "file_extension": ".py",
   "mimetype": "text/x-python",
   "name": "python",
   "nbconvert_exporter": "python",
   "pygments_lexer": "ipython3",
   "version": "3.9.9"
  },
  "orig_nbformat": 4
 },
 "nbformat": 4,
 "nbformat_minor": 2
}
