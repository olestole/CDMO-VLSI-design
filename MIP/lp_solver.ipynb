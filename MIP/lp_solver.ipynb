{
 "cells": [
  {
   "cell_type": "code",
   "execution_count": 16,
   "metadata": {},
   "outputs": [],
   "source": [
    "from pulp import *\n",
    "import utils"
   ]
  },
  {
   "cell_type": "code",
   "execution_count": 17,
   "metadata": {},
   "outputs": [],
   "source": [
    "INSTANCE_NUMBER = 2\n",
    "ALL_SOLUTIONS = False\n",
    "ROTATION = True\n",
    "\n",
    "file_path = f\"../instances/ins-{INSTANCE_NUMBER}.txt\"\n",
    "w, n, dims = utils.read_output(file_path)"
   ]
  },
  {
   "cell_type": "code",
   "execution_count": 18,
   "metadata": {},
   "outputs": [],
   "source": [
    "WIDTH = 0\n",
    "HEIGHT = 1"
   ]
  },
  {
   "cell_type": "code",
   "execution_count": 19,
   "metadata": {},
   "outputs": [],
   "source": [
    "upper_bound = sum(dims[:, HEIGHT])\n",
    "k = 4"
   ]
  },
  {
   "cell_type": "code",
   "execution_count": 20,
   "metadata": {},
   "outputs": [],
   "source": [
    "prob = LpProblem(\"VLSI\", LpMinimize)"
   ]
  },
  {
   "cell_type": "code",
   "execution_count": 21,
   "metadata": {},
   "outputs": [],
   "source": [
    "L = LpVariable(\"L\", 0, upper_bound, LpInteger)\n",
    "pos_x = LpVariable.dicts(\"pos_x\", range(n), 0, w, LpInteger)\n",
    "pos_y = LpVariable.dicts(\"pos_y\", range(n), 0, upper_bound, LpInteger)"
   ]
  },
  {
   "cell_type": "code",
   "execution_count": 22,
   "metadata": {},
   "outputs": [],
   "source": [
    "M0 = M1 = w\n",
    "M2 = M3 = upper_bound"
   ]
  },
  {
   "cell_type": "code",
   "execution_count": 23,
   "metadata": {},
   "outputs": [],
   "source": [
    "pos_chosen = LpVariable.dict(\"pos_chosen\", (range(n), range(n), range(k)), 0, 1, LpInteger)\n",
    "rotated = LpVariable.dict(\"rotated\", range(n), 0, 1, LpInteger)"
   ]
  },
  {
   "cell_type": "code",
   "execution_count": 24,
   "metadata": {},
   "outputs": [],
   "source": [
    "prob += L"
   ]
  },
  {
   "cell_type": "code",
   "execution_count": 25,
   "metadata": {},
   "outputs": [],
   "source": [
    "if ROTATION:\n",
    "    for i in range(n):\n",
    "        prob += L >= pos_y[i] + dims[i, HEIGHT]*(1-rotated[i])+ rotated[i]*dims[i, WIDTH]\n",
    "        for j in range(i + 1, n):\n",
    "            prob += pos_x[i] + (1-rotated[i])*dims[i, WIDTH] + rotated[i]*dims[i, HEIGHT]<= pos_x[j] + M0 * (pos_chosen[i, j, 0])\n",
    "            prob += pos_x[j] + (1-rotated[j])*dims[j, WIDTH] + rotated[j]*dims[j, HEIGHT] <= pos_x[i] + M1 * (pos_chosen[i, j, 1])\n",
    "            prob += pos_y[i] + (1-rotated[i])*dims[i, HEIGHT] + rotated[i]*dims[i, WIDTH]<= pos_y[j] + M2 * (pos_chosen[i, j, 2])\n",
    "            prob += pos_y[j] + (1-rotated[j])*dims[j, HEIGHT] + rotated[j]*dims[j, WIDTH]<= pos_y[i] + M3 * (pos_chosen[i, j, 3])\n",
    "            prob += lpSum([pos_chosen[i, j, k] for k in range(k)]) <= 3\n",
    "\n",
    "    prob += pos_x[n-1] + (1-rotated[n-1])*dims[n-1, WIDTH] + rotated[n-1]*dims[n-1, HEIGHT] <= M1   \n",
    "   "
   ]
  },
  {
   "cell_type": "code",
   "execution_count": 26,
   "metadata": {},
   "outputs": [],
   "source": [
    "if not ROTATION:\n",
    "    for i in range(n):\n",
    "        prob += L >= pos_y[i] + dims[i, HEIGHT]\n",
    "        for j in range(i + 1, n):\n",
    "            prob += pos_x[i] + dims[i, WIDTH] <= pos_x[j] + M0 * pos_chosen[i, j, 0]\n",
    "            prob += pos_x[j] + dims[j, WIDTH] <= pos_x[i] + M1 * pos_chosen[i, j, 1]\n",
    "            prob += pos_y[i] + dims[i, HEIGHT] <= pos_y[j] + M2 * pos_chosen[i, j, 2]\n",
    "            prob += pos_y[j] + dims[j, HEIGHT] <= pos_y[i] + M3 * pos_chosen[i, j, 3]\n",
    "            prob += lpSum([pos_chosen[i, j, k] for k in range(k)]) <= k - 1\n"
   ]
  },
  {
   "cell_type": "code",
   "execution_count": 27,
   "metadata": {},
   "outputs": [
    {
     "name": "stdout",
     "output_type": "stream",
     "text": [
      "Welcome to the CBC MILP Solver \n",
      "Version: 2.10.3 \n",
      "Build Date: Dec 15 2019 \n",
      "\n",
      "command line - /usr/local/lib/python3.9/site-packages/pulp/apis/../solverdir/cbc/osx/64/cbc /var/folders/t4/vnxj6kkj2n97knry5lnrscx00000gn/T/148b1366a7f1497cba79b61a80b5da47-pulp.mps timeMode elapsed branch printingOptions all solution /var/folders/t4/vnxj6kkj2n97knry5lnrscx00000gn/T/148b1366a7f1497cba79b61a80b5da47-pulp.sol (default strategy 1)\n",
      "At line 2 NAME          MODEL\n",
      "At line 3 ROWS\n",
      "At line 61 COLUMNS\n",
      "At line 392 RHS\n",
      "At line 449 BOUNDS\n",
      "At line 506 ENDATA\n",
      "Problem MODEL has 56 rows, 56 columns and 208 elements\n",
      "Coin0008I MODEL read with 0 errors\n",
      "Option for timeMode changed from cpu to elapsed\n",
      "Continuous objective value is 3 - 0.00 seconds\n",
      "Cgl0004I processed model has 56 rows, 55 columns (55 integer (44 of which binary)) and 208 elements\n",
      "Cutoff increment increased from 1e-05 to 0.9999\n",
      "Cbc0038I Initial state - 36 integers unsatisfied sum - 8.44444\n",
      "Cbc0038I Pass   1: suminf.    3.88889 (19) obj. 6 iterations 24\n",
      "Cbc0038I Pass   2: suminf.    1.00000 (3) obj. 9 iterations 25\n",
      "Cbc0038I Pass   3: suminf.    1.00000 (3) obj. 9 iterations 0\n",
      "Cbc0038I Pass   4: suminf.    0.77778 (2) obj. 12 iterations 4\n",
      "Cbc0038I Solution found of 12\n",
      "Cbc0038I Cleaned solution of 12\n",
      "Cbc0038I Before mini branch and bound, 12 integers at bound fixed and 0 continuous\n",
      "Cbc0038I Full problem 56 rows 55 columns, reduced to 13 rows 11 columns\n",
      "Cbc0038I Mini branch and bound improved solution from 12 to 9 (0.01 seconds)\n",
      "Cbc0038I Round again with cutoff of 7.50009\n",
      "Cbc0038I Reduced cost fixing fixed 1 variables on major pass 2\n",
      "Cbc0038I Pass   5: suminf.    3.88889 (19) obj. 6 iterations 0\n",
      "Cbc0038I Pass   6: suminf.    3.61065 (10) obj. 7.50009 iterations 30\n",
      "Cbc0038I Pass   7: suminf.    3.61065 (10) obj. 7.50009 iterations 1\n",
      "Cbc0038I Pass   8: suminf.    3.22195 (8) obj. 7.50009 iterations 9\n",
      "Cbc0038I Pass   9: suminf.    2.49972 (7) obj. 7.50009 iterations 3\n",
      "Cbc0038I Pass  10: suminf.    3.61065 (10) obj. 7.50009 iterations 9\n",
      "Cbc0038I Pass  11: suminf.    3.27760 (13) obj. 7.50009 iterations 11\n",
      "Cbc0038I Pass  12: suminf.    2.72213 (12) obj. 7.50009 iterations 3\n",
      "Cbc0038I Pass  13: suminf.    3.38871 (9) obj. 7.50009 iterations 13\n",
      "Cbc0038I Pass  14: suminf.    2.66648 (8) obj. 7.50009 iterations 4\n",
      "Cbc0038I Pass  15: suminf.    3.66631 (11) obj. 7.50009 iterations 10\n",
      "Cbc0038I Pass  16: suminf.    3.66631 (11) obj. 7.50009 iterations 1\n",
      "Cbc0038I Pass  17: suminf.    3.92578 (16) obj. 7.50009 iterations 20\n",
      "Cbc0038I Pass  18: suminf.    3.51834 (13) obj. 7.50009 iterations 5\n",
      "Cbc0038I Pass  19: suminf.    3.96260 (13) obj. 7.50009 iterations 16\n",
      "Cbc0038I Pass  20: suminf.    3.29593 (12) obj. 7.50009 iterations 3\n",
      "Cbc0038I Pass  21: suminf.    4.44408 (13) obj. 7.50009 iterations 14\n",
      "Cbc0038I Pass  22: suminf.    4.44408 (13) obj. 7.50009 iterations 0\n",
      "Cbc0038I Pass  23: suminf.    2.74055 (9) obj. 7.50009 iterations 14\n",
      "Cbc0038I Pass  24: suminf.    2.01833 (8) obj. 7.50009 iterations 3\n",
      "Cbc0038I Pass  25: suminf.    3.68473 (12) obj. 7.50009 iterations 10\n",
      "Cbc0038I Pass  26: suminf.    3.68473 (12) obj. 7.50009 iterations 0\n",
      "Cbc0038I Pass  27: suminf.    3.66639 (10) obj. 7.50009 iterations 7\n",
      "Cbc0038I Pass  28: suminf.    2.94417 (9) obj. 7.50009 iterations 4\n",
      "Cbc0038I Pass  29: suminf.    3.92564 (17) obj. 7.50009 iterations 23\n",
      "Cbc0038I Pass  30: suminf.    3.92564 (19) obj. 7.50009 iterations 3\n",
      "Cbc0038I Pass  31: suminf.    2.48130 (12) obj. 7.50009 iterations 26\n",
      "Cbc0038I Pass  32: suminf.    3.18481 (16) obj. 7.50009 iterations 6\n",
      "Cbc0038I Pass  33: suminf.    4.86992 (17) obj. 7.50009 iterations 17\n",
      "Cbc0038I Pass  34: suminf.    2.87009 (15) obj. 7.50009 iterations 5\n",
      "Cbc0038I No solution found this major pass\n",
      "Cbc0038I Before mini branch and bound, 6 integers at bound fixed and 0 continuous\n",
      "Cbc0038I Full problem 56 rows 55 columns, reduced to 49 rows 44 columns\n",
      "Cbc0038I Mini branch and bound did not improve solution (0.04 seconds)\n",
      "Cbc0038I After 0.04 seconds - Feasibility pump exiting with objective of 9 - took 0.03 seconds\n",
      "Cbc0012I Integer solution of 9 found by feasibility pump after 0 iterations and 0 nodes (0.04 seconds)\n",
      "Cbc0038I Full problem 56 rows 55 columns, reduced to 13 rows 11 columns\n",
      "Cbc0006I The LP relaxation is infeasible or too expensive\n",
      "Cbc0031I 18 added rows had average density of 2.0555556\n",
      "Cbc0013I At root node, 18 cuts changed objective from 3 to 6.125 in 2 passes\n",
      "Cbc0014I Cut generator 0 (Probing) - 127 row cuts average 2.0 elements, 9 column cuts (9 active)  in 0.001 seconds - new frequency is 1\n",
      "Cbc0014I Cut generator 1 (Gomory) - 20 row cuts average 2.1 elements, 0 column cuts (0 active)  in 0.000 seconds - new frequency is 1\n",
      "Cbc0014I Cut generator 2 (Knapsack) - 0 row cuts average 0.0 elements, 0 column cuts (0 active)  in 0.000 seconds - new frequency is -100\n",
      "Cbc0014I Cut generator 3 (Clique) - 0 row cuts average 0.0 elements, 0 column cuts (0 active)  in 0.000 seconds - new frequency is -100\n",
      "Cbc0014I Cut generator 4 (MixedIntegerRounding2) - 20 row cuts average 2.5 elements, 0 column cuts (0 active)  in 0.000 seconds - new frequency is 1\n",
      "Cbc0014I Cut generator 5 (FlowCover) - 0 row cuts average 0.0 elements, 0 column cuts (0 active)  in 0.000 seconds - new frequency is -100\n",
      "Cbc0014I Cut generator 6 (TwoMirCuts) - 27 row cuts average 2.1 elements, 0 column cuts (0 active)  in 0.000 seconds - new frequency is 1\n",
      "Cbc0014I Cut generator 7 (ZeroHalf) - 20 row cuts average 2.6 elements, 0 column cuts (0 active)  in 0.000 seconds - new frequency is 1\n",
      "Cbc0001I Search completed - best objective 9, took 70 iterations and 0 nodes (0.05 seconds)\n",
      "Cbc0035I Maximum depth 0, 1 variables fixed on reduced cost\n",
      "Cuts at root node changed objective from 3 to 6.125\n",
      "Probing was tried 2 times and created 136 cuts of which 0 were active after adding rounds of cuts (0.001 seconds)\n",
      "Gomory was tried 1 times and created 20 cuts of which 0 were active after adding rounds of cuts (0.000 seconds)\n",
      "Knapsack was tried 1 times and created 0 cuts of which 0 were active after adding rounds of cuts (0.000 seconds)\n",
      "Clique was tried 1 times and created 0 cuts of which 0 were active after adding rounds of cuts (0.000 seconds)\n",
      "MixedIntegerRounding2 was tried 1 times and created 20 cuts of which 0 were active after adding rounds of cuts (0.000 seconds)\n",
      "FlowCover was tried 1 times and created 0 cuts of which 0 were active after adding rounds of cuts (0.000 seconds)\n",
      "TwoMirCuts was tried 1 times and created 27 cuts of which 0 were active after adding rounds of cuts (0.000 seconds)\n",
      "ZeroHalf was tried 1 times and created 20 cuts of which 0 were active after adding rounds of cuts (0.000 seconds)\n",
      "\n",
      "Result - Optimal solution found\n",
      "\n",
      "Objective value:                9.00000000\n",
      "Enumerated nodes:               0\n",
      "Total iterations:               70\n",
      "Time (CPU seconds):             0.04\n",
      "Time (Wallclock seconds):       0.05\n",
      "\n",
      "Option for printingOptions changed from normal to all\n",
      "Total time (CPU seconds):       0.04   (Wallclock seconds):       0.05\n",
      "\n"
     ]
    }
   ],
   "source": [
    "status = prob.solve()"
   ]
  },
  {
   "cell_type": "code",
   "execution_count": 28,
   "metadata": {},
   "outputs": [
    {
     "data": {
      "text/plain": [
       "'Optimal'"
      ]
     },
     "execution_count": 28,
     "metadata": {},
     "output_type": "execute_result"
    }
   ],
   "source": [
    "LpStatus[status]"
   ]
  },
  {
   "cell_type": "code",
   "execution_count": 29,
   "metadata": {},
   "outputs": [
    {
     "name": "stdout",
     "output_type": "stream",
     "text": [
      "value of L: 9.0\n",
      "0\n",
      "0.0 3.0\n",
      "1\n",
      "0.0 6.0\n",
      "2\n",
      "4.0 6.0\n",
      "3\n",
      "3.0 3.0\n",
      "4\n",
      "0.0 0.0\n"
     ]
    }
   ],
   "source": [
    "print(f\"value of L: {value(L)}\")\n",
    "sol = []\n",
    "sol.append([w, value(L)])\n",
    "sol.append([n])\n",
    "for i in range(n):\n",
    "    print(i)\n",
    "    \n",
    "    width = dims[i, int(value(rotated[i]))]\n",
    "    height = dims[i, 1-int(value(rotated[i]))]\n",
    "    \n",
    "    sol.append([width, height, int(value(pos_x[i])), int(value(pos_y[i]))])\n",
    "    print(value(pos_x[i]), value(pos_y[i]))"
   ]
  },
  {
   "cell_type": "code",
   "execution_count": 30,
   "metadata": {},
   "outputs": [
    {
     "data": {
      "image/png": "[encoded data removed]",
      "text/plain": [
       "<Figure size 324x324 with 1 Axes>"
      ]
     },
     "metadata": {
      "needs_background": "light"
     },
     "output_type": "display_data"
    },
    {
     "data": {
      "image/png": "[encoded data removed]",
      "text/plain": [
       "<Figure size 324x324 with 1 Axes>"
      ]
     },
     "execution_count": 30,
     "metadata": {},
     "output_type": "execute_result"
    }
   ],
   "source": [
    "utils.visualize_output(sol, dims)"
   ]
  },
  {
   "cell_type": "code",
   "execution_count": null,
   "metadata": {},
   "outputs": [],
   "source": []
  },
  {
   "cell_type": "code",
   "execution_count": null,
   "metadata": {},
   "outputs": [],
   "source": []
  },
  {
   "cell_type": "code",
   "execution_count": null,
   "metadata": {},
   "outputs": [],
   "source": []
  },
  {
   "cell_type": "code",
   "execution_count": null,
   "metadata": {},
   "outputs": [],
   "source": []
  },
  {
   "cell_type": "code",
   "execution_count": null,
   "metadata": {},
   "outputs": [],
   "source": []
  }
 ],
 "metadata": {
  "interpreter": {
   "hash": "aee8b7b246df8f9039afb4144a1f6fd8d2ca17a180786b69acc140d282b71a49"
  },
  "kernelspec": {
   "display_name": "Python 3.9.9 64-bit",
   "language": "python",
   "name": "python3"
  },
  "language_info": {
   "codemirror_mode": {
    "name": "ipython",
    "version": 3
   },
   "file_extension": ".py",
   "mimetype": "text/x-python",
   "name": "python",
   "nbconvert_exporter": "python",
   "pygments_lexer": "ipython3",
   "version": "3.9.9"
  },
  "orig_nbformat": 4
 },
 "nbformat": 4,
 "nbformat_minor": 2
}
