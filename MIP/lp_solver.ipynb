{
 "cells": [
  {
   "cell_type": "code",
   "execution_count": 1,
   "metadata": {},
   "outputs": [],
   "source": [
    "from pulp import *\n",
    "import utils"
   ]
  },
  {
   "cell_type": "code",
   "execution_count": 2,
   "metadata": {},
   "outputs": [],
   "source": [
    "WIDTH = 0\n",
    "HEIGHT = 1\n",
    "TIME_LIMIT = 300"
   ]
  },
  {
   "cell_type": "code",
   "execution_count": 3,
   "metadata": {},
   "outputs": [],
   "source": [
    "def run_LP(w, n, dims, rotation, break_symmetry):    \n",
    "    upper_bound = sum(dims[:, HEIGHT])\n",
    "    k = 4\n",
    "    prob = LpProblem(\"VLSI\", LpMinimize)\n",
    "    L = LpVariable(\"L\", 0, upper_bound, LpInteger)\n",
    "    pos_x = LpVariable.dicts(\"pos_x\", range(n), 0, w, LpInteger)\n",
    "    pos_y = LpVariable.dicts(\"pos_y\", range(n), 0, upper_bound, LpInteger)\n",
    "    M0 = M1 = w\n",
    "    M2 = M3 = upper_bound\n",
    "    pos_chosen = LpVariable.dict(\"pos_chosen\", (range(n), range(n), range(k)), 0, 1, LpInteger)\n",
    "    rotated = LpVariable.dict(\"rotated\", range(n), 0, 1, LpInteger)\n",
    "    prob += L\n",
    "\n",
    "    if rotation:\n",
    "        for i in range(n):\n",
    "            prob += L >= pos_y[i] + dims[i, HEIGHT]*(1-rotated[i])+ rotated[i]*dims[i, WIDTH]\n",
    "            if break_symmetry and dims[i, HEIGHT] == dims[i, WIDTH]:\n",
    "                # Break symmetry: Not allowed to rotate when it is a square\n",
    "                prob += rotated[i] == 0\n",
    "            for j in range(i + 1, n):\n",
    "                prob += pos_x[i] + (1-rotated[i])*dims[i, WIDTH] + rotated[i]*dims[i, HEIGHT]<= pos_x[j] + M0 * (pos_chosen[i, j, 0])\n",
    "                prob += pos_x[j] + (1-rotated[j])*dims[j, WIDTH] + rotated[j]*dims[j, HEIGHT] <= pos_x[i] + M1 * (pos_chosen[i, j, 1])\n",
    "                prob += pos_y[i] + (1-rotated[i])*dims[i, HEIGHT] + rotated[i]*dims[i, WIDTH]<= pos_y[j] + M2 * (pos_chosen[i, j, 2])\n",
    "                prob += pos_y[j] + (1-rotated[j])*dims[j, HEIGHT] + rotated[j]*dims[j, WIDTH]<= pos_y[i] + M3 * (pos_chosen[i, j, 3])\n",
    "                prob += lpSum([pos_chosen[i, j, k] for k in range(k)]) <= 3\n",
    "\n",
    "            prob += pos_x[i] + (1-rotated[i])*dims[i, WIDTH] + rotated[i]*dims[i, HEIGHT] <= M1  \n",
    "\n",
    "    if not rotation:\n",
    "        for i in range(n):\n",
    "            prob += L >= pos_y[i] + dims[i, HEIGHT]\n",
    "            for j in range(i + 1, n):\n",
    "                prob += pos_x[i] + dims[i, WIDTH] <= pos_x[j] + M0 * pos_chosen[i, j, 0]\n",
    "                prob += pos_x[j] + dims[j, WIDTH] <= pos_x[i] + M1 * pos_chosen[i, j, 1]\n",
    "                prob += pos_y[i] + dims[i, HEIGHT] <= pos_y[j] + M2 * pos_chosen[i, j, 2]\n",
    "                prob += pos_y[j] + dims[j, HEIGHT] <= pos_y[i] + M3 * pos_chosen[i, j, 3]\n",
    "                prob += lpSum([pos_chosen[i, j, k] for k in range(k)]) <= k - 1\n",
    "            prob += pos_x[i] + dims[i, WIDTH] <= M1 \n",
    "        \n",
    "    status = prob.solve(PULP_CBC_CMD(timeLimit=TIME_LIMIT, msg=0))\n",
    "    LpStatus[status]\n",
    "\n",
    "    sol = []\n",
    "    sol.append([w, int(value(L))])\n",
    "    sol.append([n])\n",
    "    for i in range(n):\n",
    "        if rotation:\n",
    "            width = dims[i, int(value(rotated[i]))]\n",
    "            height = dims[i, 1-int(value(rotated[i]))]\n",
    "        else:\n",
    "            width = dims[i, WIDTH]\n",
    "            height = dims[i, HEIGHT]\n",
    "        sol.append([width, height, int(value(pos_x[i])), int(value(pos_y[i]))])\n",
    "    return sol, prob"
   ]
  },
  {
   "cell_type": "code",
   "execution_count": 4,
   "metadata": {},
   "outputs": [],
   "source": [
    "def make_solution_str(sol):\n",
    "    w = sol[0][0]\n",
    "    l = sol[0][1]\n",
    "    n = sol[1][0]\n",
    "    str = f\"{w} {l}\\n{n}\\n\"\n",
    "\n",
    "    for i in range(2, len(sol)):\n",
    "        str += f\"{sol[i][0]} {sol[i][1]} {sol[i][2]} {sol[i][3]}\\n\"\n",
    "    \n",
    "    return str"
   ]
  },
  {
   "cell_type": "code",
   "execution_count": 9,
   "metadata": {},
   "outputs": [
    {
     "name": "stdout",
     "output_type": "stream",
     "text": [
      "Value of L: 8\n"
     ]
    },
    {
     "data": {
      "image/png": "[encoded data removed]",
      "text/plain": [
       "<Figure size 288x288 with 1 Axes>"
      ]
     },
     "metadata": {
      "needs_background": "light"
     },
     "output_type": "display_data"
    },
    {
     "name": "stdout",
     "output_type": "stream",
     "text": [
      "hellp\n",
      "Value of L: 9\n"
     ]
    },
    {
     "data": {
      "image/png": "[encoded data removed]",
      "text/plain": [
       "<Figure size 324x324 with 1 Axes>"
      ]
     },
     "metadata": {
      "needs_background": "light"
     },
     "output_type": "display_data"
    },
    {
     "name": "stdout",
     "output_type": "stream",
     "text": [
      "hellp\n",
      "Value of L: 10\n"
     ]
    },
    {
     "data": {
      "image/png": "[encoded data removed]",
      "text/plain": [
       "<Figure size 360x360 with 1 Axes>"
      ]
     },
     "metadata": {
      "needs_background": "light"
     },
     "output_type": "display_data"
    },
    {
     "name": "stdout",
     "output_type": "stream",
     "text": [
      "hellp\n"
     ]
    }
   ],
   "source": [
    "INSTANCE_NUMBER = 2\n",
    "ALL_SOLUTIONS = False\n",
    "ROTATION = False\n",
    "BREAK_SYMMETRY  = False\n",
    "\n",
    "solutions = []\n",
    "for i in range(1,4):\n",
    "    file_path = f\"../instances/ins-{i}.txt\"\n",
    "    w, n, dims = utils.read_output(file_path)\n",
    "    sol, prob = run_LP(w,n, dims, ROTATION, BREAK_SYMMETRY)\n",
    "\n",
    "    if (prob.solutionTime>=TIME_LIMIT):\n",
    "        print(f\"Instance {i} timed out\")\n",
    "        sol_str = f\"{300}\"\n",
    "    else:\n",
    "        print(f\"Value of L: {sol[0][1]}\")\n",
    "        v = utils.visualize_output(sol, dims, i)\n",
    "        sol_str = make_solution_str(sol)\n",
    "        sol_str += f\"\\n{prob.solutionTime}\"\n",
    "\n",
    "    if BREAK_SYMMETRY and ROTATION:\n",
    "        output_file = f\"./MIP_solutions/rotation_{ROTATION}/break_symmetry/sol_ins-{i}.txt\"\n",
    "    else:\n",
    "        output_file = f\"./MIP_solutions/rotation_{ROTATION}/sol_ins-{i}.txt\"\n",
    "    utils.write_output_to_file(output_file, sol_str)"
   ]
  },
  {
   "cell_type": "code",
   "execution_count": null,
   "metadata": {},
   "outputs": [],
   "source": []
  }
 ],
 "metadata": {
  "interpreter": {
   "hash": "aee8b7b246df8f9039afb4144a1f6fd8d2ca17a180786b69acc140d282b71a49"
  },
  "kernelspec": {
   "display_name": "Python 3.9.9 64-bit",
   "language": "python",
   "name": "python3"
  },
  "language_info": {
   "codemirror_mode": {
    "name": "ipython",
    "version": 3
   },
   "file_extension": ".py",
   "mimetype": "text/x-python",
   "name": "python",
   "nbconvert_exporter": "python",
   "pygments_lexer": "ipython3",
   "version": "3.9.9"
  },
  "orig_nbformat": 4
 },
 "nbformat": 4,
 "nbformat_minor": 2
}
