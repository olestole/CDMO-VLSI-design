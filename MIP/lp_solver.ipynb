{
 "cells": [
  {
   "cell_type": "code",
   "execution_count": 1,
   "metadata": {},
   "outputs": [],
   "source": [
    "from pulp import *\n",
    "import utils"
   ]
  },
  {
   "cell_type": "code",
   "execution_count": 2,
   "metadata": {},
   "outputs": [],
   "source": [
    "INSTANCE_NUMBER = 5\n",
    "ALL_SOLUTIONS = False\n",
    "ROTATION = True\n",
    "\n",
    "file_path = f\"../instances/ins-{INSTANCE_NUMBER}.txt\"\n",
    "w, n, dims = utils.read_output(file_path)"
   ]
  },
  {
   "cell_type": "code",
   "execution_count": 3,
   "metadata": {},
   "outputs": [],
   "source": [
    "WIDTH = 0\n",
    "HEIGHT = 1"
   ]
  },
  {
   "cell_type": "code",
   "execution_count": 4,
   "metadata": {},
   "outputs": [],
   "source": [
    "upper_bound = sum(dims[:, HEIGHT])\n",
    "k = 4 if not ROTATION else 8 # Number of constraints"
   ]
  },
  {
   "cell_type": "code",
   "execution_count": 5,
   "metadata": {},
   "outputs": [],
   "source": [
    "prob = LpProblem(\"VLSI\", LpMinimize)"
   ]
  },
  {
   "cell_type": "code",
   "execution_count": 6,
   "metadata": {},
   "outputs": [],
   "source": [
    "L = LpVariable(\"L\", 0, upper_bound, LpInteger)\n",
    "pos_x = LpVariable.dicts(\"pos_x\", range(n), 0, w, LpInteger)\n",
    "pos_y = LpVariable.dicts(\"pos_y\", range(n), 0, upper_bound, LpInteger)"
   ]
  },
  {
   "cell_type": "code",
   "execution_count": 7,
   "metadata": {},
   "outputs": [],
   "source": [
    "M0 = M1 = w\n",
    "M2 = M3 = upper_bound"
   ]
  },
  {
   "cell_type": "code",
   "execution_count": 8,
   "metadata": {},
   "outputs": [],
   "source": [
    "pos_chosen = LpVariable.dict(\"pos_chosen\", (range(n), range(n), range(k)), 0, 1, LpInteger)\n",
    "rotated = LpVariable.dict(\"rotated\", (range(n), range(2)), 0, 1, LpInteger)"
   ]
  },
  {
   "cell_type": "code",
   "execution_count": 9,
   "metadata": {},
   "outputs": [],
   "source": [
    "prob += L"
   ]
  },
  {
   "cell_type": "code",
   "execution_count": 10,
   "metadata": {},
   "outputs": [],
   "source": [
    "if ROTATION:\n",
    "    for i in range(n):\n",
    "        prob += L >= pos_y[i] + dims[i, HEIGHT]\n",
    "        for j in range(i + 1, n):\n",
    "            prob += pos_x[i] + dims[i, WIDTH] <= pos_x[j] + M0 * (pos_chosen[i, j, 0] + rotated[i, 0])\n",
    "            prob += pos_x[j] + dims[j, WIDTH] <= pos_x[i] + M1 * (pos_chosen[i, j, 1] + rotated[i, 0])\n",
    "            prob += pos_y[i] + dims[i, HEIGHT] <= pos_y[j] + M2 * (pos_chosen[i, j, 2] + rotated[i, 0])\n",
    "            prob += pos_y[j] + dims[j, HEIGHT] <= pos_y[i] + M3 * (pos_chosen[i, j, 3] + rotated[i, 0])\n",
    "\n",
    "            prob += pos_x[i] + dims[i, HEIGHT] <= pos_x[j] + M0 * (pos_chosen[i, j, 0] + rotated[i, 1])\n",
    "            prob += pos_x[j] + dims[j, HEIGHT] <= pos_x[i] + M1 * (pos_chosen[i, j, 1] + rotated[i,1])\n",
    "            prob += pos_y[i] + dims[i, WIDTH] <= pos_y[j] + M2 * (pos_chosen[i, j, 2] + rotated[i,1])\n",
    "            prob += pos_y[j] + dims[j, WIDTH] <= pos_y[i] + M3 * (pos_chosen[i, j, 3] + rotated[i,1])\n",
    "            \n",
    "            prob += lpSum([pos_chosen[i, j, k] for k in range(k)]) <= 3\n",
    "            prob += lpSum(rotated[i,k] for k in range(2)) == 1\n",
    "            \n",
    "\n",
    "        "
   ]
  },
  {
   "cell_type": "code",
   "execution_count": 11,
   "metadata": {},
   "outputs": [],
   "source": [
    "if not ROTATION:\n",
    "    for i in range(n):\n",
    "        prob += L >= pos_y[i] + dims[i, HEIGHT]\n",
    "        for j in range(i + 1, n):\n",
    "            prob += pos_x[i] + dims[i, WIDTH] <= pos_x[j] + M0 * pos_chosen[i, j, 0]\n",
    "            prob += pos_x[j] + dims[j, WIDTH] <= pos_x[i] + M1 * pos_chosen[i, j, 1]\n",
    "            prob += pos_y[i] + dims[i, HEIGHT] <= pos_y[j] + M2 * pos_chosen[i, j, 2]\n",
    "            prob += pos_y[j] + dims[j, HEIGHT] <= pos_y[i] + M3 * pos_chosen[i, j, 3]\n",
    "            prob += lpSum([pos_chosen[i, j, k] for k in range(k)]) <= k - 1\n"
   ]
  },
  {
   "cell_type": "code",
   "execution_count": 12,
   "metadata": {},
   "outputs": [
    {
     "name": "stdout",
     "output_type": "stream",
     "text": [
      "Welcome to the CBC MILP Solver \n",
      "Version: 2.10.3 \n",
      "Build Date: Dec 15 2019 \n",
      "\n",
      "command line - /Users/olestole/code/unibo/combinatorial/VLSIdesign/venv/lib/python3.7/site-packages/pulp/apis/../solverdir/cbc/osx/64/cbc /var/folders/vn/xw7vy4yj4p59wc8lpy7gnh200000gn/T/79105012a45c48cf83c0389d56a6444a-pulp.mps timeMode elapsed branch printingOptions all solution /var/folders/vn/xw7vy4yj4p59wc8lpy7gnh200000gn/T/79105012a45c48cf83c0389d56a6444a-pulp.sol (default strategy 1)\n",
      "At line 2 NAME          MODEL\n",
      "At line 3 ROWS\n",
      "At line 293 COLUMNS\n",
      "At line 1997 RHS\n",
      "At line 2286 BOUNDS\n",
      "At line 2542 ENDATA\n",
      "Problem MODEL has 288 rows, 255 columns and 1192 elements\n",
      "Coin0008I MODEL read with 0 errors\n",
      "Option for timeMode changed from cpu to elapsed\n",
      "Continuous objective value is 9 - 0.00 seconds\n",
      "Cgl0004I processed model has 260 rows, 136 columns (136 integer (119 of which binary)) and 1024 elements\n",
      "Cutoff increment increased from 1e-05 to 0.9999\n",
      "Cbc0045I 1 integer variables out of 136 objects (136 integer) have cost of 1 - high priority\n",
      "Cbc0045I branch on satisfied Y create fake objective Y random cost Y\n",
      "Cbc0038I Initial state - 19 integers unsatisfied sum - 4.16667\n",
      "Cbc0038I Pass   1: suminf.    5.37500 (15) obj. 9 iterations 47\n",
      "Cbc0038I Pass   2: suminf.    5.67917 (15) obj. 10.5 iterations 22\n",
      "Cbc0038I Pass   3: suminf.    4.72500 (12) obj. 10.5 iterations 16\n",
      "Cbc0038I Pass   4: suminf.    4.38333 (11) obj. 9 iterations 20\n",
      "Cbc0038I Pass   5: suminf.    4.13333 (11) obj. 9 iterations 16\n",
      "Cbc0038I Pass   6: suminf.    4.97500 (12) obj. 10.5 iterations 23\n",
      "Cbc0038I Pass   7: suminf.    5.20417 (13) obj. 10.5 iterations 23\n",
      "Cbc0038I Pass   8: suminf.    4.72500 (12) obj. 10.5 iterations 8\n",
      "Cbc0038I Pass   9: suminf.    4.15417 (11) obj. 9 iterations 26\n",
      "Cbc0038I Pass  10: suminf.    4.13333 (11) obj. 9 iterations 15\n",
      "Cbc0038I Pass  11: suminf.    4.74583 (12) obj. 10.5 iterations 16\n",
      "Cbc0038I Pass  12: suminf.    4.27083 (12) obj. 11.25 iterations 45\n",
      "Cbc0038I Pass  13: suminf.    3.81250 (12) obj. 11.25 iterations 19\n",
      "Cbc0038I Pass  14: suminf.    4.00000 (9) obj. 15 iterations 17\n",
      "Cbc0038I Pass  15: suminf.    3.75000 (11) obj. 11.25 iterations 21\n",
      "Cbc0038I Pass  16: suminf.    4.10417 (10) obj. 15 iterations 24\n",
      "Cbc0038I Pass  17: suminf.    4.95833 (16) obj. 11.25 iterations 40\n",
      "Cbc0038I Pass  18: suminf.    4.87500 (16) obj. 11.25 iterations 10\n",
      "Cbc0038I Pass  19: suminf.    4.70833 (11) obj. 15 iterations 24\n",
      "Cbc0038I Pass  20: suminf.    5.29167 (13) obj. 13.5 iterations 10\n",
      "Cbc0038I Pass  21: suminf.    4.29028 (19) obj. 16.875 iterations 23\n",
      "Cbc0038I Pass  22: suminf.    4.81111 (18) obj. 11.25 iterations 6\n",
      "Cbc0038I Pass  23: suminf.    4.11806 (15) obj. 15 iterations 33\n",
      "Cbc0038I Pass  24: suminf.    4.11806 (15) obj. 15 iterations 1\n",
      "Cbc0038I Pass  25: suminf.    4.02083 (11) obj. 15 iterations 16\n",
      "Cbc0038I Pass  26: suminf.    4.11389 (11) obj. 15 iterations 7\n",
      "Cbc0038I Pass  27: suminf.    3.97153 (14) obj. 15 iterations 15\n",
      "Cbc0038I Pass  28: suminf.    4.54583 (12) obj. 15 iterations 8\n",
      "Cbc0038I Pass  29: suminf.    7.25000 (19) obj. 14.5 iterations 33\n",
      "Cbc0038I Pass  30: suminf.    4.93750 (17) obj. 14.5 iterations 17\n",
      "Cbc0038I Pass  31: suminf.    6.52083 (15) obj. 14.5 iterations 20\n",
      "Cbc0038I Pass  32: suminf.    6.52083 (16) obj. 14.5 iterations 8\n",
      "Cbc0038I Pass  33: suminf.    5.27083 (17) obj. 14.5 iterations 4\n",
      "Cbc0038I Pass  34: suminf.    5.68750 (17) obj. 14.5 iterations 20\n",
      "Cbc0038I Pass  35: suminf.    6.17708 (17) obj. 14.5 iterations 7\n",
      "Cbc0038I Pass  36: suminf.    3.00000 (10) obj. 14.5 iterations 4\n",
      "Cbc0038I Pass  37: suminf.    6.52083 (15) obj. 14.5 iterations 17\n",
      "Cbc0038I Pass  38: suminf.    6.52083 (16) obj. 14.5 iterations 7\n",
      "Cbc0038I Pass  39: suminf.    6.70833 (17) obj. 14.5 iterations 17\n",
      "Cbc0038I Pass  40: suminf.    5.09375 (18) obj. 23.875 iterations 20\n",
      "Cbc0038I Pass  41: suminf.    6.19792 (18) obj. 19.1875 iterations 8\n",
      "Cbc0038I Pass  42: suminf.    3.00000 (10) obj. 15.5 iterations 13\n",
      "Cbc0038I Pass  43: suminf.    5.89583 (16) obj. 23.875 iterations 20\n",
      "Cbc0038I Pass  44: suminf.    6.02083 (17) obj. 19.1875 iterations 7\n",
      "Cbc0038I Pass  45: suminf.    5.02083 (18) obj. 16.375 iterations 4\n",
      "Cbc0038I Pass  46: suminf.    4.81250 (18) obj. 21.125 iterations 23\n",
      "Cbc0038I Pass  47: suminf.    5.80208 (19) obj. 17.3125 iterations 9\n",
      "Cbc0038I Pass  48: suminf.    3.00000 (10) obj. 15.5 iterations 8\n",
      "Cbc0038I Pass  49: suminf.    5.89583 (16) obj. 23.875 iterations 19\n",
      "Cbc0038I Pass  50: suminf.    6.02083 (17) obj. 19.1875 iterations 6\n",
      "Cbc0038I Pass  51: suminf.    5.02083 (18) obj. 16.375 iterations 4\n",
      "Cbc0038I Pass  52: suminf.    4.81250 (18) obj. 21.125 iterations 24\n",
      "Cbc0038I Pass  53: suminf.    4.04167 (11) obj. 15.5 iterations 5\n",
      "Cbc0038I Pass  54: suminf.    3.33333 (10) obj. 15.5 iterations 5\n",
      "Cbc0038I Pass  55: suminf.    6.19792 (17) obj. 20.5938 iterations 20\n",
      "Cbc0038I Pass  56: suminf.    6.02083 (17) obj. 19.1875 iterations 5\n",
      "Cbc0038I Pass  57: suminf.    5.02083 (18) obj. 16.375 iterations 4\n",
      "Cbc0038I Pass  58: suminf.    4.81250 (18) obj. 21.125 iterations 23\n",
      "Cbc0038I Pass  59: suminf.    5.80208 (19) obj. 17.3125 iterations 8\n",
      "Cbc0038I Pass  60: suminf.    3.00000 (10) obj. 15.5 iterations 7\n",
      "Cbc0038I Pass  61: suminf.    5.89583 (16) obj. 23.875 iterations 19\n",
      "Cbc0038I Pass  62: suminf.    6.02083 (17) obj. 19.1875 iterations 6\n",
      "Cbc0038I Pass  63: suminf.    5.02083 (18) obj. 16.375 iterations 4\n",
      "Cbc0038I Pass  64: suminf.    4.81250 (18) obj. 21.125 iterations 23\n",
      "Cbc0038I Pass  65: suminf.    5.80208 (19) obj. 17.3125 iterations 8\n",
      "Cbc0038I Pass  66: suminf.    3.00000 (10) obj. 15.5 iterations 8\n",
      "Cbc0038I Pass  67: suminf.    5.89583 (16) obj. 23.875 iterations 22\n",
      "Cbc0038I Pass  68: suminf.    6.02083 (17) obj. 19.1875 iterations 7\n",
      "Cbc0038I Pass  69: suminf.    5.02083 (18) obj. 16.375 iterations 4\n",
      "Cbc0038I Pass  70: suminf.    4.81250 (18) obj. 21.125 iterations 23\n",
      "Cbc0038I Pass  71: suminf.    5.80208 (19) obj. 17.3125 iterations 8\n",
      "Cbc0038I Pass  72: suminf.    3.00000 (10) obj. 15.5 iterations 7\n",
      "Cbc0038I Pass  73: suminf.    5.89583 (16) obj. 23.875 iterations 18\n",
      "Cbc0038I Pass  74: suminf.    6.02083 (17) obj. 19.1875 iterations 5\n",
      "Cbc0038I Pass  75: suminf.    6.70833 (17) obj. 15.5 iterations 12\n",
      "Cbc0038I Pass  76: suminf.    5.09375 (18) obj. 23.875 iterations 23\n",
      "Cbc0038I Pass  77: suminf.    6.19792 (18) obj. 19.1875 iterations 10\n",
      "Cbc0038I Pass  78: suminf.    3.00000 (10) obj. 15.5 iterations 12\n",
      "Cbc0038I Pass  79: suminf.    5.89583 (16) obj. 23.875 iterations 22\n",
      "Cbc0038I Pass  80: suminf.    6.02083 (17) obj. 19.1875 iterations 5\n",
      "Cbc0038I Pass  81: suminf.    6.70833 (17) obj. 15.5 iterations 14\n",
      "Cbc0038I Pass  82: suminf.    5.09375 (18) obj. 23.875 iterations 23\n",
      "Cbc0038I Pass  83: suminf.    6.19792 (18) obj. 19.1875 iterations 7\n",
      "Cbc0038I Pass  84: suminf.    3.00000 (10) obj. 15.5 iterations 14\n",
      "Cbc0038I Pass  85: suminf.    5.89583 (16) obj. 23.875 iterations 22\n",
      "Cbc0038I Pass  86: suminf.    6.02083 (17) obj. 19.1875 iterations 6\n",
      "Cbc0038I Pass  87: suminf.    6.70833 (17) obj. 15.5 iterations 12\n",
      "Cbc0038I Pass  88: suminf.    5.09375 (18) obj. 23.875 iterations 23\n",
      "Cbc0038I Pass  89: suminf.    6.19792 (18) obj. 19.1875 iterations 8\n",
      "Cbc0038I Pass  90: suminf.    3.00000 (10) obj. 15.5 iterations 14\n",
      "Cbc0038I Pass  91: suminf.    6.14583 (16) obj. 23.875 iterations 23\n",
      "Cbc0038I Pass  92: suminf.    6.95833 (18) obj. 22.75 iterations 7\n",
      "Cbc0038I Pass  93: suminf.    5.64583 (19) obj. 22.75 iterations 5\n",
      "Cbc0038I Pass  94: suminf.    5.43750 (18) obj. 22.5 iterations 25\n",
      "Cbc0038I Pass  95: suminf.    7.11458 (19) obj. 15.5 iterations 9\n",
      "Cbc0038I Pass  96: suminf.    3.75000 (12) obj. 15.5 iterations 6\n",
      "Cbc0038I Pass  97: suminf.    6.39583 (16) obj. 20.625 iterations 26\n",
      "Cbc0038I Pass  98: suminf.    5.77083 (17) obj. 15.9375 iterations 6\n",
      "Cbc0038I Pass  99: suminf.    4.52083 (18) obj. 13.125 iterations 5\n",
      "Cbc0038I Pass 100: suminf.    6.29167 (17) obj. 11.25 iterations 39\n",
      "Cbc0038I No solution found this major pass\n",
      "Cbc0038I Before mini branch and bound, 27 integers at bound fixed and 0 continuous\n",
      "Cbc0038I Mini branch and bound did not improve solution (0.13 seconds)\n",
      "Cbc0038I After 0.13 seconds - Feasibility pump exiting - took 0.12 seconds\n",
      "Cbc0031I 37 added rows had average density of 10.594595\n",
      "Cbc0013I At root node, 37 cuts changed objective from 9 to 9 in 100 passes\n",
      "Cbc0014I Cut generator 0 (Probing) - 141 row cuts average 5.7 elements, 0 column cuts (0 active)  in 0.023 seconds - new frequency is -100\n",
      "Cbc0014I Cut generator 1 (Gomory) - 2030 row cuts average 40.6 elements, 0 column cuts (0 active)  in 0.043 seconds - new frequency is -100\n",
      "Cbc0014I Cut generator 2 (Knapsack) - 11 row cuts average 2.6 elements, 0 column cuts (0 active)  in 0.029 seconds - new frequency is -100\n",
      "Cbc0014I Cut generator 3 (Clique) - 0 row cuts average 0.0 elements, 0 column cuts (0 active)  in 0.002 seconds - new frequency is -100\n",
      "Cbc0014I Cut generator 4 (MixedIntegerRounding2) - 874 row cuts average 3.4 elements, 0 column cuts (0 active)  in 0.027 seconds - new frequency is -100\n",
      "Cbc0014I Cut generator 5 (FlowCover) - 1 row cuts average 3.0 elements, 0 column cuts (0 active)  in 0.049 seconds - new frequency is -100\n",
      "Cbc0014I Cut generator 6 (TwoMirCuts) - 1406 row cuts average 6.0 elements, 0 column cuts (0 active)  in 0.035 seconds - new frequency is -100\n",
      "Cbc0014I Cut generator 7 (ZeroHalf) - 208 row cuts average 5.3 elements, 0 column cuts (0 active)  in 0.963 seconds - new frequency is -100\n",
      "Cbc0010I After 0 nodes, 1 on tree, 1e+50 best solution, best possible 9 (2.36 seconds)\n",
      "Cbc0010I After 1000 nodes, 13 on tree, 1e+50 best solution, best possible 9 (4.46 seconds)\n",
      "Cbc0004I Integer solution of 9 found after 28619 iterations and 1130 nodes (4.64 seconds)\n",
      "Cbc0001I Search completed - best objective 9, took 93293 iterations and 3596 nodes (4.64 seconds)\n",
      "Cbc0032I Strong branching done 8076 times (45247 iterations), fathomed 273 nodes and fixed 774 variables\n",
      "Cbc0041I Maximum depth 22, 0 variables fixed on reduced cost (complete fathoming 32 times, 2466 nodes taking 64674 iterations)\n",
      "Cuts at root node changed objective from 9 to 9\n",
      "Probing was tried 100 times and created 141 cuts of which 0 were active after adding rounds of cuts (0.023 seconds)\n",
      "Gomory was tried 100 times and created 2030 cuts of which 0 were active after adding rounds of cuts (0.043 seconds)\n",
      "Knapsack was tried 100 times and created 11 cuts of which 0 were active after adding rounds of cuts (0.029 seconds)\n",
      "Clique was tried 100 times and created 0 cuts of which 0 were active after adding rounds of cuts (0.002 seconds)\n",
      "MixedIntegerRounding2 was tried 100 times and created 874 cuts of which 0 were active after adding rounds of cuts (0.027 seconds)\n",
      "FlowCover was tried 100 times and created 1 cuts of which 0 were active after adding rounds of cuts (0.049 seconds)\n",
      "TwoMirCuts was tried 100 times and created 1406 cuts of which 0 were active after adding rounds of cuts (0.035 seconds)\n",
      "ZeroHalf was tried 100 times and created 208 cuts of which 0 were active after adding rounds of cuts (0.963 seconds)\n",
      "ImplicationCuts was tried 13 times and created 18 cuts of which 0 were active after adding rounds of cuts (0.000 seconds)\n",
      "\n",
      "Result - Optimal solution found\n",
      "\n",
      "Objective value:                9.00000000\n",
      "Enumerated nodes:               3596\n",
      "Total iterations:               93293\n",
      "Time (CPU seconds):             3.79\n",
      "Time (Wallclock seconds):       4.64\n",
      "\n",
      "Option for printingOptions changed from normal to all\n",
      "Total time (CPU seconds):       3.79   (Wallclock seconds):       4.65\n",
      "\n"
     ]
    }
   ],
   "source": [
    "status = prob.solve()"
   ]
  },
  {
   "cell_type": "code",
   "execution_count": 13,
   "metadata": {},
   "outputs": [
    {
     "data": {
      "text/plain": [
       "'Optimal'"
      ]
     },
     "execution_count": 13,
     "metadata": {},
     "output_type": "execute_result"
    }
   ],
   "source": [
    "LpStatus[status]"
   ]
  },
  {
   "cell_type": "code",
   "execution_count": 14,
   "metadata": {},
   "outputs": [
    {
     "name": "stdout",
     "output_type": "stream",
     "text": [
      "value of L: 9.0\n",
      "6.0 6.0\n",
      "2.0 3.0\n",
      "9.0 0.0\n",
      "6.0 3.0\n",
      "6.0 0.0\n",
      "3.0 0.0\n",
      "0.0 0.0\n",
      "9.0 6.0\n"
     ]
    }
   ],
   "source": [
    "print(f\"value of L: {value(L)}\")\n",
    "for i in range(n):\n",
    "    print(value(pos_x[i]), value(pos_y[i]))"
   ]
  },
  {
   "cell_type": "code",
   "execution_count": null,
   "metadata": {},
   "outputs": [],
   "source": []
  },
  {
   "cell_type": "code",
   "execution_count": null,
   "metadata": {},
   "outputs": [],
   "source": []
  },
  {
   "cell_type": "code",
   "execution_count": null,
   "metadata": {},
   "outputs": [],
   "source": []
  },
  {
   "cell_type": "code",
   "execution_count": null,
   "metadata": {},
   "outputs": [],
   "source": []
  }
 ],
 "metadata": {
  "interpreter": {
   "hash": "9717342062b60acdb94543fc6e94083b4e6a13af0edd7bd45e1b103ee3fa2234"
  },
  "kernelspec": {
   "display_name": "Python 3.7.9 ('venv': venv)",
   "language": "python",
   "name": "python3"
  },
  "language_info": {
   "codemirror_mode": {
    "name": "ipython",
    "version": 3
   },
   "file_extension": ".py",
   "mimetype": "text/x-python",
   "name": "python",
   "nbconvert_exporter": "python",
   "pygments_lexer": "ipython3",
   "version": "3.7.9"
  },
  "orig_nbformat": 4
 },
 "nbformat": 4,
 "nbformat_minor": 2
}
