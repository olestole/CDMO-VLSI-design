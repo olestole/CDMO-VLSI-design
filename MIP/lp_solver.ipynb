{
 "cells": [
  {
   "cell_type": "code",
   "execution_count": 13,
   "metadata": {},
   "outputs": [],
   "source": [
    "from pulp import *\n",
    "import utils\n",
    "import math\n",
    "import numpy as np"
   ]
  },
  {
   "cell_type": "code",
   "execution_count": 14,
   "metadata": {},
   "outputs": [],
   "source": [
    "WIDTH = 0\n",
    "HEIGHT = 1\n",
    "TIME_LIMIT = 300"
   ]
  },
  {
   "cell_type": "code",
   "execution_count": 15,
   "metadata": {},
   "outputs": [],
   "source": [
    "def compute_lb(w, dims, roation):\n",
    "    n_rows = math.ceil(sum(dims[:, WIDTH]) / w)\n",
    "    sorted_heights = sorted(dims[:, HEIGHT])\n",
    "    lb = np.sum(sorted_heights[:n_rows])\n",
    "    if roation:\n",
    "        lower_bound = lb\n",
    "    else:\n",
    "        lower_bound = lb if lb >= max(dims[:, HEIGHT]) else max(dims[:, HEIGHT])\n",
    "    \n",
    "    return lower_bound"
   ]
  },
  {
   "cell_type": "code",
   "execution_count": 16,
   "metadata": {},
   "outputs": [],
   "source": [
    "def run_LP(w, n, dims, rotation, break_symmetry, log_path):    \n",
    "    lower_bound = compute_lb(w, dims, rotation)\n",
    "    upper_bound = sum(dims[:, HEIGHT])\n",
    "    k = 4\n",
    "    prob = LpProblem(\"VLSI\", LpMinimize)\n",
    "    L = LpVariable(\"L\", lower_bound, upper_bound, LpInteger)\n",
    "    pos_x = LpVariable.dicts(\"pos_x\", range(n), 0, w, LpInteger)\n",
    "    pos_y = LpVariable.dicts(\"pos_y\", range(n), 0, upper_bound, LpInteger)\n",
    "    M0 = M1 = w\n",
    "    M2 = M3 = upper_bound\n",
    "    pos_chosen = LpVariable.dict(\"pos_chosen\", (range(n), range(n), range(k)), 0, 1, LpInteger)\n",
    "    rotated = LpVariable.dict(\"rotated\", range(n), 0, 1, LpInteger)\n",
    "    prob += L\n",
    "\n",
    "    if rotation:\n",
    "        for i in range(n):\n",
    "            prob += L >= pos_y[i] + dims[i, HEIGHT]*(1-rotated[i])+ rotated[i]*dims[i, WIDTH]\n",
    "            if break_symmetry and dims[i, HEIGHT] == dims[i, WIDTH]:\n",
    "                # Break symmetry: Not allowed to rotate when it is a square\n",
    "                prob += rotated[i] == 0\n",
    "            for j in range(i + 1, n):\n",
    "                prob += pos_x[i] + (1-rotated[i])*dims[i, WIDTH] + rotated[i]*dims[i, HEIGHT]<= pos_x[j] + M0 * (pos_chosen[i, j, 0])\n",
    "                prob += pos_x[j] + (1-rotated[j])*dims[j, WIDTH] + rotated[j]*dims[j, HEIGHT] <= pos_x[i] + M1 * (pos_chosen[i, j, 1])\n",
    "                prob += pos_y[i] + (1-rotated[i])*dims[i, HEIGHT] + rotated[i]*dims[i, WIDTH]<= pos_y[j] + M2 * (pos_chosen[i, j, 2])\n",
    "                prob += pos_y[j] + (1-rotated[j])*dims[j, HEIGHT] + rotated[j]*dims[j, WIDTH]<= pos_y[i] + M3 * (pos_chosen[i, j, 3])\n",
    "                prob += lpSum([pos_chosen[i, j, k] for k in range(k)]) <= 3\n",
    "\n",
    "            prob += pos_x[i] + (1-rotated[i])*dims[i, WIDTH] + rotated[i]*dims[i, HEIGHT] <= M1  \n",
    "\n",
    "    if not rotation:\n",
    "        for i in range(n):\n",
    "            prob += L >= pos_y[i] + dims[i, HEIGHT]\n",
    "            for j in range(i + 1, n):\n",
    "                prob += pos_x[i] + dims[i, WIDTH] <= pos_x[j] + M0 * pos_chosen[i, j, 0]\n",
    "                prob += pos_x[j] + dims[j, WIDTH] <= pos_x[i] + M1 * pos_chosen[i, j, 1]\n",
    "                prob += pos_y[i] + dims[i, HEIGHT] <= pos_y[j] + M2 * pos_chosen[i, j, 2]\n",
    "                prob += pos_y[j] + dims[j, HEIGHT] <= pos_y[i] + M3 * pos_chosen[i, j, 3]\n",
    "                prob += lpSum([pos_chosen[i, j, k] for k in range(k)]) <= k - 1\n",
    "            prob += pos_x[i] + dims[i, WIDTH] <= M1 \n",
    "\n",
    "    status = prob.solve(PULP_CBC_CMD(timeLimit=TIME_LIMIT, msg=1, logPath=log_path))\n",
    "    LpStatus[status]\n",
    "\n",
    "    sol = []\n",
    "    sol.append([w, int(value(L))])\n",
    "    sol.append([n])\n",
    "    for i in range(n):\n",
    "        if rotation:\n",
    "            width = dims[i, int(value(rotated[i]))]\n",
    "            height = dims[i, 1-int(value(rotated[i]))]\n",
    "        else:\n",
    "            width = dims[i, WIDTH]\n",
    "            height = dims[i, HEIGHT]\n",
    "        sol.append([width, height, int(value(pos_x[i])), int(value(pos_y[i]))])\n",
    "    return sol, prob"
   ]
  },
  {
   "cell_type": "code",
   "execution_count": 17,
   "metadata": {},
   "outputs": [],
   "source": [
    "def make_solution_str(sol):\n",
    "    w = sol[0][0]\n",
    "    l = sol[0][1]\n",
    "    n = sol[1][0]\n",
    "    str = f\"{w} {l}\\n{n}\\n\"\n",
    "\n",
    "    for i in range(2, len(sol)):\n",
    "        str += f\"{sol[i][0]} {sol[i][1]} {sol[i][2]} {sol[i][3]}\\n\"\n",
    "    \n",
    "    return str"
   ]
  },
  {
   "cell_type": "code",
   "execution_count": 19,
   "metadata": {},
   "outputs": [
    {
     "name": "stdout",
     "output_type": "stream",
     "text": [
      "Value of L: 8\n",
      "Time: 0.06343770027160645\n"
     ]
    },
    {
     "data": {
      "image/png": "[encoded data removed]",
      "text/plain": [
       "<Figure size 288x288 with 1 Axes>"
      ]
     },
     "metadata": {
      "needs_background": "light"
     },
     "output_type": "display_data"
    },
    {
     "name": "stdout",
     "output_type": "stream",
     "text": [
      "Value of L: 9\n",
      "Time: 0.09003591537475586\n"
     ]
    },
    {
     "data": {
      "image/png": "[encoded data removed]",
      "text/plain": [
       "<Figure size 324x324 with 1 Axes>"
      ]
     },
     "metadata": {
      "needs_background": "light"
     },
     "output_type": "display_data"
    },
    {
     "name": "stdout",
     "output_type": "stream",
     "text": [
      "Value of L: 10\n",
      "Time: 1.4231629371643066\n"
     ]
    },
    {
     "data": {
      "image/png": "[encoded data removed]",
      "text/plain": [
       "<Figure size 360x360 with 1 Axes>"
      ]
     },
     "metadata": {
      "needs_background": "light"
     },
     "output_type": "display_data"
    }
   ],
   "source": [
    "INSTANCE_NUMBER = 2\n",
    "ALL_SOLUTIONS = False\n",
    "ROTATION = True\n",
    "BREAK_SYMMETRY  = True\n",
    "\n",
    "solutions = []\n",
    "for i in range(1,4):\n",
    "    file_path = f\"../instances/ins-{i}.txt\"\n",
    "    w, n, dims = utils.read_output(file_path)\n",
    "\n",
    "    if ROTATION:\n",
    "        if BREAK_SYMMETRY:\n",
    "            log_path = f\"./MIP_logs/rotation/BS/log_ins-{i}.txt\"\n",
    "        else: \n",
    "            log_path = f\"./MIP_logs/rotation/notBS/log_ins-{i}.txt\"\n",
    "    else:    \n",
    "        log_path = f\"./MIP_logs/fixed_position/log_ins-{i}.txt\"    \n",
    "\n",
    "\n",
    "    sol, prob = run_LP(w,n, dims, ROTATION, BREAK_SYMMETRY, log_path)\n",
    "\n",
    "    if (prob.solutionTime>=TIME_LIMIT):\n",
    "        print(f\"Instance {i} timed out\")\n",
    "        sol_str = f\"{300}\"\n",
    "    else:\n",
    "        print(f\"Value of L: {sol[0][1]}\")\n",
    "        print(f\"Time: {prob.solutionTime}\")\n",
    "        v = utils.visualize_output(sol, dims, i)\n",
    "        sol_str = make_solution_str(sol)\n",
    "        sol_str += f\"\\n{prob.solutionTime}\"\n",
    "    \n",
    "    \n",
    "\n",
    "    if BREAK_SYMMETRY and ROTATION:\n",
    "        output_file = f\"./MIP_solutions/rotation_{ROTATION}/break_symmetry/sol_ins-{i}.txt\"\n",
    "    else:\n",
    "        output_file = f\"./MIP_solutions/rotation_{ROTATION}/sol_ins-{i}.txt\"\n",
    "    utils.write_output_to_file(output_file, sol_str)"
   ]
  },
  {
   "cell_type": "code",
   "execution_count": null,
   "metadata": {},
   "outputs": [],
   "source": []
  }
 ],
 "metadata": {
  "interpreter": {
   "hash": "aee8b7b246df8f9039afb4144a1f6fd8d2ca17a180786b69acc140d282b71a49"
  },
  "kernelspec": {
   "display_name": "Python 3.9.9 64-bit",
   "language": "python",
   "name": "python3"
  },
  "language_info": {
   "codemirror_mode": {
    "name": "ipython",
    "version": 3
   },
   "file_extension": ".py",
   "mimetype": "text/x-python",
   "name": "python",
   "nbconvert_exporter": "python",
   "pygments_lexer": "ipython3",
   "version": "3.9.9"
  },
  "orig_nbformat": 4
 },
 "nbformat": 4,
 "nbformat_minor": 2
}
