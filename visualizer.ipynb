{
 "cells": [
  {
   "cell_type": "code",
   "execution_count": null,
   "metadata": {},
   "outputs": [],
   "source": [
    "pos_x = [0, 3, 0, 3, 0]\n",
    "pos_y = [10, 5, 5, 10, 0]\n",
    "dims = [[3, 3], [5, 5], [3, 5], [5, 3], [5, 5]]"
   ]
  }
 ],
 "metadata": {
  "language_info": {
   "name": "python"
  },
  "orig_nbformat": 4
 },
 "nbformat": 4,
 "nbformat_minor": 2
}
