{
 "cells": [
  {
   "cell_type": "markdown",
   "metadata": {},
   "source": [
    "# Preprocessor for .txt -> .dzn"
   ]
  },
  {
   "cell_type": "code",
   "execution_count": null,
   "metadata": {},
   "outputs": [],
   "source": [
    "import os"
   ]
  },
  {
   "cell_type": "code",
   "execution_count": 58,
   "metadata": {},
   "outputs": [],
   "source": [
    "def dzn_preprocessor(w: int, n: int, circuits) -> str:\n",
    "    n_formatted = f\"n = {n};\"\n",
    "    w_formatted = f\"w = {w};\"\n",
    "\n",
    "    dims_formatted = \"dims = \\n[\"\n",
    "    for circuit in circuits:\n",
    "        dims_formatted += f\"| {circuit[0]}, {circuit[1]} \\n\"\n",
    "    dims_formatted += \"|];\"\n",
    "    \n",
    "    dzn_content = f\"\"\"{n_formatted.strip()}\n",
    "{w_formatted.strip()}\\n\n",
    "{dims_formatted.strip()}\n",
    "    \"\"\"\n",
    "\n",
    "    return dzn_content"
   ]
  },
  {
   "cell_type": "code",
   "execution_count": 60,
   "metadata": {},
   "outputs": [],
   "source": [
    "instance_dir = 'instances'\n",
    "dzn_dir = \"dzn_instances\"\n",
    "\n",
    "directory_path = os.path.join(os.getcwd(), instance_dir)\n",
    "dzn_path = os.path.join(os.getcwd(), dzn_dir)\n",
    "\n",
    "directory = os.fsencode(directory_path)\n",
    "    \n",
    "for file in os.listdir(directory):\n",
    "    filename = os.fsdecode(file)\n",
    "    file_path = os.path.join(directory_path, filename)\n",
    "    \n",
    "    with open(file_path, 'r') as f:\n",
    "        data = f.readlines()\n",
    "        data = [x.strip() for x in data]\n",
    "        data = [x.split(' ') for x in data]\n",
    "        data = [[int(y) for y in x] for x in data]\n",
    "        w = data[0][0]\n",
    "        n = data[1][0]\n",
    "        data = data[2:]\n",
    "        dzn_content = dzn_preprocessor(w, n, data)\n",
    "        \n",
    "        # Write the file\n",
    "        output_file_path = os.path.join(directory_path, f'{filename[:-4]}_dzn.dzn')\n",
    "        with open(os.path.join(dzn_path, f'{filename[:-4]}.dzn'), 'w') as f:\n",
    "            f.write(dzn_content)"
   ]
  }
 ],
 "metadata": {
  "interpreter": {
   "hash": "07ecb10c4bda2638b2a302440f1ccf4970f3c5d04de442eb28446047f6d9588b"
  },
  "kernelspec": {
   "display_name": "Python 3.7.9 ('venv': venv)",
   "language": "python",
   "name": "python3"
  },
  "language_info": {
   "codemirror_mode": {
    "name": "ipython",
    "version": 3
   },
   "file_extension": ".py",
   "mimetype": "text/x-python",
   "name": "python",
   "nbconvert_exporter": "python",
   "pygments_lexer": "ipython3",
   "version": "3.7.9"
  },
  "orig_nbformat": 4
 },
 "nbformat": 4,
 "nbformat_minor": 2
}
