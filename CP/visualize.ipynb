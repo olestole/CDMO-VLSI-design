{
 "cells": [
  {
   "cell_type": "code",
   "execution_count": null,
   "metadata": {},
   "outputs": [],
   "source": [
    "import numpy as np\n",
    "import matplotlib.pyplot as plt\n",
    "import matplotlib.patches as patches\n",
    "import math\n",
    "import os\n"
   ]
  },
  {
   "cell_type": "code",
   "execution_count": null,
   "metadata": {},
   "outputs": [],
   "source": [
    "def read_output(filename):\n",
    "    arr = []\n",
    "    with open(filename) as f:\n",
    "        for line in f:\n",
    "            if not line.strip():\n",
    "                continue;\n",
    "            if not line.startswith('{'):\n",
    "                elm = line.strip().split(' ')\n",
    "                int_elm = [int(elm) for elm in elm]\n",
    "                arr.append(int_elm)\n",
    "    return arr"
   ]
  },
  {
   "cell_type": "code",
   "execution_count": null,
   "metadata": {},
   "outputs": [],
   "source": [
    "def visualize_output(output):\n",
    "    w = output[0][0]\n",
    "    l = output[0][1]\n",
    "    n = output[1][0]\n",
    "    roation = output[-1]\n",
    "    if len(roation) != n:\n",
    "            roation = [0]*n\n",
    "            output.append(roation)\n",
    "    elif n==4:\n",
    "            if not all([ r == 0 or r == 1 for r in roation ]):\n",
    "                roation = [0]*n\n",
    "                output.append(roation)\n",
    "\n",
    "    colors = np.array(['red', 'green', 'blue', 'yellow', 'orange', 'pink', 'purple', 'brown']*(math.ceil(n/8)))\n",
    "\n",
    "\n",
    "    fig = plt.figure(figsize=(w/2, l/2))\n",
    "    ax = fig.gca()\n",
    "    ax.set_xticks(np.arange(0, w+1, 1))\n",
    "    ax.set_yticks(np.arange(0, l+1, 1))\n",
    "    plt.grid()\n",
    "    for i, [width, height, x, y] in enumerate(np.array(output[2:-1])):\n",
    "        rect = patches.Rectangle((x, y), width, height, linewidth=3, edgecolor='black', facecolor=colors[i])\n",
    "        ax.add_patch(rect)\n",
    "        ax.text(x+width/2-0.7, y+height/2, 'Rotated' if roation[i] else '')\n",
    "    plt.show()\n",
    "    return fig"
   ]
  },
  {
   "cell_type": "code",
   "execution_count": null,
   "metadata": {},
   "outputs": [],
   "source": [
    "filename = 'VLSIdesign/sol_ins-1.txt'\n",
    "file_path = os.path.join(\"out\", filename)\n",
    "\n",
    "output = read_output(file_path)\n",
    "output\n",
    "f = visualize_output(output)"
   ]
  },
  {
   "cell_type": "code",
   "execution_count": null,
   "metadata": {},
   "outputs": [],
   "source": [
    "filename = 'sol_ins-40.txt'\n",
    "file_path = os.path.join(\"out\", filename)\n",
    "\n",
    "output = read_output(file_path)\n",
    "output\n",
    "f = visualize_output(output)"
   ]
  },
  {
   "cell_type": "code",
   "execution_count": null,
   "metadata": {},
   "outputs": [],
   "source": []
  }
 ],
 "metadata": {
  "kernelspec": {
   "display_name": "Python 3.7.9 ('venv': venv)",
   "language": "python",
   "name": "python3"
  },
  "language_info": {
   "codemirror_mode": {
    "name": "ipython",
    "version": 3
   },
   "file_extension": ".py",
   "mimetype": "text/x-python",
   "name": "python",
   "nbconvert_exporter": "python",
   "pygments_lexer": "ipython3",
   "version": "3.7.9"
  },
  "orig_nbformat": 4,
  "vscode": {
   "interpreter": {
    "hash": "9717342062b60acdb94543fc6e94083b4e6a13af0edd7bd45e1b103ee3fa2234"
   }
  }
 },
 "nbformat": 4,
 "nbformat_minor": 2
}
