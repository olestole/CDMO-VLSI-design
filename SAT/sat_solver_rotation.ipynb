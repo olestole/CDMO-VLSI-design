{
 "cells": [
  {
   "cell_type": "code",
   "execution_count": 2,
   "metadata": {},
   "outputs": [],
   "source": [
    "from itertools import combinations\n",
    "import numpy as np\n",
    "from z3 import *\n",
    "import utils\n",
    "import SAT_constraints"
   ]
  },
  {
   "cell_type": "code",
   "execution_count": 3,
   "metadata": {},
   "outputs": [],
   "source": [
    "WIDTH = 0\n",
    "HEIGHT = 1"
   ]
  },
  {
   "cell_type": "code",
   "execution_count": 4,
   "metadata": {},
   "outputs": [],
   "source": [
    "def coherent_cicuits(bool_vars, dims, n, w, upper_bound):\n",
    "    constraints = []\n",
    "    for c in range(1, n + 1):\n",
    "        c_constraints = []\n",
    "        height = dims[c - 1][HEIGHT]\n",
    "        width = dims[c - 1][WIDTH]\n",
    "        for x in range(w - (width - 1)):\n",
    "            for y in range(upper_bound - (height - 1)):\n",
    "                normal = []\n",
    "                rotated = []\n",
    "                # Should it be strictly less than or less than and equal here?\n",
    "                rotation_possible = ((x+height) < w) and ((y+width) < upper_bound) and (width != height)\n",
    "                for i in range(0, width):\n",
    "                     for j in range(0, height):\n",
    "                         normal.append(bool_vars[x+i][y+j][c])\n",
    "                         if rotation_possible: \n",
    "                             rotated.append(bool_vars[x+j][y+i][c])\n",
    "                \n",
    "                c_constraints.append(And(normal))\n",
    "                if len(rotated)>0:\n",
    "                    c_constraints.append(And(rotated))\n",
    "        # constraints.append(Or(c_constraints))  \n",
    "        ex = SAT_constraints.exactly_one_seq(c_constraints, f\"coherent_{c}\")\n",
    "        constraints.append(ex)\n",
    "              \n",
    "    return And(constraints)\n",
    "\n"
   ]
  },
  {
   "cell_type": "code",
   "execution_count": 5,
   "metadata": {},
   "outputs": [],
   "source": [
    "def vlsi_design(w, n, dims, upper_bound):\n",
    "    s = Solver()\n",
    "    upper_bound = sum(dims[:, 1])\n",
    "    print(\"Upper bound:\", upper_bound)\n",
    "\n",
    "    # Model the problem\n",
    "    v = [[[Bool(f\"v_{x}_{y}_{c}\") for c in range(0, n + 1)] for y in range(upper_bound)] for x in range(w)]\n",
    "    \n",
    "    # At most one circuit in each grid cell\n",
    "    for x in range(w):\n",
    "        for y in range(upper_bound):\n",
    "            predicate = v[x][y]\n",
    "            # print(predicate)\n",
    "            s.add(SAT_constraints.at_most_one_seq(predicate, f\"valid_cell_{x}_{y}\"))\n",
    "    \n",
    "    \n",
    "    # Ensures all the circuits are be placed in the grid\n",
    "    total_white_cells = (upper_bound * w) - sum(dims[:, WIDTH] * dims[:, HEIGHT])\n",
    "    if total_white_cells > 0:\n",
    "        predicate = [v[x][y][0] for x in range(w) for y in range(upper_bound)]\n",
    "        s.add(SAT_constraints.exactly_k_seq(predicate, total_white_cells, f\"white_cells_{x}_{y}_{0}\"))\n",
    "    \n",
    "    s.add(coherent_cicuits(v, dims, n, w, upper_bound))\n",
    "    \n",
    "    return s, v"
   ]
  },
  {
   "cell_type": "code",
   "execution_count": 9,
   "metadata": {},
   "outputs": [],
   "source": [
    "def visualize_solution(w, n, dims, l, sol, model):\n",
    "    for x in range(w):\n",
    "        sol.append([])\n",
    "        for y in range(l):\n",
    "            found_circuit = False\n",
    "            for c in range(1, n + 1):\n",
    "                if model.evaluate(v[x][y][c]):\n",
    "                    found_circuit = True\n",
    "                    sol[x].append(c)\n",
    "            if not found_circuit:\n",
    "                sol[x].append(0)\n",
    "    print(sol[1])\n",
    "    utils.visualize_w_color_rotation(sol, w, len(sol[0]), dims)"
   ]
  },
  {
   "cell_type": "code",
   "execution_count": 15,
   "metadata": {},
   "outputs": [],
   "source": [
    "def sat_solver(instance_number):\n",
    "    file_path = f\"../instances/ins-{instance_number}.txt\"\n",
    "    output = utils.read_output(file_path)\n",
    "    w = output[0][0]\n",
    "    n = output[1][0]\n",
    "    dims = np.array(output[2:])\n",
    "\n",
    "    upperbound = sum(dims[:, 1])\n",
    "    l = max(dims[:,1])\n",
    "    s, v = vlsi_design(w, n, dims, l)\n",
    "    while(not s.check()==sat):\n",
    "        print(\"Trying again with l=\", l+1)\n",
    "        l += 1\n",
    "        s, v = vlsi_design(w, n, dims, l)\n",
    "\n",
    "    model = s.model()\n",
    "    sol = []\n",
    "\n",
    "    visualize_solution(w, n, dims, l, sol, model)"
   ]
  },
  {
   "cell_type": "code",
   "execution_count": 16,
   "metadata": {},
   "outputs": [
    {
     "name": "stdout",
     "output_type": "stream",
     "text": [
      "Upper bound: 16\n"
     ]
    },
    {
     "ename": "IndexError",
     "evalue": "string index out of range",
     "output_type": "error",
     "traceback": [
      "\u001b[0;31m---------------------------------------------------------------------------\u001b[0m",
      "\u001b[0;31mIndexError\u001b[0m                                Traceback (most recent call last)",
      "\u001b[0;32m/var/folders/vn/xw7vy4yj4p59wc8lpy7gnh200000gn/T/ipykernel_58581/3923886006.py\u001b[0m in \u001b[0;36m<module>\u001b[0;34m\u001b[0m\n\u001b[1;32m      1\u001b[0m \u001b[0minstance_number\u001b[0m \u001b[0;34m=\u001b[0m \u001b[0;36m1\u001b[0m\u001b[0;34m\u001b[0m\u001b[0;34m\u001b[0m\u001b[0m\n\u001b[0;32m----> 2\u001b[0;31m \u001b[0msat_solver\u001b[0m\u001b[0;34m(\u001b[0m\u001b[0minstance_number\u001b[0m\u001b[0;34m)\u001b[0m\u001b[0;34m\u001b[0m\u001b[0;34m\u001b[0m\u001b[0m\n\u001b[0m",
      "\u001b[0;32m/var/folders/vn/xw7vy4yj4p59wc8lpy7gnh200000gn/T/ipykernel_58581/3987483182.py\u001b[0m in \u001b[0;36msat_solver\u001b[0;34m(instance_number)\u001b[0m\n\u001b[1;32m     17\u001b[0m     \u001b[0msol\u001b[0m \u001b[0;34m=\u001b[0m \u001b[0;34m[\u001b[0m\u001b[0;34m]\u001b[0m\u001b[0;34m\u001b[0m\u001b[0;34m\u001b[0m\u001b[0m\n\u001b[1;32m     18\u001b[0m \u001b[0;34m\u001b[0m\u001b[0m\n\u001b[0;32m---> 19\u001b[0;31m     \u001b[0mvisualize_solution\u001b[0m\u001b[0;34m(\u001b[0m\u001b[0mw\u001b[0m\u001b[0;34m,\u001b[0m \u001b[0mn\u001b[0m\u001b[0;34m,\u001b[0m \u001b[0mdims\u001b[0m\u001b[0;34m,\u001b[0m \u001b[0ml\u001b[0m\u001b[0;34m,\u001b[0m \u001b[0msol\u001b[0m\u001b[0;34m,\u001b[0m \u001b[0mmodel\u001b[0m\u001b[0;34m)\u001b[0m\u001b[0;34m\u001b[0m\u001b[0;34m\u001b[0m\u001b[0m\n\u001b[0m",
      "\u001b[0;32m/var/folders/vn/xw7vy4yj4p59wc8lpy7gnh200000gn/T/ipykernel_58581/3079984233.py\u001b[0m in \u001b[0;36mvisualize_solution\u001b[0;34m(w, n, dims, l, sol, model)\u001b[0m\n\u001b[1;32m      5\u001b[0m             \u001b[0mfound_circuit\u001b[0m \u001b[0;34m=\u001b[0m \u001b[0;32mFalse\u001b[0m\u001b[0;34m\u001b[0m\u001b[0;34m\u001b[0m\u001b[0m\n\u001b[1;32m      6\u001b[0m             \u001b[0;32mfor\u001b[0m \u001b[0mc\u001b[0m \u001b[0;32min\u001b[0m \u001b[0mrange\u001b[0m\u001b[0;34m(\u001b[0m\u001b[0;36m1\u001b[0m\u001b[0;34m,\u001b[0m \u001b[0mn\u001b[0m \u001b[0;34m+\u001b[0m \u001b[0;36m1\u001b[0m\u001b[0;34m)\u001b[0m\u001b[0;34m:\u001b[0m\u001b[0;34m\u001b[0m\u001b[0;34m\u001b[0m\u001b[0m\n\u001b[0;32m----> 7\u001b[0;31m                 \u001b[0;32mif\u001b[0m \u001b[0mmodel\u001b[0m\u001b[0;34m.\u001b[0m\u001b[0mevaluate\u001b[0m\u001b[0;34m(\u001b[0m\u001b[0mv\u001b[0m\u001b[0;34m[\u001b[0m\u001b[0mx\u001b[0m\u001b[0;34m]\u001b[0m\u001b[0;34m[\u001b[0m\u001b[0my\u001b[0m\u001b[0;34m]\u001b[0m\u001b[0;34m[\u001b[0m\u001b[0mc\u001b[0m\u001b[0;34m]\u001b[0m\u001b[0;34m)\u001b[0m\u001b[0;34m:\u001b[0m\u001b[0;34m\u001b[0m\u001b[0;34m\u001b[0m\u001b[0m\n\u001b[0m\u001b[1;32m      8\u001b[0m                     \u001b[0mfound_circuit\u001b[0m \u001b[0;34m=\u001b[0m \u001b[0;32mTrue\u001b[0m\u001b[0;34m\u001b[0m\u001b[0;34m\u001b[0m\u001b[0m\n\u001b[1;32m      9\u001b[0m                     \u001b[0msol\u001b[0m\u001b[0;34m[\u001b[0m\u001b[0mx\u001b[0m\u001b[0;34m]\u001b[0m\u001b[0;34m.\u001b[0m\u001b[0mappend\u001b[0m\u001b[0;34m(\u001b[0m\u001b[0mc\u001b[0m\u001b[0;34m)\u001b[0m\u001b[0;34m\u001b[0m\u001b[0;34m\u001b[0m\u001b[0m\n",
      "\u001b[0;31mIndexError\u001b[0m: string index out of range"
     ]
    }
   ],
   "source": [
    "instance_number = 2\n",
    "sat_solver(instance_number)"
   ]
  },
  {
   "cell_type": "code",
   "execution_count": null,
   "metadata": {},
   "outputs": [],
   "source": [
    "# Old stuff\n",
    "\n",
    "# All the circuits must be placed in the grid\n",
    "\"\"\"for c in range(n):\n",
    "    circuit_area = dims[c, WIDTH] * dims[c, HEIGHT]\n",
    "    predicate = [v[x][y][c] for x in range(w) for y in range(upper_bound)]\n",
    "    s.add(exactly_k_seq(predicate, circuit_area, f\"valid_placement_{c}\"))\"\"\"\n",
    "\n",
    "\"\"\"if s.check() == sat:\n",
    "    model = s.model()\n",
    "    sol = []\n",
    "    for x in range(w):\n",
    "        sol.append([])\n",
    "        for y in range(upper_bound):\n",
    "            found_circuit = False\n",
    "            for c in range(n):\n",
    "                if model.evaluate(v[x][y][c]):\n",
    "                    found_circuit = True\n",
    "                    sol[x].append(c+1)\n",
    "            if not found_circuit:\n",
    "                sol[x].append(0)\n",
    "\n",
    "    return sol\n",
    "else:\n",
    "    print(\"Buhu\")\"\"\"\n",
    "\n",
    "en = 0\n",
    "to =0\n",
    "tre = 0 \n",
    "fire = 0\n",
    "a = 0\n",
    "b =0\n",
    "c = 0\n",
    "\n",
    "\n",
    "for elm in sol:\n",
    "    en += elm.count(1)\n",
    "    to += elm.count(2)\n",
    "    tre += elm.count(3)\n",
    "    fire += elm.count(4)\n",
    "    a += elm.count(5)\n",
    "    b += elm.count(6)\n",
    "    c += elm.count(7)\n",
    "\n",
    "print(en, to, tre, fire, a, b, c)\n",
    "    "
   ]
  },
  {
   "cell_type": "code",
   "execution_count": null,
   "metadata": {},
   "outputs": [],
   "source": []
  }
 ],
 "metadata": {
  "interpreter": {
   "hash": "9717342062b60acdb94543fc6e94083b4e6a13af0edd7bd45e1b103ee3fa2234"
  },
  "kernelspec": {
   "display_name": "Python 3.7.9 ('venv': venv)",
   "language": "python",
   "name": "python3"
  },
  "language_info": {
   "codemirror_mode": {
    "name": "ipython",
    "version": 3
   },
   "file_extension": ".py",
   "mimetype": "text/x-python",
   "name": "python",
   "nbconvert_exporter": "python",
   "pygments_lexer": "ipython3",
   "version": "3.7.9"
  },
  "orig_nbformat": 4
 },
 "nbformat": 4,
 "nbformat_minor": 2
}
