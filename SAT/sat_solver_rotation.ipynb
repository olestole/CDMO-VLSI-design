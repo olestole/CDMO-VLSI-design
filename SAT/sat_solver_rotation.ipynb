{
 "cells": [
  {
   "cell_type": "code",
   "execution_count": 1,
   "metadata": {},
   "outputs": [],
   "source": [
    "from itertools import combinations\n",
    "import numpy as np\n",
    "from z3 import *\n",
    "import utils\n",
    "import SAT_constraints"
   ]
  },
  {
   "cell_type": "code",
   "execution_count": 2,
   "metadata": {},
   "outputs": [],
   "source": [
    "WIDTH = 0\n",
    "HEIGHT = 1"
   ]
  },
  {
   "cell_type": "code",
   "execution_count": 3,
   "metadata": {},
   "outputs": [],
   "source": [
    "def coherent_cicuits(bool_vars, dims, n, w, upper_bound):\n",
    "    constraints = []\n",
    "    for c in range(1, n + 1):\n",
    "        c_constraints = []\n",
    "        height = dims[c - 1][HEIGHT]\n",
    "        width = dims[c - 1][WIDTH]\n",
    "        for x in range(w - (width - 1)):\n",
    "            for y in range(upper_bound - (height - 1)):\n",
    "                normal = []\n",
    "                rotated = []\n",
    "                # Should it be strictly less than or less than and equal here?\n",
    "                rotation_possible = ((x+height) < w) and ((y+width) < upper_bound) and (width != height)\n",
    "                for i in range(0, width):\n",
    "                     for j in range(0, height):\n",
    "                         normal.append(bool_vars[x+i][y+j][c])\n",
    "                         if rotation_possible: \n",
    "                             rotated.append(bool_vars[x+j][y+i][c])\n",
    "                \n",
    "                c_constraints.append(And(normal))\n",
    "                if len(rotated)>0:\n",
    "                    c_constraints.append(And(rotated))\n",
    "        # constraints.append(Or(c_constraints))  \n",
    "        ex = SAT_constraints.exactly_one_seq(c_constraints, f\"coherent_{c}\")\n",
    "        constraints.append(ex)\n",
    "              \n",
    "    return And(constraints)\n",
    "\n"
   ]
  },
  {
   "cell_type": "code",
   "execution_count": 4,
   "metadata": {},
   "outputs": [],
   "source": [
    "def vlsi_design(w, n, dims, upper_bound):\n",
    "    s = Solver()\n",
    "    # upper_bound = sum(dims[:, 1])\n",
    "    print(\"Upper bound:\", upper_bound)\n",
    "\n",
    "    # Model the problem\n",
    "    v = [[[Bool(f\"v_{x}_{y}_{c}\") for c in range(0, n + 1)] for y in range(upper_bound)] for x in range(w)]\n",
    "    \n",
    "    # At most one circuit in each grid cell\n",
    "    for x in range(w):\n",
    "        for y in range(upper_bound):\n",
    "            predicate = v[x][y]\n",
    "            # print(predicate)\n",
    "            s.add(SAT_constraints.at_most_one_seq(predicate, f\"valid_cell_{x}_{y}\"))\n",
    "    \n",
    "    # All the circuits must be placed in the grid\n",
    "    \"\"\"for c in range(n):\n",
    "        circuit_area = dims[c, WIDTH] * dims[c, HEIGHT]\n",
    "        predicate = [v[x][y][c] for x in range(w) for y in range(upper_bound)]\n",
    "        s.add(exactly_k_seq(predicate, circuit_area, f\"valid_placement_{c}\"))\"\"\"\n",
    "    \n",
    "    \n",
    "\n",
    "    total_white_cells = (upper_bound * w) - sum(dims[:, WIDTH] * dims[:, HEIGHT])\n",
    "    if total_white_cells > 0:\n",
    "        predicate = [v[x][y][0] for x in range(w) for y in range(upper_bound)]\n",
    "        s.add(SAT_constraints.exactly_k_seq(predicate, total_white_cells, f\"white_cells_{x}_{y}_{0}\"))\n",
    "    \n",
    "    s.add(coherent_cicuits(v, dims, n, w, upper_bound))\n",
    "    \n",
    "    return s, v\n",
    "\n",
    "\n",
    "    \"\"\"if s.check() == sat:\n",
    "        model = s.model()\n",
    "        sol = []\n",
    "        for x in range(w):\n",
    "            sol.append([])\n",
    "            for y in range(upper_bound):\n",
    "                found_circuit = False\n",
    "                for c in range(n):\n",
    "                    if model.evaluate(v[x][y][c]):\n",
    "                        found_circuit = True\n",
    "                        sol[x].append(c+1)\n",
    "                if not found_circuit:\n",
    "                    sol[x].append(0)\n",
    "\n",
    "        return sol\n",
    "    else:\n",
    "        print(\"Buhu\")\"\"\""
   ]
  },
  {
   "cell_type": "code",
   "execution_count": 5,
   "metadata": {},
   "outputs": [
    {
     "name": "stdout",
     "output_type": "stream",
     "text": [
      "121\n",
      "Upper bound: 12\n",
      "[0, 0, 1, 1, 1, 4, 4, 4, 2, 2, 2, 2]\n"
     ]
    },
    {
     "data": {
      "image/png": "[encoded data removed]",
      "text/plain": [
       "<Figure size 288x264 with 1 Axes>"
      ]
     },
     "metadata": {
      "needs_background": "light"
     },
     "output_type": "display_data"
    }
   ],
   "source": [
    "#w = 8\n",
    "#n = 4\n",
    "#dims = np.array([[3, 3], [3, 5], [5, 3], [5, 5]])\n",
    "\n",
    "w = 11\n",
    "n = 7\n",
    "dims = np.array([[3, 3], [3, 4], [3, 5], [3, 6], [5, 3], [5, 4], [8, 4]])\n",
    "\n",
    "print(sum(dims[:, WIDTH] * dims[:, HEIGHT]))\n",
    "\n",
    "upperbound = sum(dims[:, 1])\n",
    "l = max(dims[:,1])\n",
    "l = 12\n",
    "s, v = vlsi_design(w, n, dims, l)\n",
    "while(not s.check()==sat):\n",
    "    print(\"Trying again with l=\", l+1)\n",
    "    l += 1\n",
    "    s, v = vlsi_design(w, n, dims, l)\n",
    "\n",
    "\n",
    "\n",
    "model = s.model()\n",
    "sol = []\n",
    "\n",
    "\n",
    "for x in range(w):\n",
    "    sol.append([])\n",
    "    for y in range(l):\n",
    "        found_circuit = False\n",
    "        for c in range(1, n + 1):\n",
    "            if model.evaluate(v[x][y][c]):\n",
    "                found_circuit = True\n",
    "                sol[x].append(c)\n",
    "        if not found_circuit:\n",
    "            sol[x].append(0)\n",
    "print(sol[1])\n",
    "utils.visualize_w_color_rotation(sol, w, len(sol[0]), dims)"
   ]
  },
  {
   "cell_type": "code",
   "execution_count": 6,
   "metadata": {},
   "outputs": [
    {
     "name": "stdout",
     "output_type": "stream",
     "text": [
      "9 12 15 18 15 20 32\n"
     ]
    }
   ],
   "source": [
    "en = 0\n",
    "to =0\n",
    "tre = 0 \n",
    "fire = 0\n",
    "a = 0\n",
    "b =0\n",
    "c = 0\n",
    "\n",
    "\n",
    "for elm in sol:\n",
    "    en += elm.count(1)\n",
    "    to += elm.count(2)\n",
    "    tre += elm.count(3)\n",
    "    fire += elm.count(4)\n",
    "    a += elm.count(5)\n",
    "    b += elm.count(6)\n",
    "    c += elm.count(7)\n",
    "\n",
    "print(en, to, tre, fire, a, b, c)\n",
    "    "
   ]
  },
  {
   "cell_type": "code",
   "execution_count": 7,
   "metadata": {},
   "outputs": [],
   "source": [
    "import utils\n",
    "\n",
    "instance_number = 30\n",
    "file_path = f\"../instances/ins-{instance_number}.txt\"\n",
    "\n",
    "output = utils.read_output(file_path)\n",
    "w = output[0][0]\n",
    "n = output[1][0]\n",
    "dims = output[2:]"
   ]
  },
  {
   "cell_type": "code",
   "execution_count": null,
   "metadata": {},
   "outputs": [],
   "source": []
  },
  {
   "cell_type": "code",
   "execution_count": null,
   "metadata": {},
   "outputs": [],
   "source": []
  }
 ],
 "metadata": {
  "interpreter": {
   "hash": "aee8b7b246df8f9039afb4144a1f6fd8d2ca17a180786b69acc140d282b71a49"
  },
  "kernelspec": {
   "display_name": "Python 3.9.9 64-bit",
   "language": "python",
   "name": "python3"
  },
  "language_info": {
   "codemirror_mode": {
    "name": "ipython",
    "version": 3
   },
   "file_extension": ".py",
   "mimetype": "text/x-python",
   "name": "python",
   "nbconvert_exporter": "python",
   "pygments_lexer": "ipython3",
   "version": "3.9.9"
  },
  "orig_nbformat": 4
 },
 "nbformat": 4,
 "nbformat_minor": 2
}
