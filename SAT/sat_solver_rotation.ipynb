{
 "cells": [
  {
   "cell_type": "code",
   "execution_count": 2,
   "metadata": {},
   "outputs": [],
   "source": [
    "from itertools import combinations\n",
    "import numpy as np\n",
    "from z3 import *\n",
    "import utils\n",
    "import SAT_constraints\n",
    "import logging"
   ]
  },
  {
   "cell_type": "code",
   "execution_count": 3,
   "metadata": {},
   "outputs": [],
   "source": [
    "# Define your preferred logging level\n",
    "logging.basicConfig(format='[%(levelname)s] %(message)s', level=logging.INFO)"
   ]
  },
  {
   "cell_type": "code",
   "execution_count": 4,
   "metadata": {},
   "outputs": [],
   "source": [
    "WIDTH = 0\n",
    "HEIGHT = 1"
   ]
  },
  {
   "cell_type": "code",
   "execution_count": 5,
   "metadata": {},
   "outputs": [],
   "source": [
    "# Ensures that the circuits are connected\n",
    "def coherent_cicuits(bool_vars, dims, n, w, upper_bound):\n",
    "    constraints = []\n",
    "    for c in range(1, n + 1):\n",
    "        c_constraints = []\n",
    "        height = dims[c - 1][HEIGHT]\n",
    "        width = dims[c - 1][WIDTH]\n",
    "        for x in range(w - (width - 1)):\n",
    "            for y in range(upper_bound - (height - 1)):\n",
    "                normal = []\n",
    "                rotated = []\n",
    "                # Should it be strictly less than or less than and equal here?\n",
    "                rotation_possible = ((x+height) < w) and ((y+width) < upper_bound) and (width != height)\n",
    "                for i in range(width):\n",
    "                     for j in range(height):\n",
    "                         normal.append(bool_vars[x+i][y+j][c])\n",
    "                         if rotation_possible: \n",
    "                             rotated.append(bool_vars[x+j][y+i][c])\n",
    "                \n",
    "                c_constraints.append(And(normal))\n",
    "                if len(rotated)>0:\n",
    "                    c_constraints.append(And(rotated))\n",
    "        # constraints.append(Or(c_constraints))  \n",
    "        ex = SAT_constraints.exactly_one_seq(c_constraints, f\"coherent_{c}\")\n",
    "        constraints.append(ex)\n",
    "              \n",
    "    return And(constraints)\n",
    "\n"
   ]
  },
  {
   "cell_type": "code",
   "execution_count": 6,
   "metadata": {},
   "outputs": [],
   "source": [
    "def create_contraints(w, n, dims, upper_bound):\n",
    "    s = Solver()\n",
    "\n",
    "    # Model the problem\n",
    "    v = [[[Bool(f\"v_{x}_{y}_{c}\") for c in range(0, n + 1)] for y in range(upper_bound)] for x in range(w)]\n",
    "    \n",
    "    # At most one circuit in each grid cell\n",
    "    for x in range(w):\n",
    "        for y in range(upper_bound):\n",
    "            predicate = v[x][y]\n",
    "            s.add(SAT_constraints.at_most_one_seq(predicate, f\"valid_cell_{x}_{y}\"))    \n",
    "    \n",
    "    # Ensure the right amount of empty cells -> Ensures that each circuit don't expand more than their dimension\n",
    "    total_white_cells = (upper_bound * w) - sum(dims[:, WIDTH] * dims[:, HEIGHT])\n",
    "    if total_white_cells > 0:\n",
    "        predicate = [v[x][y][0] for x in range(w) for y in range(upper_bound)]\n",
    "        s.add(SAT_constraints.exactly_k_seq(predicate, total_white_cells, f\"white_cells_{x}_{y}_{0}\"))\n",
    "    \n",
    "    s.add(coherent_cicuits(v, dims, n, w, upper_bound))\n",
    "    \n",
    "    return s, v"
   ]
  },
  {
   "cell_type": "code",
   "execution_count": 7,
   "metadata": {},
   "outputs": [],
   "source": [
    "def compute_lb(w, dims):\n",
    "    n_rows = math.ceil(sum(dims[:, WIDTH]) / w)\n",
    "    sorted_heights = sorted(dims[:, HEIGHT])\n",
    "    lb = np.sum(sorted_heights[:n_rows])\n",
    "    l = lb if lb >= max(dims[:, HEIGHT]) else max(dims[:, HEIGHT])\n",
    "    return l"
   ]
  },
  {
   "cell_type": "code",
   "execution_count": 8,
   "metadata": {},
   "outputs": [],
   "source": [
    "def compute_solution(model: ModelRef, v, w, n, l):\n",
    "    sol = []\n",
    "\n",
    "    for x in range(w):\n",
    "        sol.append([])\n",
    "        for y in range(l):\n",
    "            found_circuit = False\n",
    "            for c in range(1, n + 1):\n",
    "                if model.evaluate(v[x][y][c]):\n",
    "                    found_circuit = True\n",
    "                    sol[x].append(c)\n",
    "            if not found_circuit:\n",
    "                sol[x].append(0)\n",
    "    return sol"
   ]
  },
  {
   "cell_type": "code",
   "execution_count": 32,
   "metadata": {},
   "outputs": [],
   "source": [
    "def vlsi_design(instance_number: int, visualize = True) -> None:\n",
    "    file_path = f\"../instances/ins-{instance_number}.txt\"\n",
    "    w, n, dims = utils.read_output(file_path)\n",
    "    l = compute_lb(w, dims)\n",
    "    s, v = create_contraints(w, n, dims, l)\n",
    "\n",
    "    while(not s.check()==sat):\n",
    "        logging.info(f\"Trying again with l= {l+1}\")\n",
    "        l += 1\n",
    "        s, v = create_contraints(w, n, dims, l)\n",
    "\n",
    "    model = s.model()\n",
    "    sol = compute_solution(model, v, w, n, l)\n",
    "    if visualize:\n",
    "        utils.visualize_w_color_rotation(sol, w, len(sol[0]), dims, title=f\"Instance {instance_number}, l={l}\")\n",
    "    return w, n, l, dims, sol, model"
   ]
  },
  {
   "cell_type": "markdown",
   "metadata": {},
   "source": [
    "### Run the SAT VLSI-Design"
   ]
  },
  {
   "cell_type": "code",
   "execution_count": 95,
   "metadata": {},
   "outputs": [],
   "source": [
    "# Parse the solution to correct output form\n",
    "def output_results(w, l, n, dims, sol):\n",
    "    str = f\"{w} {l}\\n{n}\"\n",
    "\n",
    "    pos = {}\n",
    "    for x in range(w):\n",
    "      for y in range(l-1, 0, -1):\n",
    "          c = sol[x][y]\n",
    "\n",
    "          if c != 0 and c not in pos:\n",
    "              pos[c] = [x, (l-1) - y]\n",
    "\n",
    "              numb = sol[x].count(c)\n",
    "              if numb != dims[c-1][1]:\n",
    "                  pos[c].append(\"R\")\n",
    "          \n",
    "    for i in range(n):\n",
    "      rotated = 0\n",
    "      if (len(pos.get(i + 1)) > 2):\n",
    "        rotated = 1\n",
    "      str += f\"\\n{dims[i][WIDTH + rotated]} {dims[i][HEIGHT - rotated]} {pos.get(i + 1)[0]} {pos.get(i + 1)[1]}\"\n",
    "    \n",
    "    return str\n",
    "    \n",
    "\n",
    "    \n",
    "\n"
   ]
  },
  {
   "cell_type": "code",
   "execution_count": 96,
   "metadata": {},
   "outputs": [
    {
     "name": "stderr",
     "output_type": "stream",
     "text": [
      "[INFO] Trying again with l= 7\n",
      "[INFO] Trying again with l= 8\n"
     ]
    },
    {
     "data": {
      "image/png": "[encoded data removed]",
      "text/plain": [
       "<Figure size 192x192 with 1 Axes>"
      ]
     },
     "metadata": {
      "needs_background": "light"
     },
     "output_type": "display_data"
    },
    {
     "name": "stdout",
     "output_type": "stream",
     "text": [
      "8 8\n",
      "4\n",
      "3 3 0 0\n",
      "3 5 0 3\n",
      "5 3 3 5\n",
      "5 5 3 0\n"
     ]
    },
    {
     "data": {
      "image/png": "[encoded data removed]",
      "text/plain": [
       "<Figure size 216x216 with 1 Axes>"
      ]
     },
     "metadata": {
      "needs_background": "light"
     },
     "output_type": "display_data"
    },
    {
     "name": "stdout",
     "output_type": "stream",
     "text": [
      "9 9\n",
      "5\n",
      "3 3 3 0\n",
      "3 4 6 5\n",
      "3 5 6 0\n",
      "3 6 3 3\n",
      "3 9 0 0\n"
     ]
    },
    {
     "name": "stderr",
     "output_type": "stream",
     "text": [
      "[INFO] Trying again with l= 8\n",
      "[INFO] Trying again with l= 9\n",
      "[INFO] Trying again with l= 10\n"
     ]
    },
    {
     "data": {
      "image/png": "[encoded data removed]",
      "text/plain": [
       "<Figure size 240x240 with 1 Axes>"
      ]
     },
     "metadata": {
      "needs_background": "light"
     },
     "output_type": "display_data"
    },
    {
     "name": "stdout",
     "output_type": "stream",
     "text": [
      "10 10\n",
      "6\n",
      "3 3 7 0\n",
      "3 4 0 6\n",
      "3 6 0 0\n",
      "3 7 7 3\n",
      "4 4 3 0\n",
      "4 6 3 4\n"
     ]
    },
    {
     "name": "stderr",
     "output_type": "stream",
     "text": [
      "[INFO] Trying again with l= 11\n"
     ]
    },
    {
     "data": {
      "image/png": "[encoded data removed]",
      "text/plain": [
       "<Figure size 264x264 with 1 Axes>"
      ]
     },
     "metadata": {
      "needs_background": "light"
     },
     "output_type": "display_data"
    },
    {
     "name": "stdout",
     "output_type": "stream",
     "text": [
      "11 11\n",
      "7\n",
      "3 3 8 4\n",
      "3 4 8 0\n",
      "3 5 0 0\n",
      "3 6 0 5\n",
      "5 3 3 0\n",
      "5 4 3 3\n",
      "8 4 3 7\n"
     ]
    },
    {
     "name": "stderr",
     "output_type": "stream",
     "text": [
      "[INFO] Trying again with l= 11\n",
      "[INFO] Trying again with l= 12\n"
     ]
    },
    {
     "data": {
      "image/png": "[encoded data removed]",
      "text/plain": [
       "<Figure size 288x288 with 1 Axes>"
      ]
     },
     "metadata": {
      "needs_background": "light"
     },
     "output_type": "display_data"
    },
    {
     "name": "stdout",
     "output_type": "stream",
     "text": [
      "12 12\n",
      "8\n",
      "3 3 9 0\n",
      "3 4 3 8\n",
      "3 5 0 7\n",
      "3 6 9 3\n",
      "3 7 0 0\n",
      "3 8 3 0\n",
      "3 9 6 0\n",
      "6 3 6 9\n"
     ]
    },
    {
     "name": "stderr",
     "output_type": "stream",
     "text": [
      "[INFO] Trying again with l= 11\n",
      "[INFO] Trying again with l= 12\n",
      "[INFO] Trying again with l= 13\n"
     ]
    },
    {
     "data": {
      "image/png": "[encoded data removed]",
      "text/plain": [
       "<Figure size 312x312 with 1 Axes>"
      ]
     },
     "metadata": {
      "needs_background": "light"
     },
     "output_type": "display_data"
    },
    {
     "name": "stdout",
     "output_type": "stream",
     "text": [
      "13 13\n",
      "9\n",
      "3 3 0 10\n",
      "3 4 0 6\n",
      "3 5 10 8\n",
      "3 6 7 0\n",
      "7 3 3 10\n",
      "3 8 10 0\n",
      "3 4 3 6\n",
      "4 4 6 6\n",
      "7 6 0 0\n"
     ]
    },
    {
     "name": "stderr",
     "output_type": "stream",
     "text": [
      "[INFO] Trying again with l= 12\n",
      "[INFO] Trying again with l= 13\n",
      "[INFO] Trying again with l= 14\n"
     ]
    },
    {
     "data": {
      "image/png": "[encoded data removed]",
      "text/plain": [
       "<Figure size 336x336 with 1 Axes>"
      ]
     },
     "metadata": {
      "needs_background": "light"
     },
     "output_type": "display_data"
    },
    {
     "name": "stdout",
     "output_type": "stream",
     "text": [
      "14 14\n",
      "9\n",
      "3 3 11 11\n",
      "3 4 11 0\n",
      "3 5 8 9\n",
      "3 6 0 8\n",
      "3 7 11 4\n",
      "3 8 0 0\n",
      "3 9 8 0\n",
      "5 4 3 0\n",
      "5 10 3 4\n"
     ]
    }
   ],
   "source": [
    "for i in range(1, 8):\n",
    "    w, n, l, dims, sol, model = vlsi_design(i)\n",
    "    output = output_results(w, l, n, dims, sol)\n",
    "    print(output)\n",
    "\n"
   ]
  },
  {
   "cell_type": "code",
   "execution_count": null,
   "metadata": {},
   "outputs": [],
   "source": []
  },
  {
   "cell_type": "code",
   "execution_count": null,
   "metadata": {},
   "outputs": [],
   "source": []
  }
 ],
 "metadata": {
  "interpreter": {
   "hash": "9717342062b60acdb94543fc6e94083b4e6a13af0edd7bd45e1b103ee3fa2234"
  },
  "kernelspec": {
   "display_name": "Python 3.7.9 ('venv': venv)",
   "language": "python",
   "name": "python3"
  },
  "language_info": {
   "codemirror_mode": {
    "name": "ipython",
    "version": 3
   },
   "file_extension": ".py",
   "mimetype": "text/x-python",
   "name": "python",
   "nbconvert_exporter": "python",
   "pygments_lexer": "ipython3",
   "version": "3.7.9"
  },
  "orig_nbformat": 4
 },
 "nbformat": 4,
 "nbformat_minor": 2
}
