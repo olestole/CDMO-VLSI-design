{
 "cells": [
  {
   "cell_type": "code",
   "execution_count": 1,
   "metadata": {},
   "outputs": [],
   "source": [
    "from itertools import combinations, chain\n",
    "import numpy as np\n",
    "from z3 import *\n",
    "import utils\n",
    "import SAT_constraints\n",
    "import logging"
   ]
  },
  {
   "cell_type": "code",
   "execution_count": 2,
   "metadata": {},
   "outputs": [],
   "source": [
    "# Define your preferred logging level\n",
    "logging.basicConfig(format='[%(levelname)s] %(message)s', level=logging.INFO)"
   ]
  },
  {
   "cell_type": "code",
   "execution_count": 3,
   "metadata": {},
   "outputs": [],
   "source": [
    "WIDTH = 0\n",
    "HEIGHT = 1"
   ]
  },
  {
   "cell_type": "code",
   "execution_count": 4,
   "metadata": {},
   "outputs": [],
   "source": [
    "# Ensures that the circuits are connected\n",
    "def coherent_cicuits(bool_vars, dims, n, w, upper_bound):\n",
    "    constraints = []\n",
    "    for c in range(1, n + 1):\n",
    "        c_constraints = []\n",
    "        height = dims[c - 1][HEIGHT]\n",
    "        width = dims[c - 1][WIDTH]\n",
    "        if upper_bound < height: \n",
    "            logging.info(f\"l ({upper_bound}) is less than hight ({height}) of block {c}, so the block {c} must be rotated.\")\n",
    "            # Block is to high for the lower bound. Have to check if it can be rotated.\n",
    "            if ((upper_bound >= width) and (height <= w)): \n",
    "                # Block fits if it is rotated. have to add only rotated posiiton to constraints.\n",
    "                rotated = [And([bool_vars[x+j][y+i][c] for i in range(width) for j in range(height)]) for x in range(w - (height - 1)) for y in range(upper_bound - (width - 1)) ] \n",
    "                ex = SAT_constraints.exactly_one_seq(rotated, f\"coherent_{c}\")\n",
    "                constraints.append(ex)\n",
    "            else: \n",
    "                logging.info(f\"l ({upper_bound}) is less than hight ({height}) of block {c}, and it's height ({height}) is greater than w ({w}). Block {c} it can not be rotated, and l must increase \")\n",
    "        else:\n",
    "            for x in range(w - (width - 1)):\n",
    "                for y in range(upper_bound - (height - 1)):\n",
    "                    normal = []\n",
    "                    rotated = []\n",
    "                    # Should it be strictly less than or less than and equal here?\n",
    "                    rotation_possible = ((x+height) < w) and ((y+width) < upper_bound) and (width != height)\n",
    "                    for i in range(width):\n",
    "                        for j in range(height):\n",
    "                            normal.append(bool_vars[x+i][y+j][c])\n",
    "                            if rotation_possible: \n",
    "                                rotated.append(bool_vars[x+j][y+i][c])\n",
    "                    \n",
    "                    c_constraints.append(And(normal))\n",
    "                    if len(rotated)>0:\n",
    "                        c_constraints.append(And(rotated))\n",
    "            # constraints.append(Or(c_constraints))  \n",
    "            ex = SAT_constraints.exactly_one_seq(c_constraints, f\"coherent_{c}\")\n",
    "            constraints.append(ex)\n",
    "              \n",
    "    return And(constraints)\n",
    "\n"
   ]
  },
  {
   "cell_type": "code",
   "execution_count": 5,
   "metadata": {},
   "outputs": [],
   "source": [
    "def create_contraints(w, n, dims, upper_bound):\n",
    "    s = Solver()\n",
    "\n",
    "    # Model the problem\n",
    "    v = [[[Bool(f\"v_{x}_{y}_{c}\") for c in range(0, n + 1)] for y in range(upper_bound)] for x in range(w)]\n",
    "    \n",
    "    # At most one circuit in each grid cell\n",
    "    for x in range(w):\n",
    "        for y in range(upper_bound):\n",
    "            predicate = v[x][y]\n",
    "            s.add(SAT_constraints.at_most_one_seq(predicate, f\"valid_cell_{x}_{y}\"))    \n",
    "    \n",
    "    # Ensure the right amount of empty cells -> Ensures that each circuit don't expand more than their dimension\n",
    "    total_white_cells = (upper_bound * w) - sum(dims[:, WIDTH] * dims[:, HEIGHT])\n",
    "    if total_white_cells > 0:\n",
    "        predicate = [v[x][y][0] for x in range(w) for y in range(upper_bound)]\n",
    "        s.add(SAT_constraints.exactly_k_seq(predicate, total_white_cells, f\"white_cells_{x}_{y}_{0}\"))\n",
    "    \n",
    "    s.add(coherent_cicuits(v, dims, n, w, upper_bound))\n",
    "    \n",
    "    return s, v"
   ]
  },
  {
   "cell_type": "code",
   "execution_count": 6,
   "metadata": {},
   "outputs": [],
   "source": [
    "def compute_lb(w, dims):\n",
    "    n_rows = math.ceil(sum(dims[:, WIDTH]) / w)\n",
    "    sorted_heights = sorted(dims[:, HEIGHT])\n",
    "    lb = np.sum(sorted_heights[:n_rows])\n",
    "    #l = lb if lb >= max(dims[:, HEIGHT]) else max(dims[:, HEIGHT])\n",
    "    l = lb\n",
    "    return l"
   ]
  },
  {
   "cell_type": "code",
   "execution_count": 7,
   "metadata": {},
   "outputs": [],
   "source": [
    "def compute_solution(model: ModelRef, v, w, n, l):\n",
    "    sol = []\n",
    "\n",
    "    for x in range(w):\n",
    "        sol.append([])\n",
    "        for y in range(l):\n",
    "            found_circuit = False\n",
    "            for c in range(1, n + 1):\n",
    "                if model.evaluate(v[x][y][c]):\n",
    "                    found_circuit = True\n",
    "                    sol[x].append(c)\n",
    "            if not found_circuit:\n",
    "                sol[x].append(0)\n",
    "    return sol"
   ]
  },
  {
   "cell_type": "code",
   "execution_count": 26,
   "metadata": {},
   "outputs": [],
   "source": [
    "def all_smt(s, initial_terms):\n",
    "    # https://stackoverflow.com/questions/11867611/z3py-checking-all-solutions-for-equation/70656700#70656700\n",
    "    logging.info(f\"Looking for all solutions for l= {l}\") \n",
    "    def block_term(s, m, t):\n",
    "        s.add(t != m.eval(t, model_completion=True))\n",
    "    def fix_term(s, m, t):\n",
    "        s.add(t == m.eval(t, model_completion=True))\n",
    "    def all_smt_rec(terms):    \n",
    "        if sat == s.check():\n",
    "           logging.info(f\"Have found another solution(s) for l= {l}\") \n",
    "           m = s.model()\n",
    "           yield m\n",
    "           for i in range(len(terms)):\n",
    "               s.push()\n",
    "               block_term(s, m, terms[i])\n",
    "               for j in range(i):\n",
    "                   fix_term(s, m, terms[j])\n",
    "\n",
    "               # Calls it self recursively till the solution is no longer sat \n",
    "               yield from all_smt_rec(terms[i:])\n",
    "               s.pop()   \n",
    "    yield from all_smt_rec(list(initial_terms))"
   ]
  },
  {
   "cell_type": "code",
   "execution_count": 27,
   "metadata": {},
   "outputs": [],
   "source": [
    "def vlsi_design_one_solution(instance_number: int, visualize = True) -> None:\n",
    "    file_path = f\"../instances/ins-{instance_number}.txt\"\n",
    "    w, n, dims = utils.read_output(file_path)\n",
    "    l = compute_lb(w, dims)\n",
    "    logging.info(f\"Trying with l= {l}\")\n",
    "    s, v = create_contraints(w, n, dims, l)\n",
    "\n",
    "    while(not s.check()==sat):\n",
    "        l += 1\n",
    "        logging.info(f\"Trying again with l= {l}\")\n",
    "        s, v = create_contraints(w, n, dims, l)\n",
    "\n",
    "    model = s.model()\n",
    "    sol = compute_solution(model, v, w, n, l)\n",
    "    if visualize:\n",
    "        utils.visualize_w_color_rotation(sol, w, len(sol[0]), dims, title=f\"Instance {instance_number}, l={l}\")\n",
    "    return w, n, l, dims, sol, s"
   ]
  },
  {
   "cell_type": "code",
   "execution_count": 28,
   "metadata": {},
   "outputs": [],
   "source": [
    "def vlsi_design_all_solutions(instance_number: int, visualize = True) -> None:\n",
    "    file_path = f\"../instances/ins-{instance_number}.txt\"\n",
    "    w, n, dims = utils.read_output(file_path)\n",
    "    l = compute_lb(w, dims)\n",
    "    logging.info(f\"Trying with l= {l}\")\n",
    "    s, v = create_contraints(w, n, dims, l)\n",
    "\n",
    "    while(not s.check()==sat):\n",
    "        l += 1\n",
    "        logging.info(f\"Trying again with l= {l}\")\n",
    "        s, v = create_contraints(w, n, dims, l)\n",
    "\n",
    "\n",
    "    logging.info(f\"Found one solution for l= {l}\")\n",
    "       \n",
    "    flattened_v = np.array(v).flatten()\n",
    "    \n",
    "    solutionGenerator = all_smt(s, flattened_v)\n",
    "    solutions = [compute_solution(model, v, w, n, l) for model in solutionGenerator]\n",
    "    logging.info(f\"Found {len(solutions)} solutions with length l = {l}\")\n",
    "    if visualize:\n",
    "        for sol in solutions:\n",
    "            utils.visualize_w_color_rotation(sol, w, len(sol[0]), dims, title=f\"Instance {instance_number}, l={l}\")\n",
    "    return w, n, l, dims, solutions, solutionGenerator\n",
    "    "
   ]
  },
  {
   "cell_type": "code",
   "execution_count": 29,
   "metadata": {},
   "outputs": [],
   "source": [
    "def vlsi_design(instance_number: int, visualize = True, allSolutions=True) -> None:\n",
    "    if allSolutions:\n",
    "        return vlsi_design_all_solutions(instance_number, visualize)\n",
    "    else:\n",
    "        return vlsi_design_one_solution(instance_number, visualize)\n"
   ]
  },
  {
   "cell_type": "markdown",
   "metadata": {},
   "source": [
    "### Run the SAT VLSI-Design"
   ]
  },
  {
   "cell_type": "code",
   "execution_count": 30,
   "metadata": {},
   "outputs": [],
   "source": [
    "# Parse the solution to correct output form\n",
    "def output_results(w, l, n, dims, sol, s):\n",
    "    str = f\"{w} {l}\\n{n}\\n\"\n",
    "\n",
    "    pos = {}\n",
    "    for x in range(w):\n",
    "      for y in range(l-1, 0, -1):\n",
    "          c = sol[x][y]\n",
    "\n",
    "          if c != 0 and c not in pos:\n",
    "              pos[c] = [x, (l-1) - y]\n",
    "\n",
    "              numb = sol[x].count(c)\n",
    "              if numb != dims[c-1][1]:\n",
    "                  pos[c].append(\"R\")\n",
    "          \n",
    "    for i in range(n):\n",
    "      rotated = 0\n",
    "      if (len(pos.get(i + 1)) > 2):\n",
    "        rotated = 1\n",
    "      str += f\"{dims[i][WIDTH + rotated]} {dims[i][HEIGHT - rotated]} {pos.get(i + 1)[0]} {pos.get(i + 1)[1]}\\n\"\n",
    "    \n",
    "    str += f\"\\n{s.statistics()}\\n\"\n",
    "    return str"
   ]
  },
  {
   "cell_type": "code",
   "execution_count": 31,
   "metadata": {},
   "outputs": [
    {
     "name": "stderr",
     "output_type": "stream",
     "text": [
      "[INFO] Running file ./sat_solutions/sol_ins-1.txt\n",
      "[INFO] Trying with l= 6\n",
      "[INFO] Trying again with l= 7\n",
      "[INFO] Trying again with l= 8\n",
      "[INFO] Found one solution for l= 8\n",
      "[INFO] Looking for all solutions for l= 8\n",
      "[INFO] Have found another solution(s) for l= 8\n",
      "[INFO] Have found another solution(s) for l= 8\n",
      "[INFO] Have found another solution(s) for l= 8\n",
      "[INFO] Have found another solution(s) for l= 8\n",
      "[INFO] Have found another solution(s) for l= 8\n",
      "[INFO] Have found another solution(s) for l= 8\n",
      "[INFO] Have found another solution(s) for l= 8\n",
      "[INFO] Have found another solution(s) for l= 8\n",
      "[INFO] Have found another solution(s) for l= 8\n",
      "[INFO] Have found another solution(s) for l= 8\n",
      "[INFO] Have found another solution(s) for l= 8\n",
      "[INFO] Have found another solution(s) for l= 8\n",
      "[INFO] Found 12 solutions with length l = 8\n"
     ]
    },
    {
     "data": {
      "image/png": "[encoded data removed]",
      "text/plain": [
       "<Figure size 192x192 with 1 Axes>"
      ]
     },
     "metadata": {
      "needs_background": "light"
     },
     "output_type": "display_data"
    },
    {
     "data": {
      "image/png": "[encoded data removed]",
      "text/plain": [
       "<Figure size 192x192 with 1 Axes>"
      ]
     },
     "metadata": {
      "needs_background": "light"
     },
     "output_type": "display_data"
    },
    {
     "data": {
      "image/png": "[encoded data removed]",
      "text/plain": [
       "<Figure size 192x192 with 1 Axes>"
      ]
     },
     "metadata": {
      "needs_background": "light"
     },
     "output_type": "display_data"
    },
    {
     "data": {
      "image/png": "[encoded data removed]",
      "text/plain": [
       "<Figure size 192x192 with 1 Axes>"
      ]
     },
     "metadata": {
      "needs_background": "light"
     },
     "output_type": "display_data"
    },
    {
     "data": {
      "image/png": "[encoded data removed]",
      "text/plain": [
       "<Figure size 192x192 with 1 Axes>"
      ]
     },
     "metadata": {
      "needs_background": "light"
     },
     "output_type": "display_data"
    },
    {
     "data": {
      "image/png": "[encoded data removed]",
      "text/plain": [
       "<Figure size 192x192 with 1 Axes>"
      ]
     },
     "metadata": {
      "needs_background": "light"
     },
     "output_type": "display_data"
    },
    {
     "data": {
      "image/png": "[encoded data removed]",
      "text/plain": [
       "<Figure size 192x192 with 1 Axes>"
      ]
     },
     "metadata": {
      "needs_background": "light"
     },
     "output_type": "display_data"
    },
    {
     "data": {
      "image/png": "[encoded data removed]",
      "text/plain": [
       "<Figure size 192x192 with 1 Axes>"
      ]
     },
     "metadata": {
      "needs_background": "light"
     },
     "output_type": "display_data"
    },
    {
     "data": {
      "image/png": "[encoded data removed]",
      "text/plain": [
       "<Figure size 192x192 with 1 Axes>"
      ]
     },
     "metadata": {
      "needs_background": "light"
     },
     "output_type": "display_data"
    },
    {
     "data": {
      "image/png": "[encoded data removed]",
      "text/plain": [
       "<Figure size 192x192 with 1 Axes>"
      ]
     },
     "metadata": {
      "needs_background": "light"
     },
     "output_type": "display_data"
    },
    {
     "data": {
      "image/png": "[encoded data removed]",
      "text/plain": [
       "<Figure size 192x192 with 1 Axes>"
      ]
     },
     "metadata": {
      "needs_background": "light"
     },
     "output_type": "display_data"
    },
    {
     "data": {
      "image/png": "[encoded data removed]",
      "text/plain": [
       "<Figure size 192x192 with 1 Axes>"
      ]
     },
     "metadata": {
      "needs_background": "light"
     },
     "output_type": "display_data"
    }
   ],
   "source": [
    "for i in range(1, 2):\n",
    "    output_file = f\"./sat_solutions/sol_ins-{i}.txt\"\n",
    "    logging.info(f\"Running file {output_file}\")\n",
    "    w, n, l, dims, sol, s = vlsi_design(i)\n",
    "    \n",
    "    #output = output_results(w, l, n, dims, sol, s)\n",
    "    #utils.write_output_to_file(output_file, output)"
   ]
  },
  {
   "cell_type": "code",
   "execution_count": null,
   "metadata": {},
   "outputs": [],
   "source": []
  }
 ],
 "metadata": {
  "interpreter": {
   "hash": "aee8b7b246df8f9039afb4144a1f6fd8d2ca17a180786b69acc140d282b71a49"
  },
  "kernelspec": {
   "display_name": "Python 3.9.9 64-bit",
   "language": "python",
   "name": "python3"
  },
  "language_info": {
   "codemirror_mode": {
    "name": "ipython",
    "version": 3
   },
   "file_extension": ".py",
   "mimetype": "text/x-python",
   "name": "python",
   "nbconvert_exporter": "python",
   "pygments_lexer": "ipython3",
   "version": "3.9.9"
  },
  "orig_nbformat": 4
 },
 "nbformat": 4,
 "nbformat_minor": 2
}
