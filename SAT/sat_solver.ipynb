{
 "cells": [
  {
   "cell_type": "code",
   "execution_count": 1,
   "metadata": {},
   "outputs": [],
   "source": [
    "from itertools import combinations\n",
    "import numpy as np\n",
    "from z3 import *\n",
    "import utils"
   ]
  },
  {
   "cell_type": "code",
   "execution_count": 2,
   "metadata": {},
   "outputs": [],
   "source": [
    "WIDTH = 0\n",
    "HEIGHT = 1"
   ]
  },
  {
   "cell_type": "code",
   "execution_count": 3,
   "metadata": {},
   "outputs": [],
   "source": [
    "def at_least_one_np(bool_vars):\n",
    "    return Or(bool_vars)\n",
    "\n",
    "def at_most_one_np(bool_vars, name = \"\"):\n",
    "    return [Not(And(pair[0], pair[1])) for pair in combinations(bool_vars, 2)]\n",
    "\n",
    "def exactly_one_np(bool_vars, name = \"\"):\n",
    "    return And(at_least_one_np(bool_vars), And(at_most_one_np(bool_vars, name)))"
   ]
  },
  {
   "cell_type": "code",
   "execution_count": 4,
   "metadata": {},
   "outputs": [],
   "source": [
    "def at_least_one_seq(bool_vars):\n",
    "    return at_least_one_np(bool_vars)\n",
    "\n",
    "def at_most_one_seq(bool_vars, name):\n",
    "    constraints = []\n",
    "    n = len(bool_vars)\n",
    "    s = [Bool(f\"s_{name}_{i}\") for i in range(n - 1)] # Need the s to have unique names\n",
    "    constraints.append(Or(Not(bool_vars[0]), s[0]))\n",
    "    constraints.append(Or(Not(bool_vars[n-1]), Not(s[n-2])))\n",
    "\n",
    "    for i in range(1, n-1):\n",
    "        constraints.append(Or(Not(bool_vars[i]), s[i]))\n",
    "        constraints.append(Or(Not(s[i - 1]), s[i]))\n",
    "        constraints.append(Or(Not(bool_vars[i]), Not(s[i - 1])))\n",
    "    \n",
    "    return And(constraints)\n",
    "\n",
    "def exactly_one_seq(bool_vars, name):\n",
    "    return And(at_most_one_seq(bool_vars, name), at_least_one_seq(bool_vars))"
   ]
  },
  {
   "cell_type": "code",
   "execution_count": 5,
   "metadata": {},
   "outputs": [],
   "source": [
    "def at_least_k_seq(bool_vars, k, name):\n",
    "    return at_most_k_seq([Not(var) for var in bool_vars], len(bool_vars)-k, name)\n",
    "\n",
    "def at_most_k_seq(bool_vars, k, name):\n",
    "    constraints = []\n",
    "    n = len(bool_vars)\n",
    "    s = [[Bool(f\"s_{name}_{i}_{j}\") for j in range(k)] for i in range(n - 1)]\n",
    "    constraints.append(Or(Not(bool_vars[0]), s[0][0]))\n",
    "    constraints += [Not(s[0][j]) for j in range(1, k)]\n",
    "    for i in range(1, n-1):\n",
    "        constraints.append(Or(Not(bool_vars[i]), s[i][0]))\n",
    "        constraints.append(Or(Not(s[i-1][0]), s[i][0]))\n",
    "        constraints.append(Or(Not(bool_vars[i]), Not(s[i-1][k-1])))\n",
    "        for j in range(1, k):\n",
    "            constraints.append(Or(Not(bool_vars[i]), Not(s[i-1][j-1]), s[i][j]))\n",
    "            constraints.append(Or(Not(s[i-1][j]), s[i][j]))\n",
    "    constraints.append(Or(Not(bool_vars[n-1]), Not(s[n-2][k-1])))   \n",
    "    return And(constraints)\n",
    "\n",
    "def exactly_k_seq(bool_vars, k, name):\n",
    "    # The s list in at_most_k_seq must have unique names, so when we use it in at_least_k_seq it \n",
    "    # has to have a diffrent name from when we use it in at_most_k_seq. Hence name+\"2\"\n",
    "    return And(at_most_k_seq(bool_vars, k, name), at_least_k_seq(bool_vars, k, name+\"2\"))"
   ]
  },
  {
   "cell_type": "code",
   "execution_count": 6,
   "metadata": {},
   "outputs": [],
   "source": [
    "def coherent_cicuits(bool_vars, dims, n, w, upper_bound):\n",
    "    constraints = []\n",
    "    for c in range(n):\n",
    "        c_constraints = []\n",
    "        height = dims[c][HEIGHT]\n",
    "        width = dims[c][WIDTH]\n",
    "        for x in range(w - (width - 1)):\n",
    "            for y in range(upper_bound - (height - 1)):\n",
    "                temp = [bool_vars[x+i][y+j][c] for i in range(0, width) for j in range(0, height)]\n",
    "                # temp2 = And([Not(bool_vars[x+i][y+j][c]) for i in range(0, width) for j in range(0, height) if bool_vars[x+i][y+j][c] not in temp])\n",
    "                # cons = Or(Not(bool_vars[x][y][c]), And(temp))\n",
    "                # c_constraints.append(And(And(temp), temp2))\n",
    "                c_constraints.append(And(temp))\n",
    "        # constraints.append(Or(c_constraints))  \n",
    "        ex = exactly_one_seq(c_constraints, f\"Hello_{c}\")\n",
    "        constraints.append(ex)\n",
    "              \n",
    "    return And(constraints)\n",
    "\n"
   ]
  },
  {
   "cell_type": "code",
   "execution_count": 7,
   "metadata": {},
   "outputs": [],
   "source": [
    "def vlsi_design(w, n, dims, upper_bound):\n",
    "    s = Solver()\n",
    "    # upper_bound = sum(dims[:, 1])\n",
    "    print(\"Upper bound:\", upper_bound)\n",
    "\n",
    "    # Model the problem\n",
    "    v = [[[Bool(f\"v_{x}_{y}_{c}\") for c in range(n)] for y in range(upper_bound)] for x in range(w)]\n",
    "    \n",
    "    # At most one circuit in each grid cell\n",
    "    for x in range(w):\n",
    "        for y in range(upper_bound):\n",
    "            predicate = v[x][y]\n",
    "            # print(predicate)\n",
    "            s.add(at_most_one_seq(predicate, f\"valid_cell_{x}_{y}\"))\n",
    "    \n",
    "    # All the circuits must be placed in the grid\n",
    "    \"\"\"for c in range(n):\n",
    "        circuit_area = dims[c, WIDTH] * dims[c, HEIGHT]\n",
    "        predicate = [v[x][y][c] for x in range(w) for y in range(upper_bound)]\n",
    "        s.add(exactly_k_seq(predicate, circuit_area, f\"valid_placement_{c}\"))\"\"\"\n",
    "    \n",
    "    s.add(coherent_cicuits(v, dims, n, w, upper_bound))\n",
    "    \n",
    "    return s, v\n",
    "\n",
    "\n",
    "    \"\"\"if s.check() == sat:\n",
    "        model = s.model()\n",
    "        sol = []\n",
    "        for x in range(w):\n",
    "            sol.append([])\n",
    "            for y in range(upper_bound):\n",
    "                found_circuit = False\n",
    "                for c in range(n):\n",
    "                    if model.evaluate(v[x][y][c]):\n",
    "                        found_circuit = True\n",
    "                        sol[x].append(c+1)\n",
    "                if not found_circuit:\n",
    "                    sol[x].append(0)\n",
    "\n",
    "        return sol\n",
    "    else:\n",
    "        print(\"Buhu\")\"\"\""
   ]
  },
  {
   "cell_type": "code",
   "execution_count": 8,
   "metadata": {},
   "outputs": [
    {
     "name": "stdout",
     "output_type": "stream",
     "text": [
      "Upper bound: 6\n",
      "Trying again with l= 7\n",
      "Upper bound: 7\n",
      "Trying again with l= 8\n",
      "Upper bound: 8\n",
      "Trying again with l= 9\n",
      "Upper bound: 9\n",
      "Trying again with l= 10\n",
      "Upper bound: 10\n",
      "Trying again with l= 11\n",
      "Upper bound: 11\n"
     ]
    },
    {
     "data": {
      "image/png": "[encoded data removed]",
      "text/plain": [
       "<Figure size 288x288 with 1 Axes>"
      ]
     },
     "metadata": {
      "needs_background": "light"
     },
     "output_type": "display_data"
    }
   ],
   "source": [
    "#w = 8\n",
    "#n = 4\n",
    "#dims = np.array([[3, 3], [3, 5], [5, 3], [5, 5]])\n",
    "\n",
    "w = 11\n",
    "n = 7\n",
    "dims = np.array([[3, 3], [3, 4], [3, 5], [3, 6], [5, 3], [5, 4], [8, 4]])\n",
    "\n",
    "upperbound = sum(dims[:, 1])\n",
    "l = max(dims[:,1])\n",
    "# l = 12\n",
    "s, v = vlsi_design(w, n, dims, l)\n",
    "while(not s.check()==sat):\n",
    "    print(\"Trying again with l=\", l+1)\n",
    "    l += 1\n",
    "    s, v = vlsi_design(w, n, dims, l)\n",
    "\n",
    "\n",
    "\n",
    "model = s.model()\n",
    "sol = []\n",
    "for x in range(w):\n",
    "    sol.append([])\n",
    "    for y in range(l):\n",
    "        found_circuit = False\n",
    "        for c in range(n):\n",
    "            if model.evaluate(v[x][y][c]):\n",
    "                found_circuit = True\n",
    "                sol[x].append(c+1)\n",
    "        if not found_circuit:\n",
    "            sol[x].append(0)\n",
    "\n",
    "utils.display_sudoku(sol, w, len(sol[0]))"
   ]
  },
  {
   "cell_type": "code",
   "execution_count": null,
   "metadata": {},
   "outputs": [],
   "source": [
    "w = 8\n",
    "n = 4\n",
    "dims = np.array([[3, 3], [3, 5], [5, 3], [5, 5]])\n",
    "\n",
    "sol = vlsi_design(w, n, dims)\n",
    "len(sol)\n",
    "utils.display_sudoku(sol, w, len(sol[0]))"
   ]
  },
  {
   "cell_type": "code",
   "execution_count": 43,
   "metadata": {},
   "outputs": [
    {
     "name": "stdout",
     "output_type": "stream",
     "text": [
      "9 12 15 19 17 20 33\n"
     ]
    }
   ],
   "source": [
    "en = 0\n",
    "to =0\n",
    "tre = 0 \n",
    "fire = 0\n",
    "a = 0\n",
    "b =0\n",
    "c = 0\n",
    "\n",
    "\n",
    "for elm in sol:\n",
    "    en += elm.count(1)\n",
    "    to += elm.count(2)\n",
    "    tre += elm.count(3)\n",
    "    fire += elm.count(4)\n",
    "    a += elm.count(5)\n",
    "    b += elm.count(6)\n",
    "    c += elm.count(7)\n",
    "\n",
    "print(en, to, tre, fire, a, b, c)\n",
    "    "
   ]
  },
  {
   "cell_type": "code",
   "execution_count": null,
   "metadata": {},
   "outputs": [],
   "source": []
  }
 ],
 "metadata": {
  "interpreter": {
   "hash": "9717342062b60acdb94543fc6e94083b4e6a13af0edd7bd45e1b103ee3fa2234"
  },
  "kernelspec": {
   "display_name": "Python 3.7.9 ('venv': venv)",
   "language": "python",
   "name": "python3"
  },
  "language_info": {
   "codemirror_mode": {
    "name": "ipython",
    "version": 3
   },
   "file_extension": ".py",
   "mimetype": "text/x-python",
   "name": "python",
   "nbconvert_exporter": "python",
   "pygments_lexer": "ipython3",
   "version": "3.7.9"
  },
  "orig_nbformat": 4
 },
 "nbformat": 4,
 "nbformat_minor": 2
}
