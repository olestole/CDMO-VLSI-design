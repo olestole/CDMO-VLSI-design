{
 "cells": [
  {
   "cell_type": "code",
   "execution_count": 1,
   "metadata": {},
   "outputs": [],
   "source": [
    "from itertools import combinations\n",
    "import numpy as np\n",
    "from z3 import *\n",
    "import utils"
   ]
  },
  {
   "cell_type": "code",
   "execution_count": 2,
   "metadata": {},
   "outputs": [],
   "source": [
    "def at_least_one_np(bool_vars):\n",
    "    return Or(bool_vars)\n",
    "\n",
    "def at_most_one_np(bool_vars, name = \"\"):\n",
    "    return [Not(And(pair[0], pair[1])) for pair in combinations(bool_vars, 2)]\n",
    "\n",
    "def exactly_one_np(bool_vars, name = \"\"):\n",
    "    return And(at_least_one_np(bool_vars), And(at_most_one_np(bool_vars, name)))"
   ]
  },
  {
   "cell_type": "code",
   "execution_count": 3,
   "metadata": {},
   "outputs": [],
   "source": [
    "def at_least_one_seq(bool_vars):\n",
    "    return at_least_one_np(bool_vars)\n",
    "\n",
    "def at_most_one_seq(bool_vars, name):\n",
    "    constraints = []\n",
    "    n = len(bool_vars)\n",
    "    s = [Bool(f\"s_{name}_{i}\") for i in range(n - 1)] # Need the s to have unique names\n",
    "    constraints.append(Or(Not(bool_vars[0]), s[0]))\n",
    "    constraints.append(Or(Not(bool_vars[n-1]), Not(s[n-2])))\n",
    "\n",
    "    for i in range(1, n-1):\n",
    "        constraints.append(Or(Not(bool_vars[i]), s[i]))\n",
    "        constraints.append(Or(Not(s[i - 1]), s[i]))\n",
    "        constraints.append(Or(Not(bool_vars[i]), Not(s[i - 1])))\n",
    "    \n",
    "    return And(constraints)\n",
    "\n",
    "def exactly_one_seq(bool_vars, name):\n",
    "    return And(at_most_one_seq(bool_vars, name), at_least_one_seq(bool_vars))"
   ]
  },
  {
   "cell_type": "code",
   "execution_count": 18,
   "metadata": {},
   "outputs": [],
   "source": [
    "def at_least_k_seq(bool_vars, k, name):\n",
    "    return at_most_k_seq([Not(var) for var in bool_vars], len(bool_vars)-k, name)\n",
    "\n",
    "def at_most_k_seq(bool_vars, k, name):\n",
    "    constraints = []\n",
    "    n = len(bool_vars)\n",
    "    s = [[Bool(f\"s_{name}_{i}_{j}\") for j in range(k)] for i in range(n - 1)]\n",
    "    constraints.append(Or(Not(bool_vars[0]), s[0][0]))\n",
    "    constraints += [Not(s[0][j]) for j in range(1, k)]\n",
    "    for i in range(1, n-1):\n",
    "        constraints.append(Or(Not(bool_vars[i]), s[i][0]))\n",
    "        constraints.append(Or(Not(s[i-1][0]), s[i][0]))\n",
    "        constraints.append(Or(Not(bool_vars[i]), Not(s[i-1][k-1])))\n",
    "        for j in range(1, k):\n",
    "            constraints.append(Or(Not(bool_vars[i]), Not(s[i-1][j-1]), s[i][j]))\n",
    "            constraints.append(Or(Not(s[i-1][j]), s[i][j]))\n",
    "    constraints.append(Or(Not(bool_vars[n-1]), Not(s[n-2][k-1])))   \n",
    "    return And(constraints)\n",
    "\n",
    "def exactly_k_seq(bool_vars, k, name):\n",
    "    return And(at_most_k_seq(bool_vars, k, name), at_least_k_seq(bool_vars, k, name))"
   ]
  },
  {
   "cell_type": "code",
   "execution_count": 19,
   "metadata": {},
   "outputs": [],
   "source": [
    "WIDTH = 0\n",
    "HEIGHT = 1"
   ]
  },
  {
   "cell_type": "code",
   "execution_count": 23,
   "metadata": {},
   "outputs": [],
   "source": [
    "def vlsi_design(w, n, dims):\n",
    "    s = Solver()\n",
    "    upper_bound = sum(dims[:, 1])\n",
    "    print(\"Upper bound:\", upper_bound)\n",
    "\n",
    "    # Model the problem\n",
    "    v = [[[Bool(f\"v_{x}_{y}_{c}\") for c in range(n)] for y in range(upper_bound)] for x in range(w)]\n",
    "    \n",
    "    # At most one circuit in each grid cell\n",
    "    for x in range(w):\n",
    "        for y in range(upper_bound):\n",
    "            predicate = v[x][y]\n",
    "            # print(predicate)\n",
    "            s.add(at_most_one_seq(predicate, f\"valid_cell_{x}_{y}\"))\n",
    "    \n",
    "    # All the circuits must be placed in the grid\n",
    "    for c in range(n):\n",
    "        circuit_area = dims[c, WIDTH] * dims[c, HEIGHT]\n",
    "        print(circuit_area)\n",
    "        predicate = [v[x][y][c] for x in range(w) for y in range(upper_bound)]\n",
    "        print(predicate)\n",
    "        s.add(exactly_k_seq([v[x][y][c] for x in range(w) for y in range(upper_bound)], circuit_area, f\"valid_placement_{c}\"))\n",
    "    \n",
    "    \n",
    "    if s.check() == sat:\n",
    "        model = s.model()\n",
    "        sol = []\n",
    "        for x in range(w):\n",
    "            sol.append([])\n",
    "            for y in range(upper_bound):\n",
    "                found_circuit = False\n",
    "                for c in range(n):\n",
    "                    if model.evaluate(v[x][y][c]):\n",
    "                        found_circuit = True\n",
    "                        sol[x].append(c+1)\n",
    "                if not found_circuit:\n",
    "                    sol[x].append(0)\n",
    "\n",
    "        return sol\n",
    "    else:\n",
    "        print(\"Buhu\")"
   ]
  },
  {
   "cell_type": "code",
   "execution_count": 24,
   "metadata": {},
   "outputs": [
    {
     "name": "stdout",
     "output_type": "stream",
     "text": [
      "Upper bound: 16\n",
      "9\n",
      "[v_0_0_0, v_0_1_0, v_0_2_0, v_0_3_0, v_0_4_0, v_0_5_0, v_0_6_0, v_0_7_0, v_0_8_0, v_0_9_0, v_0_10_0, v_0_11_0, v_0_12_0, v_0_13_0, v_0_14_0, v_0_15_0, v_1_0_0, v_1_1_0, v_1_2_0, v_1_3_0, v_1_4_0, v_1_5_0, v_1_6_0, v_1_7_0, v_1_8_0, v_1_9_0, v_1_10_0, v_1_11_0, v_1_12_0, v_1_13_0, v_1_14_0, v_1_15_0, v_2_0_0, v_2_1_0, v_2_2_0, v_2_3_0, v_2_4_0, v_2_5_0, v_2_6_0, v_2_7_0, v_2_8_0, v_2_9_0, v_2_10_0, v_2_11_0, v_2_12_0, v_2_13_0, v_2_14_0, v_2_15_0, v_3_0_0, v_3_1_0, v_3_2_0, v_3_3_0, v_3_4_0, v_3_5_0, v_3_6_0, v_3_7_0, v_3_8_0, v_3_9_0, v_3_10_0, v_3_11_0, v_3_12_0, v_3_13_0, v_3_14_0, v_3_15_0, v_4_0_0, v_4_1_0, v_4_2_0, v_4_3_0, v_4_4_0, v_4_5_0, v_4_6_0, v_4_7_0, v_4_8_0, v_4_9_0, v_4_10_0, v_4_11_0, v_4_12_0, v_4_13_0, v_4_14_0, v_4_15_0, v_5_0_0, v_5_1_0, v_5_2_0, v_5_3_0, v_5_4_0, v_5_5_0, v_5_6_0, v_5_7_0, v_5_8_0, v_5_9_0, v_5_10_0, v_5_11_0, v_5_12_0, v_5_13_0, v_5_14_0, v_5_15_0, v_6_0_0, v_6_1_0, v_6_2_0, v_6_3_0, v_6_4_0, v_6_5_0, v_6_6_0, v_6_7_0, v_6_8_0, v_6_9_0, v_6_10_0, v_6_11_0, v_6_12_0, v_6_13_0, v_6_14_0, v_6_15_0, v_7_0_0, v_7_1_0, v_7_2_0, v_7_3_0, v_7_4_0, v_7_5_0, v_7_6_0, v_7_7_0, v_7_8_0, v_7_9_0, v_7_10_0, v_7_11_0, v_7_12_0, v_7_13_0, v_7_14_0, v_7_15_0]\n",
      "15\n",
      "[v_0_0_1, v_0_1_1, v_0_2_1, v_0_3_1, v_0_4_1, v_0_5_1, v_0_6_1, v_0_7_1, v_0_8_1, v_0_9_1, v_0_10_1, v_0_11_1, v_0_12_1, v_0_13_1, v_0_14_1, v_0_15_1, v_1_0_1, v_1_1_1, v_1_2_1, v_1_3_1, v_1_4_1, v_1_5_1, v_1_6_1, v_1_7_1, v_1_8_1, v_1_9_1, v_1_10_1, v_1_11_1, v_1_12_1, v_1_13_1, v_1_14_1, v_1_15_1, v_2_0_1, v_2_1_1, v_2_2_1, v_2_3_1, v_2_4_1, v_2_5_1, v_2_6_1, v_2_7_1, v_2_8_1, v_2_9_1, v_2_10_1, v_2_11_1, v_2_12_1, v_2_13_1, v_2_14_1, v_2_15_1, v_3_0_1, v_3_1_1, v_3_2_1, v_3_3_1, v_3_4_1, v_3_5_1, v_3_6_1, v_3_7_1, v_3_8_1, v_3_9_1, v_3_10_1, v_3_11_1, v_3_12_1, v_3_13_1, v_3_14_1, v_3_15_1, v_4_0_1, v_4_1_1, v_4_2_1, v_4_3_1, v_4_4_1, v_4_5_1, v_4_6_1, v_4_7_1, v_4_8_1, v_4_9_1, v_4_10_1, v_4_11_1, v_4_12_1, v_4_13_1, v_4_14_1, v_4_15_1, v_5_0_1, v_5_1_1, v_5_2_1, v_5_3_1, v_5_4_1, v_5_5_1, v_5_6_1, v_5_7_1, v_5_8_1, v_5_9_1, v_5_10_1, v_5_11_1, v_5_12_1, v_5_13_1, v_5_14_1, v_5_15_1, v_6_0_1, v_6_1_1, v_6_2_1, v_6_3_1, v_6_4_1, v_6_5_1, v_6_6_1, v_6_7_1, v_6_8_1, v_6_9_1, v_6_10_1, v_6_11_1, v_6_12_1, v_6_13_1, v_6_14_1, v_6_15_1, v_7_0_1, v_7_1_1, v_7_2_1, v_7_3_1, v_7_4_1, v_7_5_1, v_7_6_1, v_7_7_1, v_7_8_1, v_7_9_1, v_7_10_1, v_7_11_1, v_7_12_1, v_7_13_1, v_7_14_1, v_7_15_1]\n",
      "15\n",
      "[v_0_0_2, v_0_1_2, v_0_2_2, v_0_3_2, v_0_4_2, v_0_5_2, v_0_6_2, v_0_7_2, v_0_8_2, v_0_9_2, v_0_10_2, v_0_11_2, v_0_12_2, v_0_13_2, v_0_14_2, v_0_15_2, v_1_0_2, v_1_1_2, v_1_2_2, v_1_3_2, v_1_4_2, v_1_5_2, v_1_6_2, v_1_7_2, v_1_8_2, v_1_9_2, v_1_10_2, v_1_11_2, v_1_12_2, v_1_13_2, v_1_14_2, v_1_15_2, v_2_0_2, v_2_1_2, v_2_2_2, v_2_3_2, v_2_4_2, v_2_5_2, v_2_6_2, v_2_7_2, v_2_8_2, v_2_9_2, v_2_10_2, v_2_11_2, v_2_12_2, v_2_13_2, v_2_14_2, v_2_15_2, v_3_0_2, v_3_1_2, v_3_2_2, v_3_3_2, v_3_4_2, v_3_5_2, v_3_6_2, v_3_7_2, v_3_8_2, v_3_9_2, v_3_10_2, v_3_11_2, v_3_12_2, v_3_13_2, v_3_14_2, v_3_15_2, v_4_0_2, v_4_1_2, v_4_2_2, v_4_3_2, v_4_4_2, v_4_5_2, v_4_6_2, v_4_7_2, v_4_8_2, v_4_9_2, v_4_10_2, v_4_11_2, v_4_12_2, v_4_13_2, v_4_14_2, v_4_15_2, v_5_0_2, v_5_1_2, v_5_2_2, v_5_3_2, v_5_4_2, v_5_5_2, v_5_6_2, v_5_7_2, v_5_8_2, v_5_9_2, v_5_10_2, v_5_11_2, v_5_12_2, v_5_13_2, v_5_14_2, v_5_15_2, v_6_0_2, v_6_1_2, v_6_2_2, v_6_3_2, v_6_4_2, v_6_5_2, v_6_6_2, v_6_7_2, v_6_8_2, v_6_9_2, v_6_10_2, v_6_11_2, v_6_12_2, v_6_13_2, v_6_14_2, v_6_15_2, v_7_0_2, v_7_1_2, v_7_2_2, v_7_3_2, v_7_4_2, v_7_5_2, v_7_6_2, v_7_7_2, v_7_8_2, v_7_9_2, v_7_10_2, v_7_11_2, v_7_12_2, v_7_13_2, v_7_14_2, v_7_15_2]\n",
      "25\n",
      "[v_0_0_3, v_0_1_3, v_0_2_3, v_0_3_3, v_0_4_3, v_0_5_3, v_0_6_3, v_0_7_3, v_0_8_3, v_0_9_3, v_0_10_3, v_0_11_3, v_0_12_3, v_0_13_3, v_0_14_3, v_0_15_3, v_1_0_3, v_1_1_3, v_1_2_3, v_1_3_3, v_1_4_3, v_1_5_3, v_1_6_3, v_1_7_3, v_1_8_3, v_1_9_3, v_1_10_3, v_1_11_3, v_1_12_3, v_1_13_3, v_1_14_3, v_1_15_3, v_2_0_3, v_2_1_3, v_2_2_3, v_2_3_3, v_2_4_3, v_2_5_3, v_2_6_3, v_2_7_3, v_2_8_3, v_2_9_3, v_2_10_3, v_2_11_3, v_2_12_3, v_2_13_3, v_2_14_3, v_2_15_3, v_3_0_3, v_3_1_3, v_3_2_3, v_3_3_3, v_3_4_3, v_3_5_3, v_3_6_3, v_3_7_3, v_3_8_3, v_3_9_3, v_3_10_3, v_3_11_3, v_3_12_3, v_3_13_3, v_3_14_3, v_3_15_3, v_4_0_3, v_4_1_3, v_4_2_3, v_4_3_3, v_4_4_3, v_4_5_3, v_4_6_3, v_4_7_3, v_4_8_3, v_4_9_3, v_4_10_3, v_4_11_3, v_4_12_3, v_4_13_3, v_4_14_3, v_4_15_3, v_5_0_3, v_5_1_3, v_5_2_3, v_5_3_3, v_5_4_3, v_5_5_3, v_5_6_3, v_5_7_3, v_5_8_3, v_5_9_3, v_5_10_3, v_5_11_3, v_5_12_3, v_5_13_3, v_5_14_3, v_5_15_3, v_6_0_3, v_6_1_3, v_6_2_3, v_6_3_3, v_6_4_3, v_6_5_3, v_6_6_3, v_6_7_3, v_6_8_3, v_6_9_3, v_6_10_3, v_6_11_3, v_6_12_3, v_6_13_3, v_6_14_3, v_6_15_3, v_7_0_3, v_7_1_3, v_7_2_3, v_7_3_3, v_7_4_3, v_7_5_3, v_7_6_3, v_7_7_3, v_7_8_3, v_7_9_3, v_7_10_3, v_7_11_3, v_7_12_3, v_7_13_3, v_7_14_3, v_7_15_3]\n",
      "Buhu\n"
     ]
    },
    {
     "ename": "TypeError",
     "evalue": "object of type 'NoneType' has no len()",
     "output_type": "error",
     "traceback": [
      "\u001b[0;31m---------------------------------------------------------------------------\u001b[0m",
      "\u001b[0;31mTypeError\u001b[0m                                 Traceback (most recent call last)",
      "\u001b[0;32m/var/folders/vn/xw7vy4yj4p59wc8lpy7gnh200000gn/T/ipykernel_9113/2099607496.py\u001b[0m in \u001b[0;36m<module>\u001b[0;34m\u001b[0m\n\u001b[1;32m      4\u001b[0m \u001b[0;34m\u001b[0m\u001b[0m\n\u001b[1;32m      5\u001b[0m \u001b[0msol\u001b[0m \u001b[0;34m=\u001b[0m \u001b[0mvlsi_design\u001b[0m\u001b[0;34m(\u001b[0m\u001b[0mw\u001b[0m\u001b[0;34m,\u001b[0m \u001b[0mn\u001b[0m\u001b[0;34m,\u001b[0m \u001b[0mdims\u001b[0m\u001b[0;34m)\u001b[0m\u001b[0;34m\u001b[0m\u001b[0;34m\u001b[0m\u001b[0m\n\u001b[0;32m----> 6\u001b[0;31m \u001b[0mutils\u001b[0m\u001b[0;34m.\u001b[0m\u001b[0mdisplay_sudoku\u001b[0m\u001b[0;34m(\u001b[0m\u001b[0msol\u001b[0m\u001b[0;34m,\u001b[0m \u001b[0mw\u001b[0m\u001b[0;34m,\u001b[0m \u001b[0mlen\u001b[0m\u001b[0;34m(\u001b[0m\u001b[0msol\u001b[0m\u001b[0;34m)\u001b[0m\u001b[0;34m)\u001b[0m\u001b[0;34m\u001b[0m\u001b[0;34m\u001b[0m\u001b[0m\n\u001b[0m",
      "\u001b[0;31mTypeError\u001b[0m: object of type 'NoneType' has no len()"
     ]
    }
   ],
   "source": [
    "w = 8\n",
    "n = 4\n",
    "dims = np.array([[3, 3], [3, 5], [5, 3], [5, 5]])\n",
    "\n",
    "sol = vlsi_design(w, n, dims)\n",
    "utils.display_sudoku(sol, w, len(sol))"
   ]
  },
  {
   "cell_type": "code",
   "execution_count": null,
   "metadata": {},
   "outputs": [],
   "source": []
  }
 ],
 "metadata": {
  "interpreter": {
   "hash": "9717342062b60acdb94543fc6e94083b4e6a13af0edd7bd45e1b103ee3fa2234"
  },
  "kernelspec": {
   "display_name": "Python 3.7.9 ('venv': venv)",
   "language": "python",
   "name": "python3"
  },
  "language_info": {
   "codemirror_mode": {
    "name": "ipython",
    "version": 3
   },
   "file_extension": ".py",
   "mimetype": "text/x-python",
   "name": "python",
   "nbconvert_exporter": "python",
   "pygments_lexer": "ipython3",
   "version": "3.7.9"
  },
  "orig_nbformat": 4
 },
 "nbformat": 4,
 "nbformat_minor": 2
}
