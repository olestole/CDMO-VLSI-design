{
 "cells": [
  {
   "cell_type": "code",
   "execution_count": 87,
   "metadata": {},
   "outputs": [],
   "source": [
    "import numpy as np\n",
    "import matplotlib.pyplot as plt\n",
    "import matplotlib.patches as patches\n",
    "import math\n",
    "import os\n"
   ]
  },
  {
   "cell_type": "code",
   "execution_count": 88,
   "metadata": {},
   "outputs": [],
   "source": [
    "def read_output(filename):\n",
    "    arr = []\n",
    "    with open(filename) as f:\n",
    "        for line in f:\n",
    "            elm = line.strip().split(' ')\n",
    "            int_elm = [int(elm) for elm in elm]\n",
    "            arr.append(int_elm)\n",
    "    return arr"
   ]
  },
  {
   "cell_type": "code",
   "execution_count": 89,
   "metadata": {},
   "outputs": [],
   "source": [
    "def visualize_output(output):\n",
    "    w = output[0][0]\n",
    "    l = output[0][1]\n",
    "    n = output[1][0]\n",
    "    roation = output[-1]\n",
    "    if len(roation) != n:\n",
    "            roation = [0]*n\n",
    "            output.append(roation)\n",
    "    elif n==4:\n",
    "            if not all([ r == 0 or r == 1 for r in roation ]):\n",
    "                roation = [0]*n\n",
    "                output.append(roation)\n",
    "\n",
    "    colors = np.array(['red', 'green', 'blue', 'yellow', 'orange', 'pink', 'purple', 'brown']*(math.ceil(n/8)))\n",
    "\n",
    "\n",
    "    fig = plt.figure(figsize=(w/2, l/2))\n",
    "    ax = fig.gca()\n",
    "    ax.set_xticks(np.arange(0, w+1, 1))\n",
    "    ax.set_yticks(np.arange(0, l+1, 1))\n",
    "    plt.grid()\n",
    "    for i, [width, height, x, y] in enumerate(np.array(output[2:-1])):\n",
    "        rect = patches.Rectangle((x, y), width, height, linewidth=10 if roation[i] else 3, edgecolor='orange' if roation[i] else 'black', facecolor=colors[i])\n",
    "        ax.add_patch(rect)\n",
    "    plt.show()\n",
    "    return fig"
   ]
  },
  {
   "cell_type": "code",
   "execution_count": 90,
   "metadata": {},
   "outputs": [
    {
     "data": {
      "image/png": "[encoded data removed]",
      "text/plain": [
       "<Figure size 288x288 with 1 Axes>"
      ]
     },
     "metadata": {
      "needs_background": "light"
     },
     "output_type": "display_data"
    }
   ],
   "source": [
    "filename = 'sol_ins-1.txt'\n",
    "file_path = os.path.join(\"cp_solutions\", filename)\n",
    "\n",
    "output = read_output(file_path)\n",
    "output\n",
    "f = visualize_output(output)"
   ]
  },
  {
   "cell_type": "code",
   "execution_count": 91,
   "metadata": {},
   "outputs": [
    {
     "data": {
      "image/png": "[encoded data removed]",
      "text/plain": [
       "<Figure size 612x612 with 1 Axes>"
      ]
     },
     "metadata": {
      "needs_background": "light"
     },
     "output_type": "display_data"
    }
   ],
   "source": [
    "filename = 'sol_ins-40.txt'\n",
    "file_path = os.path.join(\"cp_solutions\", filename)\n",
    "\n",
    "output = read_output(file_path)\n",
    "output\n",
    "f = visualize_output(output)"
   ]
  },
  {
   "cell_type": "code",
   "execution_count": null,
   "metadata": {},
   "outputs": [],
   "source": []
  }
 ],
 "metadata": {
  "interpreter": {
   "hash": "ac2eaa0ea0ebeafcc7822e65e46aa9d4f966f30b695406963e145ea4a91cd4fc"
  },
  "kernelspec": {
   "display_name": "Python 3.9.9 64-bit",
   "language": "python",
   "name": "python3"
  },
  "language_info": {
   "codemirror_mode": {
    "name": "ipython",
    "version": 3
   },
   "file_extension": ".py",
   "mimetype": "text/x-python",
   "name": "python",
   "nbconvert_exporter": "python",
   "pygments_lexer": "ipython3",
   "version": "3.7.9"
  },
  "orig_nbformat": 4
 },
 "nbformat": 4,
 "nbformat_minor": 2
}
